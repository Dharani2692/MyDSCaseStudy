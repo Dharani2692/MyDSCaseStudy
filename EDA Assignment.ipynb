{
 "cells": [
  {
   "cell_type": "code",
   "execution_count": 1,
   "id": "c36fd9f4",
   "metadata": {},
   "outputs": [],
   "source": [
    "import pandas as pd\n",
    "import numpy as np\n",
    "import matplotlib.pyplot as plt\n",
    "import seaborn as sns"
   ]
  },
  {
   "cell_type": "code",
   "execution_count": 2,
   "id": "5d393629",
   "metadata": {},
   "outputs": [],
   "source": [
    "appData=pd.read_csv(\"application_data.csv\")"
   ]
  },
  {
   "cell_type": "code",
   "execution_count": 3,
   "id": "30dbda19",
   "metadata": {
    "scrolled": true
   },
   "outputs": [
    {
     "data": {
      "text/html": [
       "<div>\n",
       "<style scoped>\n",
       "    .dataframe tbody tr th:only-of-type {\n",
       "        vertical-align: middle;\n",
       "    }\n",
       "\n",
       "    .dataframe tbody tr th {\n",
       "        vertical-align: top;\n",
       "    }\n",
       "\n",
       "    .dataframe thead th {\n",
       "        text-align: right;\n",
       "    }\n",
       "</style>\n",
       "<table border=\"1\" class=\"dataframe\">\n",
       "  <thead>\n",
       "    <tr style=\"text-align: right;\">\n",
       "      <th></th>\n",
       "      <th>SK_ID_CURR</th>\n",
       "      <th>TARGET</th>\n",
       "      <th>NAME_CONTRACT_TYPE</th>\n",
       "      <th>CODE_GENDER</th>\n",
       "      <th>FLAG_OWN_CAR</th>\n",
       "      <th>FLAG_OWN_REALTY</th>\n",
       "      <th>CNT_CHILDREN</th>\n",
       "      <th>AMT_INCOME_TOTAL</th>\n",
       "      <th>AMT_CREDIT</th>\n",
       "      <th>AMT_ANNUITY</th>\n",
       "      <th>...</th>\n",
       "      <th>FLAG_DOCUMENT_18</th>\n",
       "      <th>FLAG_DOCUMENT_19</th>\n",
       "      <th>FLAG_DOCUMENT_20</th>\n",
       "      <th>FLAG_DOCUMENT_21</th>\n",
       "      <th>AMT_REQ_CREDIT_BUREAU_HOUR</th>\n",
       "      <th>AMT_REQ_CREDIT_BUREAU_DAY</th>\n",
       "      <th>AMT_REQ_CREDIT_BUREAU_WEEK</th>\n",
       "      <th>AMT_REQ_CREDIT_BUREAU_MON</th>\n",
       "      <th>AMT_REQ_CREDIT_BUREAU_QRT</th>\n",
       "      <th>AMT_REQ_CREDIT_BUREAU_YEAR</th>\n",
       "    </tr>\n",
       "  </thead>\n",
       "  <tbody>\n",
       "    <tr>\n",
       "      <th>0</th>\n",
       "      <td>100002</td>\n",
       "      <td>1</td>\n",
       "      <td>Cash loans</td>\n",
       "      <td>M</td>\n",
       "      <td>N</td>\n",
       "      <td>Y</td>\n",
       "      <td>0</td>\n",
       "      <td>202500.0</td>\n",
       "      <td>406597.5</td>\n",
       "      <td>24700.5</td>\n",
       "      <td>...</td>\n",
       "      <td>0</td>\n",
       "      <td>0</td>\n",
       "      <td>0</td>\n",
       "      <td>0</td>\n",
       "      <td>0.0</td>\n",
       "      <td>0.0</td>\n",
       "      <td>0.0</td>\n",
       "      <td>0.0</td>\n",
       "      <td>0.0</td>\n",
       "      <td>1.0</td>\n",
       "    </tr>\n",
       "    <tr>\n",
       "      <th>1</th>\n",
       "      <td>100003</td>\n",
       "      <td>0</td>\n",
       "      <td>Cash loans</td>\n",
       "      <td>F</td>\n",
       "      <td>N</td>\n",
       "      <td>N</td>\n",
       "      <td>0</td>\n",
       "      <td>270000.0</td>\n",
       "      <td>1293502.5</td>\n",
       "      <td>35698.5</td>\n",
       "      <td>...</td>\n",
       "      <td>0</td>\n",
       "      <td>0</td>\n",
       "      <td>0</td>\n",
       "      <td>0</td>\n",
       "      <td>0.0</td>\n",
       "      <td>0.0</td>\n",
       "      <td>0.0</td>\n",
       "      <td>0.0</td>\n",
       "      <td>0.0</td>\n",
       "      <td>0.0</td>\n",
       "    </tr>\n",
       "    <tr>\n",
       "      <th>2</th>\n",
       "      <td>100004</td>\n",
       "      <td>0</td>\n",
       "      <td>Revolving loans</td>\n",
       "      <td>M</td>\n",
       "      <td>Y</td>\n",
       "      <td>Y</td>\n",
       "      <td>0</td>\n",
       "      <td>67500.0</td>\n",
       "      <td>135000.0</td>\n",
       "      <td>6750.0</td>\n",
       "      <td>...</td>\n",
       "      <td>0</td>\n",
       "      <td>0</td>\n",
       "      <td>0</td>\n",
       "      <td>0</td>\n",
       "      <td>0.0</td>\n",
       "      <td>0.0</td>\n",
       "      <td>0.0</td>\n",
       "      <td>0.0</td>\n",
       "      <td>0.0</td>\n",
       "      <td>0.0</td>\n",
       "    </tr>\n",
       "    <tr>\n",
       "      <th>3</th>\n",
       "      <td>100006</td>\n",
       "      <td>0</td>\n",
       "      <td>Cash loans</td>\n",
       "      <td>F</td>\n",
       "      <td>N</td>\n",
       "      <td>Y</td>\n",
       "      <td>0</td>\n",
       "      <td>135000.0</td>\n",
       "      <td>312682.5</td>\n",
       "      <td>29686.5</td>\n",
       "      <td>...</td>\n",
       "      <td>0</td>\n",
       "      <td>0</td>\n",
       "      <td>0</td>\n",
       "      <td>0</td>\n",
       "      <td>NaN</td>\n",
       "      <td>NaN</td>\n",
       "      <td>NaN</td>\n",
       "      <td>NaN</td>\n",
       "      <td>NaN</td>\n",
       "      <td>NaN</td>\n",
       "    </tr>\n",
       "    <tr>\n",
       "      <th>4</th>\n",
       "      <td>100007</td>\n",
       "      <td>0</td>\n",
       "      <td>Cash loans</td>\n",
       "      <td>M</td>\n",
       "      <td>N</td>\n",
       "      <td>Y</td>\n",
       "      <td>0</td>\n",
       "      <td>121500.0</td>\n",
       "      <td>513000.0</td>\n",
       "      <td>21865.5</td>\n",
       "      <td>...</td>\n",
       "      <td>0</td>\n",
       "      <td>0</td>\n",
       "      <td>0</td>\n",
       "      <td>0</td>\n",
       "      <td>0.0</td>\n",
       "      <td>0.0</td>\n",
       "      <td>0.0</td>\n",
       "      <td>0.0</td>\n",
       "      <td>0.0</td>\n",
       "      <td>0.0</td>\n",
       "    </tr>\n",
       "  </tbody>\n",
       "</table>\n",
       "<p>5 rows × 122 columns</p>\n",
       "</div>"
      ],
      "text/plain": [
       "   SK_ID_CURR  TARGET NAME_CONTRACT_TYPE CODE_GENDER FLAG_OWN_CAR  \\\n",
       "0      100002       1         Cash loans           M            N   \n",
       "1      100003       0         Cash loans           F            N   \n",
       "2      100004       0    Revolving loans           M            Y   \n",
       "3      100006       0         Cash loans           F            N   \n",
       "4      100007       0         Cash loans           M            N   \n",
       "\n",
       "  FLAG_OWN_REALTY  CNT_CHILDREN  AMT_INCOME_TOTAL  AMT_CREDIT  AMT_ANNUITY  \\\n",
       "0               Y             0          202500.0    406597.5      24700.5   \n",
       "1               N             0          270000.0   1293502.5      35698.5   \n",
       "2               Y             0           67500.0    135000.0       6750.0   \n",
       "3               Y             0          135000.0    312682.5      29686.5   \n",
       "4               Y             0          121500.0    513000.0      21865.5   \n",
       "\n",
       "   ...  FLAG_DOCUMENT_18 FLAG_DOCUMENT_19 FLAG_DOCUMENT_20 FLAG_DOCUMENT_21  \\\n",
       "0  ...                 0                0                0                0   \n",
       "1  ...                 0                0                0                0   \n",
       "2  ...                 0                0                0                0   \n",
       "3  ...                 0                0                0                0   \n",
       "4  ...                 0                0                0                0   \n",
       "\n",
       "  AMT_REQ_CREDIT_BUREAU_HOUR AMT_REQ_CREDIT_BUREAU_DAY  \\\n",
       "0                        0.0                       0.0   \n",
       "1                        0.0                       0.0   \n",
       "2                        0.0                       0.0   \n",
       "3                        NaN                       NaN   \n",
       "4                        0.0                       0.0   \n",
       "\n",
       "   AMT_REQ_CREDIT_BUREAU_WEEK  AMT_REQ_CREDIT_BUREAU_MON  \\\n",
       "0                         0.0                        0.0   \n",
       "1                         0.0                        0.0   \n",
       "2                         0.0                        0.0   \n",
       "3                         NaN                        NaN   \n",
       "4                         0.0                        0.0   \n",
       "\n",
       "   AMT_REQ_CREDIT_BUREAU_QRT  AMT_REQ_CREDIT_BUREAU_YEAR  \n",
       "0                        0.0                         1.0  \n",
       "1                        0.0                         0.0  \n",
       "2                        0.0                         0.0  \n",
       "3                        NaN                         NaN  \n",
       "4                        0.0                         0.0  \n",
       "\n",
       "[5 rows x 122 columns]"
      ]
     },
     "execution_count": 3,
     "metadata": {},
     "output_type": "execute_result"
    }
   ],
   "source": [
    "appData.head()"
   ]
  },
  {
   "cell_type": "code",
   "execution_count": 4,
   "id": "68f21c04",
   "metadata": {},
   "outputs": [
    {
     "name": "stdout",
     "output_type": "stream",
     "text": [
      "<class 'pandas.core.frame.DataFrame'>\n",
      "RangeIndex: 307511 entries, 0 to 307510\n",
      "Columns: 122 entries, SK_ID_CURR to AMT_REQ_CREDIT_BUREAU_YEAR\n",
      "dtypes: float64(65), int64(41), object(16)\n",
      "memory usage: 286.2+ MB\n"
     ]
    }
   ],
   "source": [
    "appData.info()"
   ]
  },
  {
   "cell_type": "code",
   "execution_count": 5,
   "id": "b9e25323",
   "metadata": {},
   "outputs": [
    {
     "name": "stdout",
     "output_type": "stream",
     "text": [
      "<class 'pandas.core.frame.DataFrame'>\n",
      "RangeIndex: 307511 entries, 0 to 307510\n",
      "Columns: 122 entries, SK_ID_CURR to AMT_REQ_CREDIT_BUREAU_YEAR\n",
      "dtypes: float64(65), int64(41), object(16)\n",
      "memory usage: 286.2+ MB\n"
     ]
    }
   ],
   "source": [
    "appData.info()"
   ]
  },
  {
   "cell_type": "markdown",
   "id": "b474d841",
   "metadata": {},
   "source": [
    "# Data Cleaning"
   ]
  },
  {
   "cell_type": "markdown",
   "id": "82852e40",
   "metadata": {},
   "source": [
    "check for redundancy - Sample ID(SK_ID_CURR)"
   ]
  },
  {
   "cell_type": "code",
   "execution_count": 6,
   "id": "455c453f",
   "metadata": {},
   "outputs": [
    {
     "data": {
      "text/plain": [
       "0"
      ]
     },
     "execution_count": 6,
     "metadata": {},
     "output_type": "execute_result"
    }
   ],
   "source": [
    "(appData[\"SK_ID_CURR\"].value_counts()>1).sum()"
   ]
  },
  {
   "cell_type": "markdown",
   "id": "3687063c",
   "metadata": {},
   "source": [
    "Check for unwanted Columns"
   ]
  },
  {
   "cell_type": "code",
   "execution_count": 7,
   "id": "695c23de",
   "metadata": {},
   "outputs": [
    {
     "data": {
      "text/plain": [
       "Unaccompanied      248526\n",
       "Family              40149\n",
       "Spouse, partner     11370\n",
       "Children             3267\n",
       "Other_B              1770\n",
       "Other_A               866\n",
       "Group of people       271\n",
       "Name: NAME_TYPE_SUITE, dtype: int64"
      ]
     },
     "execution_count": 7,
     "metadata": {},
     "output_type": "execute_result"
    }
   ],
   "source": [
    "appData[\"NAME_TYPE_SUITE\"].value_counts()"
   ]
  },
  {
   "cell_type": "code",
   "execution_count": 8,
   "id": "b8ac0784",
   "metadata": {},
   "outputs": [],
   "source": [
    "app=appData.drop(\"NAME_TYPE_SUITE\",axis=1)"
   ]
  },
  {
   "cell_type": "code",
   "execution_count": 9,
   "id": "c080426b",
   "metadata": {},
   "outputs": [
    {
     "data": {
      "text/html": [
       "<div>\n",
       "<style scoped>\n",
       "    .dataframe tbody tr th:only-of-type {\n",
       "        vertical-align: middle;\n",
       "    }\n",
       "\n",
       "    .dataframe tbody tr th {\n",
       "        vertical-align: top;\n",
       "    }\n",
       "\n",
       "    .dataframe thead th {\n",
       "        text-align: right;\n",
       "    }\n",
       "</style>\n",
       "<table border=\"1\" class=\"dataframe\">\n",
       "  <thead>\n",
       "    <tr style=\"text-align: right;\">\n",
       "      <th></th>\n",
       "      <th>SK_ID_CURR</th>\n",
       "      <th>TARGET</th>\n",
       "      <th>NAME_CONTRACT_TYPE</th>\n",
       "      <th>CODE_GENDER</th>\n",
       "      <th>FLAG_OWN_CAR</th>\n",
       "      <th>FLAG_OWN_REALTY</th>\n",
       "      <th>CNT_CHILDREN</th>\n",
       "      <th>AMT_INCOME_TOTAL</th>\n",
       "      <th>AMT_CREDIT</th>\n",
       "      <th>AMT_ANNUITY</th>\n",
       "      <th>...</th>\n",
       "      <th>FLAG_DOCUMENT_18</th>\n",
       "      <th>FLAG_DOCUMENT_19</th>\n",
       "      <th>FLAG_DOCUMENT_20</th>\n",
       "      <th>FLAG_DOCUMENT_21</th>\n",
       "      <th>AMT_REQ_CREDIT_BUREAU_HOUR</th>\n",
       "      <th>AMT_REQ_CREDIT_BUREAU_DAY</th>\n",
       "      <th>AMT_REQ_CREDIT_BUREAU_WEEK</th>\n",
       "      <th>AMT_REQ_CREDIT_BUREAU_MON</th>\n",
       "      <th>AMT_REQ_CREDIT_BUREAU_QRT</th>\n",
       "      <th>AMT_REQ_CREDIT_BUREAU_YEAR</th>\n",
       "    </tr>\n",
       "  </thead>\n",
       "  <tbody>\n",
       "    <tr>\n",
       "      <th>0</th>\n",
       "      <td>100002</td>\n",
       "      <td>1</td>\n",
       "      <td>Cash loans</td>\n",
       "      <td>M</td>\n",
       "      <td>N</td>\n",
       "      <td>Y</td>\n",
       "      <td>0</td>\n",
       "      <td>202500.0</td>\n",
       "      <td>406597.5</td>\n",
       "      <td>24700.5</td>\n",
       "      <td>...</td>\n",
       "      <td>0</td>\n",
       "      <td>0</td>\n",
       "      <td>0</td>\n",
       "      <td>0</td>\n",
       "      <td>0.0</td>\n",
       "      <td>0.0</td>\n",
       "      <td>0.0</td>\n",
       "      <td>0.0</td>\n",
       "      <td>0.0</td>\n",
       "      <td>1.0</td>\n",
       "    </tr>\n",
       "    <tr>\n",
       "      <th>1</th>\n",
       "      <td>100003</td>\n",
       "      <td>0</td>\n",
       "      <td>Cash loans</td>\n",
       "      <td>F</td>\n",
       "      <td>N</td>\n",
       "      <td>N</td>\n",
       "      <td>0</td>\n",
       "      <td>270000.0</td>\n",
       "      <td>1293502.5</td>\n",
       "      <td>35698.5</td>\n",
       "      <td>...</td>\n",
       "      <td>0</td>\n",
       "      <td>0</td>\n",
       "      <td>0</td>\n",
       "      <td>0</td>\n",
       "      <td>0.0</td>\n",
       "      <td>0.0</td>\n",
       "      <td>0.0</td>\n",
       "      <td>0.0</td>\n",
       "      <td>0.0</td>\n",
       "      <td>0.0</td>\n",
       "    </tr>\n",
       "    <tr>\n",
       "      <th>2</th>\n",
       "      <td>100004</td>\n",
       "      <td>0</td>\n",
       "      <td>Revolving loans</td>\n",
       "      <td>M</td>\n",
       "      <td>Y</td>\n",
       "      <td>Y</td>\n",
       "      <td>0</td>\n",
       "      <td>67500.0</td>\n",
       "      <td>135000.0</td>\n",
       "      <td>6750.0</td>\n",
       "      <td>...</td>\n",
       "      <td>0</td>\n",
       "      <td>0</td>\n",
       "      <td>0</td>\n",
       "      <td>0</td>\n",
       "      <td>0.0</td>\n",
       "      <td>0.0</td>\n",
       "      <td>0.0</td>\n",
       "      <td>0.0</td>\n",
       "      <td>0.0</td>\n",
       "      <td>0.0</td>\n",
       "    </tr>\n",
       "    <tr>\n",
       "      <th>3</th>\n",
       "      <td>100006</td>\n",
       "      <td>0</td>\n",
       "      <td>Cash loans</td>\n",
       "      <td>F</td>\n",
       "      <td>N</td>\n",
       "      <td>Y</td>\n",
       "      <td>0</td>\n",
       "      <td>135000.0</td>\n",
       "      <td>312682.5</td>\n",
       "      <td>29686.5</td>\n",
       "      <td>...</td>\n",
       "      <td>0</td>\n",
       "      <td>0</td>\n",
       "      <td>0</td>\n",
       "      <td>0</td>\n",
       "      <td>NaN</td>\n",
       "      <td>NaN</td>\n",
       "      <td>NaN</td>\n",
       "      <td>NaN</td>\n",
       "      <td>NaN</td>\n",
       "      <td>NaN</td>\n",
       "    </tr>\n",
       "    <tr>\n",
       "      <th>4</th>\n",
       "      <td>100007</td>\n",
       "      <td>0</td>\n",
       "      <td>Cash loans</td>\n",
       "      <td>M</td>\n",
       "      <td>N</td>\n",
       "      <td>Y</td>\n",
       "      <td>0</td>\n",
       "      <td>121500.0</td>\n",
       "      <td>513000.0</td>\n",
       "      <td>21865.5</td>\n",
       "      <td>...</td>\n",
       "      <td>0</td>\n",
       "      <td>0</td>\n",
       "      <td>0</td>\n",
       "      <td>0</td>\n",
       "      <td>0.0</td>\n",
       "      <td>0.0</td>\n",
       "      <td>0.0</td>\n",
       "      <td>0.0</td>\n",
       "      <td>0.0</td>\n",
       "      <td>0.0</td>\n",
       "    </tr>\n",
       "  </tbody>\n",
       "</table>\n",
       "<p>5 rows × 120 columns</p>\n",
       "</div>"
      ],
      "text/plain": [
       "   SK_ID_CURR  TARGET NAME_CONTRACT_TYPE CODE_GENDER FLAG_OWN_CAR  \\\n",
       "0      100002       1         Cash loans           M            N   \n",
       "1      100003       0         Cash loans           F            N   \n",
       "2      100004       0    Revolving loans           M            Y   \n",
       "3      100006       0         Cash loans           F            N   \n",
       "4      100007       0         Cash loans           M            N   \n",
       "\n",
       "  FLAG_OWN_REALTY  CNT_CHILDREN  AMT_INCOME_TOTAL  AMT_CREDIT  AMT_ANNUITY  \\\n",
       "0               Y             0          202500.0    406597.5      24700.5   \n",
       "1               N             0          270000.0   1293502.5      35698.5   \n",
       "2               Y             0           67500.0    135000.0       6750.0   \n",
       "3               Y             0          135000.0    312682.5      29686.5   \n",
       "4               Y             0          121500.0    513000.0      21865.5   \n",
       "\n",
       "   ...  FLAG_DOCUMENT_18 FLAG_DOCUMENT_19 FLAG_DOCUMENT_20 FLAG_DOCUMENT_21  \\\n",
       "0  ...                 0                0                0                0   \n",
       "1  ...                 0                0                0                0   \n",
       "2  ...                 0                0                0                0   \n",
       "3  ...                 0                0                0                0   \n",
       "4  ...                 0                0                0                0   \n",
       "\n",
       "  AMT_REQ_CREDIT_BUREAU_HOUR  AMT_REQ_CREDIT_BUREAU_DAY  \\\n",
       "0                        0.0                        0.0   \n",
       "1                        0.0                        0.0   \n",
       "2                        0.0                        0.0   \n",
       "3                        NaN                        NaN   \n",
       "4                        0.0                        0.0   \n",
       "\n",
       "   AMT_REQ_CREDIT_BUREAU_WEEK  AMT_REQ_CREDIT_BUREAU_MON  \\\n",
       "0                         0.0                        0.0   \n",
       "1                         0.0                        0.0   \n",
       "2                         0.0                        0.0   \n",
       "3                         NaN                        NaN   \n",
       "4                         0.0                        0.0   \n",
       "\n",
       "   AMT_REQ_CREDIT_BUREAU_QRT  AMT_REQ_CREDIT_BUREAU_YEAR  \n",
       "0                        0.0                         1.0  \n",
       "1                        0.0                         0.0  \n",
       "2                        0.0                         0.0  \n",
       "3                        NaN                         NaN  \n",
       "4                        0.0                         0.0  \n",
       "\n",
       "[5 rows x 120 columns]"
      ]
     },
     "execution_count": 9,
     "metadata": {},
     "output_type": "execute_result"
    }
   ],
   "source": [
    "app=app.drop(\"WEEKDAY_APPR_PROCESS_START\",axis=1)\n",
    "app.head()"
   ]
  },
  {
   "cell_type": "code",
   "execution_count": 10,
   "id": "0550cd34",
   "metadata": {},
   "outputs": [
    {
     "data": {
      "text/html": [
       "<div>\n",
       "<style scoped>\n",
       "    .dataframe tbody tr th:only-of-type {\n",
       "        vertical-align: middle;\n",
       "    }\n",
       "\n",
       "    .dataframe tbody tr th {\n",
       "        vertical-align: top;\n",
       "    }\n",
       "\n",
       "    .dataframe thead th {\n",
       "        text-align: right;\n",
       "    }\n",
       "</style>\n",
       "<table border=\"1\" class=\"dataframe\">\n",
       "  <thead>\n",
       "    <tr style=\"text-align: right;\">\n",
       "      <th></th>\n",
       "      <th>SK_ID_CURR</th>\n",
       "      <th>TARGET</th>\n",
       "      <th>NAME_CONTRACT_TYPE</th>\n",
       "      <th>CODE_GENDER</th>\n",
       "      <th>FLAG_OWN_CAR</th>\n",
       "      <th>FLAG_OWN_REALTY</th>\n",
       "      <th>CNT_CHILDREN</th>\n",
       "      <th>AMT_INCOME_TOTAL</th>\n",
       "      <th>AMT_CREDIT</th>\n",
       "      <th>AMT_ANNUITY</th>\n",
       "      <th>...</th>\n",
       "      <th>FLAG_DOCUMENT_18</th>\n",
       "      <th>FLAG_DOCUMENT_19</th>\n",
       "      <th>FLAG_DOCUMENT_20</th>\n",
       "      <th>FLAG_DOCUMENT_21</th>\n",
       "      <th>AMT_REQ_CREDIT_BUREAU_HOUR</th>\n",
       "      <th>AMT_REQ_CREDIT_BUREAU_DAY</th>\n",
       "      <th>AMT_REQ_CREDIT_BUREAU_WEEK</th>\n",
       "      <th>AMT_REQ_CREDIT_BUREAU_MON</th>\n",
       "      <th>AMT_REQ_CREDIT_BUREAU_QRT</th>\n",
       "      <th>AMT_REQ_CREDIT_BUREAU_YEAR</th>\n",
       "    </tr>\n",
       "  </thead>\n",
       "  <tbody>\n",
       "    <tr>\n",
       "      <th>0</th>\n",
       "      <td>100002</td>\n",
       "      <td>1</td>\n",
       "      <td>Cash loans</td>\n",
       "      <td>M</td>\n",
       "      <td>N</td>\n",
       "      <td>Y</td>\n",
       "      <td>0</td>\n",
       "      <td>202500.0</td>\n",
       "      <td>406597.5</td>\n",
       "      <td>24700.5</td>\n",
       "      <td>...</td>\n",
       "      <td>0</td>\n",
       "      <td>0</td>\n",
       "      <td>0</td>\n",
       "      <td>0</td>\n",
       "      <td>0.0</td>\n",
       "      <td>0.0</td>\n",
       "      <td>0.0</td>\n",
       "      <td>0.0</td>\n",
       "      <td>0.0</td>\n",
       "      <td>1.0</td>\n",
       "    </tr>\n",
       "    <tr>\n",
       "      <th>1</th>\n",
       "      <td>100003</td>\n",
       "      <td>0</td>\n",
       "      <td>Cash loans</td>\n",
       "      <td>F</td>\n",
       "      <td>N</td>\n",
       "      <td>N</td>\n",
       "      <td>0</td>\n",
       "      <td>270000.0</td>\n",
       "      <td>1293502.5</td>\n",
       "      <td>35698.5</td>\n",
       "      <td>...</td>\n",
       "      <td>0</td>\n",
       "      <td>0</td>\n",
       "      <td>0</td>\n",
       "      <td>0</td>\n",
       "      <td>0.0</td>\n",
       "      <td>0.0</td>\n",
       "      <td>0.0</td>\n",
       "      <td>0.0</td>\n",
       "      <td>0.0</td>\n",
       "      <td>0.0</td>\n",
       "    </tr>\n",
       "    <tr>\n",
       "      <th>2</th>\n",
       "      <td>100004</td>\n",
       "      <td>0</td>\n",
       "      <td>Revolving loans</td>\n",
       "      <td>M</td>\n",
       "      <td>Y</td>\n",
       "      <td>Y</td>\n",
       "      <td>0</td>\n",
       "      <td>67500.0</td>\n",
       "      <td>135000.0</td>\n",
       "      <td>6750.0</td>\n",
       "      <td>...</td>\n",
       "      <td>0</td>\n",
       "      <td>0</td>\n",
       "      <td>0</td>\n",
       "      <td>0</td>\n",
       "      <td>0.0</td>\n",
       "      <td>0.0</td>\n",
       "      <td>0.0</td>\n",
       "      <td>0.0</td>\n",
       "      <td>0.0</td>\n",
       "      <td>0.0</td>\n",
       "    </tr>\n",
       "    <tr>\n",
       "      <th>3</th>\n",
       "      <td>100006</td>\n",
       "      <td>0</td>\n",
       "      <td>Cash loans</td>\n",
       "      <td>F</td>\n",
       "      <td>N</td>\n",
       "      <td>Y</td>\n",
       "      <td>0</td>\n",
       "      <td>135000.0</td>\n",
       "      <td>312682.5</td>\n",
       "      <td>29686.5</td>\n",
       "      <td>...</td>\n",
       "      <td>0</td>\n",
       "      <td>0</td>\n",
       "      <td>0</td>\n",
       "      <td>0</td>\n",
       "      <td>NaN</td>\n",
       "      <td>NaN</td>\n",
       "      <td>NaN</td>\n",
       "      <td>NaN</td>\n",
       "      <td>NaN</td>\n",
       "      <td>NaN</td>\n",
       "    </tr>\n",
       "    <tr>\n",
       "      <th>4</th>\n",
       "      <td>100007</td>\n",
       "      <td>0</td>\n",
       "      <td>Cash loans</td>\n",
       "      <td>M</td>\n",
       "      <td>N</td>\n",
       "      <td>Y</td>\n",
       "      <td>0</td>\n",
       "      <td>121500.0</td>\n",
       "      <td>513000.0</td>\n",
       "      <td>21865.5</td>\n",
       "      <td>...</td>\n",
       "      <td>0</td>\n",
       "      <td>0</td>\n",
       "      <td>0</td>\n",
       "      <td>0</td>\n",
       "      <td>0.0</td>\n",
       "      <td>0.0</td>\n",
       "      <td>0.0</td>\n",
       "      <td>0.0</td>\n",
       "      <td>0.0</td>\n",
       "      <td>0.0</td>\n",
       "    </tr>\n",
       "  </tbody>\n",
       "</table>\n",
       "<p>5 rows × 119 columns</p>\n",
       "</div>"
      ],
      "text/plain": [
       "   SK_ID_CURR  TARGET NAME_CONTRACT_TYPE CODE_GENDER FLAG_OWN_CAR  \\\n",
       "0      100002       1         Cash loans           M            N   \n",
       "1      100003       0         Cash loans           F            N   \n",
       "2      100004       0    Revolving loans           M            Y   \n",
       "3      100006       0         Cash loans           F            N   \n",
       "4      100007       0         Cash loans           M            N   \n",
       "\n",
       "  FLAG_OWN_REALTY  CNT_CHILDREN  AMT_INCOME_TOTAL  AMT_CREDIT  AMT_ANNUITY  \\\n",
       "0               Y             0          202500.0    406597.5      24700.5   \n",
       "1               N             0          270000.0   1293502.5      35698.5   \n",
       "2               Y             0           67500.0    135000.0       6750.0   \n",
       "3               Y             0          135000.0    312682.5      29686.5   \n",
       "4               Y             0          121500.0    513000.0      21865.5   \n",
       "\n",
       "   ...  FLAG_DOCUMENT_18 FLAG_DOCUMENT_19 FLAG_DOCUMENT_20 FLAG_DOCUMENT_21  \\\n",
       "0  ...                 0                0                0                0   \n",
       "1  ...                 0                0                0                0   \n",
       "2  ...                 0                0                0                0   \n",
       "3  ...                 0                0                0                0   \n",
       "4  ...                 0                0                0                0   \n",
       "\n",
       "  AMT_REQ_CREDIT_BUREAU_HOUR  AMT_REQ_CREDIT_BUREAU_DAY  \\\n",
       "0                        0.0                        0.0   \n",
       "1                        0.0                        0.0   \n",
       "2                        0.0                        0.0   \n",
       "3                        NaN                        NaN   \n",
       "4                        0.0                        0.0   \n",
       "\n",
       "   AMT_REQ_CREDIT_BUREAU_WEEK  AMT_REQ_CREDIT_BUREAU_MON  \\\n",
       "0                         0.0                        0.0   \n",
       "1                         0.0                        0.0   \n",
       "2                         0.0                        0.0   \n",
       "3                         NaN                        NaN   \n",
       "4                         0.0                        0.0   \n",
       "\n",
       "   AMT_REQ_CREDIT_BUREAU_QRT  AMT_REQ_CREDIT_BUREAU_YEAR  \n",
       "0                        0.0                         1.0  \n",
       "1                        0.0                         0.0  \n",
       "2                        0.0                         0.0  \n",
       "3                        NaN                         NaN  \n",
       "4                        0.0                         0.0  \n",
       "\n",
       "[5 rows x 119 columns]"
      ]
     },
     "execution_count": 10,
     "metadata": {},
     "output_type": "execute_result"
    }
   ],
   "source": [
    "\n",
    "app=app.drop(\"HOUR_APPR_PROCESS_START\",axis=1)\n",
    "app.head()"
   ]
  },
  {
   "cell_type": "code",
   "execution_count": 11,
   "id": "09af5ee4",
   "metadata": {},
   "outputs": [
    {
     "data": {
      "text/html": [
       "<div>\n",
       "<style scoped>\n",
       "    .dataframe tbody tr th:only-of-type {\n",
       "        vertical-align: middle;\n",
       "    }\n",
       "\n",
       "    .dataframe tbody tr th {\n",
       "        vertical-align: top;\n",
       "    }\n",
       "\n",
       "    .dataframe thead th {\n",
       "        text-align: right;\n",
       "    }\n",
       "</style>\n",
       "<table border=\"1\" class=\"dataframe\">\n",
       "  <thead>\n",
       "    <tr style=\"text-align: right;\">\n",
       "      <th></th>\n",
       "      <th>SK_ID_CURR</th>\n",
       "      <th>TARGET</th>\n",
       "      <th>NAME_CONTRACT_TYPE</th>\n",
       "      <th>CODE_GENDER</th>\n",
       "      <th>FLAG_OWN_CAR</th>\n",
       "      <th>FLAG_OWN_REALTY</th>\n",
       "      <th>CNT_CHILDREN</th>\n",
       "      <th>AMT_INCOME_TOTAL</th>\n",
       "      <th>AMT_CREDIT</th>\n",
       "      <th>AMT_ANNUITY</th>\n",
       "      <th>...</th>\n",
       "      <th>FLAG_DOCUMENT_18</th>\n",
       "      <th>FLAG_DOCUMENT_19</th>\n",
       "      <th>FLAG_DOCUMENT_20</th>\n",
       "      <th>FLAG_DOCUMENT_21</th>\n",
       "      <th>AMT_REQ_CREDIT_BUREAU_HOUR</th>\n",
       "      <th>AMT_REQ_CREDIT_BUREAU_DAY</th>\n",
       "      <th>AMT_REQ_CREDIT_BUREAU_WEEK</th>\n",
       "      <th>AMT_REQ_CREDIT_BUREAU_MON</th>\n",
       "      <th>AMT_REQ_CREDIT_BUREAU_QRT</th>\n",
       "      <th>AMT_REQ_CREDIT_BUREAU_YEAR</th>\n",
       "    </tr>\n",
       "  </thead>\n",
       "  <tbody>\n",
       "    <tr>\n",
       "      <th>0</th>\n",
       "      <td>100002</td>\n",
       "      <td>1</td>\n",
       "      <td>Cash loans</td>\n",
       "      <td>M</td>\n",
       "      <td>N</td>\n",
       "      <td>Y</td>\n",
       "      <td>0</td>\n",
       "      <td>202500.0</td>\n",
       "      <td>406597.5</td>\n",
       "      <td>24700.5</td>\n",
       "      <td>...</td>\n",
       "      <td>0</td>\n",
       "      <td>0</td>\n",
       "      <td>0</td>\n",
       "      <td>0</td>\n",
       "      <td>0.0</td>\n",
       "      <td>0.0</td>\n",
       "      <td>0.0</td>\n",
       "      <td>0.0</td>\n",
       "      <td>0.0</td>\n",
       "      <td>1.0</td>\n",
       "    </tr>\n",
       "    <tr>\n",
       "      <th>1</th>\n",
       "      <td>100003</td>\n",
       "      <td>0</td>\n",
       "      <td>Cash loans</td>\n",
       "      <td>F</td>\n",
       "      <td>N</td>\n",
       "      <td>N</td>\n",
       "      <td>0</td>\n",
       "      <td>270000.0</td>\n",
       "      <td>1293502.5</td>\n",
       "      <td>35698.5</td>\n",
       "      <td>...</td>\n",
       "      <td>0</td>\n",
       "      <td>0</td>\n",
       "      <td>0</td>\n",
       "      <td>0</td>\n",
       "      <td>0.0</td>\n",
       "      <td>0.0</td>\n",
       "      <td>0.0</td>\n",
       "      <td>0.0</td>\n",
       "      <td>0.0</td>\n",
       "      <td>0.0</td>\n",
       "    </tr>\n",
       "    <tr>\n",
       "      <th>2</th>\n",
       "      <td>100004</td>\n",
       "      <td>0</td>\n",
       "      <td>Revolving loans</td>\n",
       "      <td>M</td>\n",
       "      <td>Y</td>\n",
       "      <td>Y</td>\n",
       "      <td>0</td>\n",
       "      <td>67500.0</td>\n",
       "      <td>135000.0</td>\n",
       "      <td>6750.0</td>\n",
       "      <td>...</td>\n",
       "      <td>0</td>\n",
       "      <td>0</td>\n",
       "      <td>0</td>\n",
       "      <td>0</td>\n",
       "      <td>0.0</td>\n",
       "      <td>0.0</td>\n",
       "      <td>0.0</td>\n",
       "      <td>0.0</td>\n",
       "      <td>0.0</td>\n",
       "      <td>0.0</td>\n",
       "    </tr>\n",
       "    <tr>\n",
       "      <th>3</th>\n",
       "      <td>100006</td>\n",
       "      <td>0</td>\n",
       "      <td>Cash loans</td>\n",
       "      <td>F</td>\n",
       "      <td>N</td>\n",
       "      <td>Y</td>\n",
       "      <td>0</td>\n",
       "      <td>135000.0</td>\n",
       "      <td>312682.5</td>\n",
       "      <td>29686.5</td>\n",
       "      <td>...</td>\n",
       "      <td>0</td>\n",
       "      <td>0</td>\n",
       "      <td>0</td>\n",
       "      <td>0</td>\n",
       "      <td>NaN</td>\n",
       "      <td>NaN</td>\n",
       "      <td>NaN</td>\n",
       "      <td>NaN</td>\n",
       "      <td>NaN</td>\n",
       "      <td>NaN</td>\n",
       "    </tr>\n",
       "    <tr>\n",
       "      <th>4</th>\n",
       "      <td>100007</td>\n",
       "      <td>0</td>\n",
       "      <td>Cash loans</td>\n",
       "      <td>M</td>\n",
       "      <td>N</td>\n",
       "      <td>Y</td>\n",
       "      <td>0</td>\n",
       "      <td>121500.0</td>\n",
       "      <td>513000.0</td>\n",
       "      <td>21865.5</td>\n",
       "      <td>...</td>\n",
       "      <td>0</td>\n",
       "      <td>0</td>\n",
       "      <td>0</td>\n",
       "      <td>0</td>\n",
       "      <td>0.0</td>\n",
       "      <td>0.0</td>\n",
       "      <td>0.0</td>\n",
       "      <td>0.0</td>\n",
       "      <td>0.0</td>\n",
       "      <td>0.0</td>\n",
       "    </tr>\n",
       "  </tbody>\n",
       "</table>\n",
       "<p>5 rows × 113 columns</p>\n",
       "</div>"
      ],
      "text/plain": [
       "   SK_ID_CURR  TARGET NAME_CONTRACT_TYPE CODE_GENDER FLAG_OWN_CAR  \\\n",
       "0      100002       1         Cash loans           M            N   \n",
       "1      100003       0         Cash loans           F            N   \n",
       "2      100004       0    Revolving loans           M            Y   \n",
       "3      100006       0         Cash loans           F            N   \n",
       "4      100007       0         Cash loans           M            N   \n",
       "\n",
       "  FLAG_OWN_REALTY  CNT_CHILDREN  AMT_INCOME_TOTAL  AMT_CREDIT  AMT_ANNUITY  \\\n",
       "0               Y             0          202500.0    406597.5      24700.5   \n",
       "1               N             0          270000.0   1293502.5      35698.5   \n",
       "2               Y             0           67500.0    135000.0       6750.0   \n",
       "3               Y             0          135000.0    312682.5      29686.5   \n",
       "4               Y             0          121500.0    513000.0      21865.5   \n",
       "\n",
       "   ...  FLAG_DOCUMENT_18 FLAG_DOCUMENT_19 FLAG_DOCUMENT_20 FLAG_DOCUMENT_21  \\\n",
       "0  ...                 0                0                0                0   \n",
       "1  ...                 0                0                0                0   \n",
       "2  ...                 0                0                0                0   \n",
       "3  ...                 0                0                0                0   \n",
       "4  ...                 0                0                0                0   \n",
       "\n",
       "  AMT_REQ_CREDIT_BUREAU_HOUR  AMT_REQ_CREDIT_BUREAU_DAY  \\\n",
       "0                        0.0                        0.0   \n",
       "1                        0.0                        0.0   \n",
       "2                        0.0                        0.0   \n",
       "3                        NaN                        NaN   \n",
       "4                        0.0                        0.0   \n",
       "\n",
       "   AMT_REQ_CREDIT_BUREAU_WEEK  AMT_REQ_CREDIT_BUREAU_MON  \\\n",
       "0                         0.0                        0.0   \n",
       "1                         0.0                        0.0   \n",
       "2                         0.0                        0.0   \n",
       "3                         NaN                        NaN   \n",
       "4                         0.0                        0.0   \n",
       "\n",
       "   AMT_REQ_CREDIT_BUREAU_QRT  AMT_REQ_CREDIT_BUREAU_YEAR  \n",
       "0                        0.0                         1.0  \n",
       "1                        0.0                         0.0  \n",
       "2                        0.0                         0.0  \n",
       "3                        NaN                         NaN  \n",
       "4                        0.0                         0.0  \n",
       "\n",
       "[5 rows x 113 columns]"
      ]
     },
     "execution_count": 11,
     "metadata": {},
     "output_type": "execute_result"
    }
   ],
   "source": [
    "app=app.drop(\"REG_REGION_NOT_LIVE_REGION\",axis=1)\n",
    "app=app.drop(\"REG_REGION_NOT_WORK_REGION\",axis=1)\n",
    "app=app.drop(\"LIVE_REGION_NOT_WORK_REGION\",axis=1)\n",
    "app=app.drop(\"REG_CITY_NOT_LIVE_CITY\",axis=1)\n",
    "app=app.drop(\"REG_CITY_NOT_WORK_CITY\",axis=1)\n",
    "app=app.drop(\"LIVE_CITY_NOT_WORK_CITY\",axis=1)\n",
    "app.head()"
   ]
  },
  {
   "cell_type": "code",
   "execution_count": 12,
   "id": "29669678",
   "metadata": {},
   "outputs": [
    {
     "data": {
      "text/plain": [
       "0    307498\n",
       "1        13\n",
       "Name: FLAG_DOCUMENT_2, dtype: int64"
      ]
     },
     "execution_count": 12,
     "metadata": {},
     "output_type": "execute_result"
    }
   ],
   "source": [
    "app[\"FLAG_DOCUMENT_2\"].value_counts()"
   ]
  },
  {
   "cell_type": "code",
   "execution_count": 13,
   "id": "f0979787",
   "metadata": {},
   "outputs": [],
   "source": [
    "app[\"DOCUMENT_COUNTS\"]=app[[\"FLAG_DOCUMENT_2\",\"FLAG_DOCUMENT_3\",\"FLAG_DOCUMENT_4\",\"FLAG_DOCUMENT_5\",\"FLAG_DOCUMENT_6\",\"FLAG_DOCUMENT_7\",\"FLAG_DOCUMENT_8\",\"FLAG_DOCUMENT_9\",\"FLAG_DOCUMENT_10\",\"FLAG_DOCUMENT_11\",\"FLAG_DOCUMENT_12\",\"FLAG_DOCUMENT_13\",\"FLAG_DOCUMENT_14\",\"FLAG_DOCUMENT_15\",\"FLAG_DOCUMENT_16\",\"FLAG_DOCUMENT_17\",\"FLAG_DOCUMENT_18\",\"FLAG_DOCUMENT_19\",\"FLAG_DOCUMENT_20\",\"FLAG_DOCUMENT_21\"]].sum(axis=1)"
   ]
  },
  {
   "cell_type": "code",
   "execution_count": 14,
   "id": "02b0dded",
   "metadata": {},
   "outputs": [
    {
     "data": {
      "text/plain": [
       "1    270056\n",
       "0     29549\n",
       "2      7742\n",
       "3       163\n",
       "4         1\n",
       "Name: DOCUMENT_COUNTS, dtype: int64"
      ]
     },
     "execution_count": 14,
     "metadata": {},
     "output_type": "execute_result"
    }
   ],
   "source": [
    "app[\"DOCUMENT_COUNTS\"].value_counts()"
   ]
  },
  {
   "cell_type": "code",
   "execution_count": 15,
   "id": "cf08a7e4",
   "metadata": {},
   "outputs": [],
   "source": [
    "app=app.drop([\"FLAG_DOCUMENT_2\",\"FLAG_DOCUMENT_3\",\"FLAG_DOCUMENT_4\",\"FLAG_DOCUMENT_5\",\"FLAG_DOCUMENT_6\",\"FLAG_DOCUMENT_7\",\"FLAG_DOCUMENT_8\",\"FLAG_DOCUMENT_9\",\"FLAG_DOCUMENT_10\",\"FLAG_DOCUMENT_11\",\"FLAG_DOCUMENT_12\",\"FLAG_DOCUMENT_13\",\"FLAG_DOCUMENT_14\",\"FLAG_DOCUMENT_15\",\"FLAG_DOCUMENT_16\",\"FLAG_DOCUMENT_17\",\"FLAG_DOCUMENT_18\",\"FLAG_DOCUMENT_19\",\"FLAG_DOCUMENT_20\",\"FLAG_DOCUMENT_21\"],axis=1)"
   ]
  },
  {
   "cell_type": "code",
   "execution_count": 16,
   "id": "991c33d5",
   "metadata": {},
   "outputs": [
    {
     "data": {
      "text/html": [
       "<div>\n",
       "<style scoped>\n",
       "    .dataframe tbody tr th:only-of-type {\n",
       "        vertical-align: middle;\n",
       "    }\n",
       "\n",
       "    .dataframe tbody tr th {\n",
       "        vertical-align: top;\n",
       "    }\n",
       "\n",
       "    .dataframe thead th {\n",
       "        text-align: right;\n",
       "    }\n",
       "</style>\n",
       "<table border=\"1\" class=\"dataframe\">\n",
       "  <thead>\n",
       "    <tr style=\"text-align: right;\">\n",
       "      <th></th>\n",
       "      <th>SK_ID_CURR</th>\n",
       "      <th>TARGET</th>\n",
       "      <th>NAME_CONTRACT_TYPE</th>\n",
       "      <th>CODE_GENDER</th>\n",
       "      <th>FLAG_OWN_CAR</th>\n",
       "      <th>FLAG_OWN_REALTY</th>\n",
       "      <th>CNT_CHILDREN</th>\n",
       "      <th>AMT_INCOME_TOTAL</th>\n",
       "      <th>AMT_CREDIT</th>\n",
       "      <th>AMT_ANNUITY</th>\n",
       "      <th>...</th>\n",
       "      <th>OBS_60_CNT_SOCIAL_CIRCLE</th>\n",
       "      <th>DEF_60_CNT_SOCIAL_CIRCLE</th>\n",
       "      <th>DAYS_LAST_PHONE_CHANGE</th>\n",
       "      <th>AMT_REQ_CREDIT_BUREAU_HOUR</th>\n",
       "      <th>AMT_REQ_CREDIT_BUREAU_DAY</th>\n",
       "      <th>AMT_REQ_CREDIT_BUREAU_WEEK</th>\n",
       "      <th>AMT_REQ_CREDIT_BUREAU_MON</th>\n",
       "      <th>AMT_REQ_CREDIT_BUREAU_QRT</th>\n",
       "      <th>AMT_REQ_CREDIT_BUREAU_YEAR</th>\n",
       "      <th>DOCUMENT_COUNTS</th>\n",
       "    </tr>\n",
       "  </thead>\n",
       "  <tbody>\n",
       "    <tr>\n",
       "      <th>0</th>\n",
       "      <td>100002</td>\n",
       "      <td>1</td>\n",
       "      <td>Cash loans</td>\n",
       "      <td>M</td>\n",
       "      <td>N</td>\n",
       "      <td>Y</td>\n",
       "      <td>0</td>\n",
       "      <td>202500.0</td>\n",
       "      <td>406597.5</td>\n",
       "      <td>24700.5</td>\n",
       "      <td>...</td>\n",
       "      <td>2.0</td>\n",
       "      <td>2.0</td>\n",
       "      <td>-1134.0</td>\n",
       "      <td>0.0</td>\n",
       "      <td>0.0</td>\n",
       "      <td>0.0</td>\n",
       "      <td>0.0</td>\n",
       "      <td>0.0</td>\n",
       "      <td>1.0</td>\n",
       "      <td>1</td>\n",
       "    </tr>\n",
       "    <tr>\n",
       "      <th>1</th>\n",
       "      <td>100003</td>\n",
       "      <td>0</td>\n",
       "      <td>Cash loans</td>\n",
       "      <td>F</td>\n",
       "      <td>N</td>\n",
       "      <td>N</td>\n",
       "      <td>0</td>\n",
       "      <td>270000.0</td>\n",
       "      <td>1293502.5</td>\n",
       "      <td>35698.5</td>\n",
       "      <td>...</td>\n",
       "      <td>1.0</td>\n",
       "      <td>0.0</td>\n",
       "      <td>-828.0</td>\n",
       "      <td>0.0</td>\n",
       "      <td>0.0</td>\n",
       "      <td>0.0</td>\n",
       "      <td>0.0</td>\n",
       "      <td>0.0</td>\n",
       "      <td>0.0</td>\n",
       "      <td>1</td>\n",
       "    </tr>\n",
       "    <tr>\n",
       "      <th>2</th>\n",
       "      <td>100004</td>\n",
       "      <td>0</td>\n",
       "      <td>Revolving loans</td>\n",
       "      <td>M</td>\n",
       "      <td>Y</td>\n",
       "      <td>Y</td>\n",
       "      <td>0</td>\n",
       "      <td>67500.0</td>\n",
       "      <td>135000.0</td>\n",
       "      <td>6750.0</td>\n",
       "      <td>...</td>\n",
       "      <td>0.0</td>\n",
       "      <td>0.0</td>\n",
       "      <td>-815.0</td>\n",
       "      <td>0.0</td>\n",
       "      <td>0.0</td>\n",
       "      <td>0.0</td>\n",
       "      <td>0.0</td>\n",
       "      <td>0.0</td>\n",
       "      <td>0.0</td>\n",
       "      <td>0</td>\n",
       "    </tr>\n",
       "    <tr>\n",
       "      <th>3</th>\n",
       "      <td>100006</td>\n",
       "      <td>0</td>\n",
       "      <td>Cash loans</td>\n",
       "      <td>F</td>\n",
       "      <td>N</td>\n",
       "      <td>Y</td>\n",
       "      <td>0</td>\n",
       "      <td>135000.0</td>\n",
       "      <td>312682.5</td>\n",
       "      <td>29686.5</td>\n",
       "      <td>...</td>\n",
       "      <td>2.0</td>\n",
       "      <td>0.0</td>\n",
       "      <td>-617.0</td>\n",
       "      <td>NaN</td>\n",
       "      <td>NaN</td>\n",
       "      <td>NaN</td>\n",
       "      <td>NaN</td>\n",
       "      <td>NaN</td>\n",
       "      <td>NaN</td>\n",
       "      <td>1</td>\n",
       "    </tr>\n",
       "    <tr>\n",
       "      <th>4</th>\n",
       "      <td>100007</td>\n",
       "      <td>0</td>\n",
       "      <td>Cash loans</td>\n",
       "      <td>M</td>\n",
       "      <td>N</td>\n",
       "      <td>Y</td>\n",
       "      <td>0</td>\n",
       "      <td>121500.0</td>\n",
       "      <td>513000.0</td>\n",
       "      <td>21865.5</td>\n",
       "      <td>...</td>\n",
       "      <td>0.0</td>\n",
       "      <td>0.0</td>\n",
       "      <td>-1106.0</td>\n",
       "      <td>0.0</td>\n",
       "      <td>0.0</td>\n",
       "      <td>0.0</td>\n",
       "      <td>0.0</td>\n",
       "      <td>0.0</td>\n",
       "      <td>0.0</td>\n",
       "      <td>1</td>\n",
       "    </tr>\n",
       "  </tbody>\n",
       "</table>\n",
       "<p>5 rows × 94 columns</p>\n",
       "</div>"
      ],
      "text/plain": [
       "   SK_ID_CURR  TARGET NAME_CONTRACT_TYPE CODE_GENDER FLAG_OWN_CAR  \\\n",
       "0      100002       1         Cash loans           M            N   \n",
       "1      100003       0         Cash loans           F            N   \n",
       "2      100004       0    Revolving loans           M            Y   \n",
       "3      100006       0         Cash loans           F            N   \n",
       "4      100007       0         Cash loans           M            N   \n",
       "\n",
       "  FLAG_OWN_REALTY  CNT_CHILDREN  AMT_INCOME_TOTAL  AMT_CREDIT  AMT_ANNUITY  \\\n",
       "0               Y             0          202500.0    406597.5      24700.5   \n",
       "1               N             0          270000.0   1293502.5      35698.5   \n",
       "2               Y             0           67500.0    135000.0       6750.0   \n",
       "3               Y             0          135000.0    312682.5      29686.5   \n",
       "4               Y             0          121500.0    513000.0      21865.5   \n",
       "\n",
       "   ...  OBS_60_CNT_SOCIAL_CIRCLE DEF_60_CNT_SOCIAL_CIRCLE  \\\n",
       "0  ...                       2.0                      2.0   \n",
       "1  ...                       1.0                      0.0   \n",
       "2  ...                       0.0                      0.0   \n",
       "3  ...                       2.0                      0.0   \n",
       "4  ...                       0.0                      0.0   \n",
       "\n",
       "  DAYS_LAST_PHONE_CHANGE AMT_REQ_CREDIT_BUREAU_HOUR AMT_REQ_CREDIT_BUREAU_DAY  \\\n",
       "0                -1134.0                        0.0                       0.0   \n",
       "1                 -828.0                        0.0                       0.0   \n",
       "2                 -815.0                        0.0                       0.0   \n",
       "3                 -617.0                        NaN                       NaN   \n",
       "4                -1106.0                        0.0                       0.0   \n",
       "\n",
       "   AMT_REQ_CREDIT_BUREAU_WEEK  AMT_REQ_CREDIT_BUREAU_MON  \\\n",
       "0                         0.0                        0.0   \n",
       "1                         0.0                        0.0   \n",
       "2                         0.0                        0.0   \n",
       "3                         NaN                        NaN   \n",
       "4                         0.0                        0.0   \n",
       "\n",
       "   AMT_REQ_CREDIT_BUREAU_QRT  AMT_REQ_CREDIT_BUREAU_YEAR  DOCUMENT_COUNTS  \n",
       "0                        0.0                         1.0                1  \n",
       "1                        0.0                         0.0                1  \n",
       "2                        0.0                         0.0                0  \n",
       "3                        NaN                         NaN                1  \n",
       "4                        0.0                         0.0                1  \n",
       "\n",
       "[5 rows x 94 columns]"
      ]
     },
     "execution_count": 16,
     "metadata": {},
     "output_type": "execute_result"
    }
   ],
   "source": [
    "app.head()"
   ]
  },
  {
   "cell_type": "code",
   "execution_count": 17,
   "id": "e657096f",
   "metadata": {},
   "outputs": [],
   "source": [
    "app=app.drop(\"DAYS_LAST_PHONE_CHANGE\",axis=1)"
   ]
  },
  {
   "cell_type": "code",
   "execution_count": 18,
   "id": "cf9b2841",
   "metadata": {},
   "outputs": [
    {
     "data": {
      "text/html": [
       "<div>\n",
       "<style scoped>\n",
       "    .dataframe tbody tr th:only-of-type {\n",
       "        vertical-align: middle;\n",
       "    }\n",
       "\n",
       "    .dataframe tbody tr th {\n",
       "        vertical-align: top;\n",
       "    }\n",
       "\n",
       "    .dataframe thead th {\n",
       "        text-align: right;\n",
       "    }\n",
       "</style>\n",
       "<table border=\"1\" class=\"dataframe\">\n",
       "  <thead>\n",
       "    <tr style=\"text-align: right;\">\n",
       "      <th></th>\n",
       "      <th>SK_ID_CURR</th>\n",
       "      <th>TARGET</th>\n",
       "      <th>NAME_CONTRACT_TYPE</th>\n",
       "      <th>CODE_GENDER</th>\n",
       "      <th>FLAG_OWN_CAR</th>\n",
       "      <th>FLAG_OWN_REALTY</th>\n",
       "      <th>CNT_CHILDREN</th>\n",
       "      <th>AMT_INCOME_TOTAL</th>\n",
       "      <th>AMT_CREDIT</th>\n",
       "      <th>AMT_ANNUITY</th>\n",
       "      <th>...</th>\n",
       "      <th>DEF_30_CNT_SOCIAL_CIRCLE</th>\n",
       "      <th>OBS_60_CNT_SOCIAL_CIRCLE</th>\n",
       "      <th>DEF_60_CNT_SOCIAL_CIRCLE</th>\n",
       "      <th>AMT_REQ_CREDIT_BUREAU_HOUR</th>\n",
       "      <th>AMT_REQ_CREDIT_BUREAU_DAY</th>\n",
       "      <th>AMT_REQ_CREDIT_BUREAU_WEEK</th>\n",
       "      <th>AMT_REQ_CREDIT_BUREAU_MON</th>\n",
       "      <th>AMT_REQ_CREDIT_BUREAU_QRT</th>\n",
       "      <th>AMT_REQ_CREDIT_BUREAU_YEAR</th>\n",
       "      <th>DOCUMENT_COUNTS</th>\n",
       "    </tr>\n",
       "  </thead>\n",
       "  <tbody>\n",
       "    <tr>\n",
       "      <th>0</th>\n",
       "      <td>100002</td>\n",
       "      <td>1</td>\n",
       "      <td>Cash loans</td>\n",
       "      <td>M</td>\n",
       "      <td>N</td>\n",
       "      <td>Y</td>\n",
       "      <td>0</td>\n",
       "      <td>202500.0</td>\n",
       "      <td>406597.5</td>\n",
       "      <td>24700.5</td>\n",
       "      <td>...</td>\n",
       "      <td>2.0</td>\n",
       "      <td>2.0</td>\n",
       "      <td>2.0</td>\n",
       "      <td>0.0</td>\n",
       "      <td>0.0</td>\n",
       "      <td>0.0</td>\n",
       "      <td>0.0</td>\n",
       "      <td>0.0</td>\n",
       "      <td>1.0</td>\n",
       "      <td>1</td>\n",
       "    </tr>\n",
       "    <tr>\n",
       "      <th>1</th>\n",
       "      <td>100003</td>\n",
       "      <td>0</td>\n",
       "      <td>Cash loans</td>\n",
       "      <td>F</td>\n",
       "      <td>N</td>\n",
       "      <td>N</td>\n",
       "      <td>0</td>\n",
       "      <td>270000.0</td>\n",
       "      <td>1293502.5</td>\n",
       "      <td>35698.5</td>\n",
       "      <td>...</td>\n",
       "      <td>0.0</td>\n",
       "      <td>1.0</td>\n",
       "      <td>0.0</td>\n",
       "      <td>0.0</td>\n",
       "      <td>0.0</td>\n",
       "      <td>0.0</td>\n",
       "      <td>0.0</td>\n",
       "      <td>0.0</td>\n",
       "      <td>0.0</td>\n",
       "      <td>1</td>\n",
       "    </tr>\n",
       "    <tr>\n",
       "      <th>2</th>\n",
       "      <td>100004</td>\n",
       "      <td>0</td>\n",
       "      <td>Revolving loans</td>\n",
       "      <td>M</td>\n",
       "      <td>Y</td>\n",
       "      <td>Y</td>\n",
       "      <td>0</td>\n",
       "      <td>67500.0</td>\n",
       "      <td>135000.0</td>\n",
       "      <td>6750.0</td>\n",
       "      <td>...</td>\n",
       "      <td>0.0</td>\n",
       "      <td>0.0</td>\n",
       "      <td>0.0</td>\n",
       "      <td>0.0</td>\n",
       "      <td>0.0</td>\n",
       "      <td>0.0</td>\n",
       "      <td>0.0</td>\n",
       "      <td>0.0</td>\n",
       "      <td>0.0</td>\n",
       "      <td>0</td>\n",
       "    </tr>\n",
       "    <tr>\n",
       "      <th>3</th>\n",
       "      <td>100006</td>\n",
       "      <td>0</td>\n",
       "      <td>Cash loans</td>\n",
       "      <td>F</td>\n",
       "      <td>N</td>\n",
       "      <td>Y</td>\n",
       "      <td>0</td>\n",
       "      <td>135000.0</td>\n",
       "      <td>312682.5</td>\n",
       "      <td>29686.5</td>\n",
       "      <td>...</td>\n",
       "      <td>0.0</td>\n",
       "      <td>2.0</td>\n",
       "      <td>0.0</td>\n",
       "      <td>NaN</td>\n",
       "      <td>NaN</td>\n",
       "      <td>NaN</td>\n",
       "      <td>NaN</td>\n",
       "      <td>NaN</td>\n",
       "      <td>NaN</td>\n",
       "      <td>1</td>\n",
       "    </tr>\n",
       "    <tr>\n",
       "      <th>4</th>\n",
       "      <td>100007</td>\n",
       "      <td>0</td>\n",
       "      <td>Cash loans</td>\n",
       "      <td>M</td>\n",
       "      <td>N</td>\n",
       "      <td>Y</td>\n",
       "      <td>0</td>\n",
       "      <td>121500.0</td>\n",
       "      <td>513000.0</td>\n",
       "      <td>21865.5</td>\n",
       "      <td>...</td>\n",
       "      <td>0.0</td>\n",
       "      <td>0.0</td>\n",
       "      <td>0.0</td>\n",
       "      <td>0.0</td>\n",
       "      <td>0.0</td>\n",
       "      <td>0.0</td>\n",
       "      <td>0.0</td>\n",
       "      <td>0.0</td>\n",
       "      <td>0.0</td>\n",
       "      <td>1</td>\n",
       "    </tr>\n",
       "  </tbody>\n",
       "</table>\n",
       "<p>5 rows × 93 columns</p>\n",
       "</div>"
      ],
      "text/plain": [
       "   SK_ID_CURR  TARGET NAME_CONTRACT_TYPE CODE_GENDER FLAG_OWN_CAR  \\\n",
       "0      100002       1         Cash loans           M            N   \n",
       "1      100003       0         Cash loans           F            N   \n",
       "2      100004       0    Revolving loans           M            Y   \n",
       "3      100006       0         Cash loans           F            N   \n",
       "4      100007       0         Cash loans           M            N   \n",
       "\n",
       "  FLAG_OWN_REALTY  CNT_CHILDREN  AMT_INCOME_TOTAL  AMT_CREDIT  AMT_ANNUITY  \\\n",
       "0               Y             0          202500.0    406597.5      24700.5   \n",
       "1               N             0          270000.0   1293502.5      35698.5   \n",
       "2               Y             0           67500.0    135000.0       6750.0   \n",
       "3               Y             0          135000.0    312682.5      29686.5   \n",
       "4               Y             0          121500.0    513000.0      21865.5   \n",
       "\n",
       "   ...  DEF_30_CNT_SOCIAL_CIRCLE OBS_60_CNT_SOCIAL_CIRCLE  \\\n",
       "0  ...                       2.0                      2.0   \n",
       "1  ...                       0.0                      1.0   \n",
       "2  ...                       0.0                      0.0   \n",
       "3  ...                       0.0                      2.0   \n",
       "4  ...                       0.0                      0.0   \n",
       "\n",
       "  DEF_60_CNT_SOCIAL_CIRCLE AMT_REQ_CREDIT_BUREAU_HOUR  \\\n",
       "0                      2.0                        0.0   \n",
       "1                      0.0                        0.0   \n",
       "2                      0.0                        0.0   \n",
       "3                      0.0                        NaN   \n",
       "4                      0.0                        0.0   \n",
       "\n",
       "  AMT_REQ_CREDIT_BUREAU_DAY  AMT_REQ_CREDIT_BUREAU_WEEK  \\\n",
       "0                       0.0                         0.0   \n",
       "1                       0.0                         0.0   \n",
       "2                       0.0                         0.0   \n",
       "3                       NaN                         NaN   \n",
       "4                       0.0                         0.0   \n",
       "\n",
       "   AMT_REQ_CREDIT_BUREAU_MON  AMT_REQ_CREDIT_BUREAU_QRT  \\\n",
       "0                        0.0                        0.0   \n",
       "1                        0.0                        0.0   \n",
       "2                        0.0                        0.0   \n",
       "3                        NaN                        NaN   \n",
       "4                        0.0                        0.0   \n",
       "\n",
       "   AMT_REQ_CREDIT_BUREAU_YEAR  DOCUMENT_COUNTS  \n",
       "0                         1.0                1  \n",
       "1                         0.0                1  \n",
       "2                         0.0                0  \n",
       "3                         NaN                1  \n",
       "4                         0.0                1  \n",
       "\n",
       "[5 rows x 93 columns]"
      ]
     },
     "execution_count": 18,
     "metadata": {},
     "output_type": "execute_result"
    }
   ],
   "source": [
    "app.head()"
   ]
  },
  {
   "cell_type": "markdown",
   "id": "f489f6c9",
   "metadata": {},
   "source": [
    "# Missing Data"
   ]
  },
  {
   "cell_type": "code",
   "execution_count": 19,
   "id": "1f94c40f",
   "metadata": {},
   "outputs": [
    {
     "data": {
      "text/plain": [
       "1021"
      ]
     },
     "execution_count": 19,
     "metadata": {},
     "output_type": "execute_result"
    }
   ],
   "source": [
    "app[\"OBS_30_CNT_SOCIAL_CIRCLE\"].isnull().sum()"
   ]
  },
  {
   "cell_type": "code",
   "execution_count": 20,
   "id": "f84a9bfb",
   "metadata": {},
   "outputs": [
    {
     "data": {
      "text/plain": [
       "1021"
      ]
     },
     "execution_count": 20,
     "metadata": {},
     "output_type": "execute_result"
    }
   ],
   "source": [
    "app[\"DEF_30_CNT_SOCIAL_CIRCLE\"].isnull().sum()"
   ]
  },
  {
   "cell_type": "code",
   "execution_count": 21,
   "id": "eee721a3",
   "metadata": {},
   "outputs": [
    {
     "data": {
      "text/plain": [
       "1021"
      ]
     },
     "execution_count": 21,
     "metadata": {},
     "output_type": "execute_result"
    }
   ],
   "source": [
    "app[\"DEF_60_CNT_SOCIAL_CIRCLE\"].isnull().sum()"
   ]
  },
  {
   "cell_type": "code",
   "execution_count": 22,
   "id": "04c24bf3",
   "metadata": {},
   "outputs": [
    {
     "data": {
      "text/plain": [
       "1021"
      ]
     },
     "execution_count": 22,
     "metadata": {},
     "output_type": "execute_result"
    }
   ],
   "source": [
    "app[\"OBS_60_CNT_SOCIAL_CIRCLE\"].isnull().sum()"
   ]
  },
  {
   "cell_type": "code",
   "execution_count": 23,
   "id": "d8c96f5f",
   "metadata": {},
   "outputs": [
    {
     "data": {
      "text/plain": [
       "41519"
      ]
     },
     "execution_count": 23,
     "metadata": {},
     "output_type": "execute_result"
    }
   ],
   "source": [
    "app[\"AMT_REQ_CREDIT_BUREAU_HOUR\"].isnull().sum()"
   ]
  },
  {
   "cell_type": "code",
   "execution_count": 24,
   "id": "4a1b3e69",
   "metadata": {},
   "outputs": [
    {
     "data": {
      "text/plain": [
       "41519"
      ]
     },
     "execution_count": 24,
     "metadata": {},
     "output_type": "execute_result"
    }
   ],
   "source": [
    "app[\"AMT_REQ_CREDIT_BUREAU_DAY\"].isnull().sum()"
   ]
  },
  {
   "cell_type": "code",
   "execution_count": 25,
   "id": "a8470c20",
   "metadata": {},
   "outputs": [
    {
     "data": {
      "text/plain": [
       "41519"
      ]
     },
     "execution_count": 25,
     "metadata": {},
     "output_type": "execute_result"
    }
   ],
   "source": [
    "app[\"AMT_REQ_CREDIT_BUREAU_WEEK\"].isnull().sum()"
   ]
  },
  {
   "cell_type": "code",
   "execution_count": 26,
   "id": "4f79381f",
   "metadata": {},
   "outputs": [
    {
     "data": {
      "text/plain": [
       "41519"
      ]
     },
     "execution_count": 26,
     "metadata": {},
     "output_type": "execute_result"
    }
   ],
   "source": [
    "app[\"AMT_REQ_CREDIT_BUREAU_MON\"].isnull().sum()"
   ]
  },
  {
   "cell_type": "code",
   "execution_count": 27,
   "id": "e04eddac",
   "metadata": {},
   "outputs": [
    {
     "data": {
      "text/plain": [
       "41519"
      ]
     },
     "execution_count": 27,
     "metadata": {},
     "output_type": "execute_result"
    }
   ],
   "source": [
    "app[\"AMT_REQ_CREDIT_BUREAU_QRT\"].isnull().sum()"
   ]
  },
  {
   "cell_type": "code",
   "execution_count": 28,
   "id": "f4021ce2",
   "metadata": {},
   "outputs": [
    {
     "data": {
      "text/plain": [
       "41519"
      ]
     },
     "execution_count": 28,
     "metadata": {},
     "output_type": "execute_result"
    }
   ],
   "source": [
    "app[\"AMT_REQ_CREDIT_BUREAU_YEAR\"].isnull().sum()"
   ]
  },
  {
   "cell_type": "code",
   "execution_count": 29,
   "id": "2a672b74",
   "metadata": {},
   "outputs": [
    {
     "data": {
      "text/plain": [
       "173378"
      ]
     },
     "execution_count": 29,
     "metadata": {},
     "output_type": "execute_result"
    }
   ],
   "source": [
    "app[\"EXT_SOURCE_1\"].isnull().sum()"
   ]
  },
  {
   "cell_type": "code",
   "execution_count": 30,
   "id": "16b497e8",
   "metadata": {},
   "outputs": [],
   "source": [
    "app=app.drop(\"EXT_SOURCE_1\",axis=1)"
   ]
  },
  {
   "cell_type": "code",
   "execution_count": 31,
   "id": "802c8cdd",
   "metadata": {},
   "outputs": [
    {
     "data": {
      "text/plain": [
       "156061"
      ]
     },
     "execution_count": 31,
     "metadata": {},
     "output_type": "execute_result"
    }
   ],
   "source": [
    "app[\"APARTMENTS_AVG\"].isnull().sum()"
   ]
  },
  {
   "cell_type": "code",
   "execution_count": 32,
   "id": "87c1bd62",
   "metadata": {},
   "outputs": [
    {
     "data": {
      "text/plain": [
       "145755"
      ]
     },
     "execution_count": 32,
     "metadata": {},
     "output_type": "execute_result"
    }
   ],
   "source": [
    "app[\"EMERGENCYSTATE_MODE\"].isnull().sum()"
   ]
  },
  {
   "cell_type": "code",
   "execution_count": 33,
   "id": "3573f9ab",
   "metadata": {},
   "outputs": [
    {
     "data": {
      "text/html": [
       "<div>\n",
       "<style scoped>\n",
       "    .dataframe tbody tr th:only-of-type {\n",
       "        vertical-align: middle;\n",
       "    }\n",
       "\n",
       "    .dataframe tbody tr th {\n",
       "        vertical-align: top;\n",
       "    }\n",
       "\n",
       "    .dataframe thead th {\n",
       "        text-align: right;\n",
       "    }\n",
       "</style>\n",
       "<table border=\"1\" class=\"dataframe\">\n",
       "  <thead>\n",
       "    <tr style=\"text-align: right;\">\n",
       "      <th></th>\n",
       "      <th>SK_ID_CURR</th>\n",
       "      <th>TARGET</th>\n",
       "      <th>NAME_CONTRACT_TYPE</th>\n",
       "      <th>CODE_GENDER</th>\n",
       "      <th>FLAG_OWN_CAR</th>\n",
       "      <th>FLAG_OWN_REALTY</th>\n",
       "      <th>CNT_CHILDREN</th>\n",
       "      <th>AMT_INCOME_TOTAL</th>\n",
       "      <th>AMT_CREDIT</th>\n",
       "      <th>AMT_ANNUITY</th>\n",
       "      <th>...</th>\n",
       "      <th>DEF_30_CNT_SOCIAL_CIRCLE</th>\n",
       "      <th>OBS_60_CNT_SOCIAL_CIRCLE</th>\n",
       "      <th>DEF_60_CNT_SOCIAL_CIRCLE</th>\n",
       "      <th>AMT_REQ_CREDIT_BUREAU_HOUR</th>\n",
       "      <th>AMT_REQ_CREDIT_BUREAU_DAY</th>\n",
       "      <th>AMT_REQ_CREDIT_BUREAU_WEEK</th>\n",
       "      <th>AMT_REQ_CREDIT_BUREAU_MON</th>\n",
       "      <th>AMT_REQ_CREDIT_BUREAU_QRT</th>\n",
       "      <th>AMT_REQ_CREDIT_BUREAU_YEAR</th>\n",
       "      <th>DOCUMENT_COUNTS</th>\n",
       "    </tr>\n",
       "  </thead>\n",
       "  <tbody>\n",
       "    <tr>\n",
       "      <th>0</th>\n",
       "      <td>100002</td>\n",
       "      <td>1</td>\n",
       "      <td>Cash loans</td>\n",
       "      <td>M</td>\n",
       "      <td>N</td>\n",
       "      <td>Y</td>\n",
       "      <td>0</td>\n",
       "      <td>202500.0</td>\n",
       "      <td>406597.5</td>\n",
       "      <td>24700.5</td>\n",
       "      <td>...</td>\n",
       "      <td>2.0</td>\n",
       "      <td>2.0</td>\n",
       "      <td>2.0</td>\n",
       "      <td>0.0</td>\n",
       "      <td>0.0</td>\n",
       "      <td>0.0</td>\n",
       "      <td>0.0</td>\n",
       "      <td>0.0</td>\n",
       "      <td>1.0</td>\n",
       "      <td>1</td>\n",
       "    </tr>\n",
       "    <tr>\n",
       "      <th>1</th>\n",
       "      <td>100003</td>\n",
       "      <td>0</td>\n",
       "      <td>Cash loans</td>\n",
       "      <td>F</td>\n",
       "      <td>N</td>\n",
       "      <td>N</td>\n",
       "      <td>0</td>\n",
       "      <td>270000.0</td>\n",
       "      <td>1293502.5</td>\n",
       "      <td>35698.5</td>\n",
       "      <td>...</td>\n",
       "      <td>0.0</td>\n",
       "      <td>1.0</td>\n",
       "      <td>0.0</td>\n",
       "      <td>0.0</td>\n",
       "      <td>0.0</td>\n",
       "      <td>0.0</td>\n",
       "      <td>0.0</td>\n",
       "      <td>0.0</td>\n",
       "      <td>0.0</td>\n",
       "      <td>1</td>\n",
       "    </tr>\n",
       "    <tr>\n",
       "      <th>2</th>\n",
       "      <td>100004</td>\n",
       "      <td>0</td>\n",
       "      <td>Revolving loans</td>\n",
       "      <td>M</td>\n",
       "      <td>Y</td>\n",
       "      <td>Y</td>\n",
       "      <td>0</td>\n",
       "      <td>67500.0</td>\n",
       "      <td>135000.0</td>\n",
       "      <td>6750.0</td>\n",
       "      <td>...</td>\n",
       "      <td>0.0</td>\n",
       "      <td>0.0</td>\n",
       "      <td>0.0</td>\n",
       "      <td>0.0</td>\n",
       "      <td>0.0</td>\n",
       "      <td>0.0</td>\n",
       "      <td>0.0</td>\n",
       "      <td>0.0</td>\n",
       "      <td>0.0</td>\n",
       "      <td>0</td>\n",
       "    </tr>\n",
       "    <tr>\n",
       "      <th>3</th>\n",
       "      <td>100006</td>\n",
       "      <td>0</td>\n",
       "      <td>Cash loans</td>\n",
       "      <td>F</td>\n",
       "      <td>N</td>\n",
       "      <td>Y</td>\n",
       "      <td>0</td>\n",
       "      <td>135000.0</td>\n",
       "      <td>312682.5</td>\n",
       "      <td>29686.5</td>\n",
       "      <td>...</td>\n",
       "      <td>0.0</td>\n",
       "      <td>2.0</td>\n",
       "      <td>0.0</td>\n",
       "      <td>NaN</td>\n",
       "      <td>NaN</td>\n",
       "      <td>NaN</td>\n",
       "      <td>NaN</td>\n",
       "      <td>NaN</td>\n",
       "      <td>NaN</td>\n",
       "      <td>1</td>\n",
       "    </tr>\n",
       "    <tr>\n",
       "      <th>4</th>\n",
       "      <td>100007</td>\n",
       "      <td>0</td>\n",
       "      <td>Cash loans</td>\n",
       "      <td>M</td>\n",
       "      <td>N</td>\n",
       "      <td>Y</td>\n",
       "      <td>0</td>\n",
       "      <td>121500.0</td>\n",
       "      <td>513000.0</td>\n",
       "      <td>21865.5</td>\n",
       "      <td>...</td>\n",
       "      <td>0.0</td>\n",
       "      <td>0.0</td>\n",
       "      <td>0.0</td>\n",
       "      <td>0.0</td>\n",
       "      <td>0.0</td>\n",
       "      <td>0.0</td>\n",
       "      <td>0.0</td>\n",
       "      <td>0.0</td>\n",
       "      <td>0.0</td>\n",
       "      <td>1</td>\n",
       "    </tr>\n",
       "  </tbody>\n",
       "</table>\n",
       "<p>5 rows × 45 columns</p>\n",
       "</div>"
      ],
      "text/plain": [
       "   SK_ID_CURR  TARGET NAME_CONTRACT_TYPE CODE_GENDER FLAG_OWN_CAR  \\\n",
       "0      100002       1         Cash loans           M            N   \n",
       "1      100003       0         Cash loans           F            N   \n",
       "2      100004       0    Revolving loans           M            Y   \n",
       "3      100006       0         Cash loans           F            N   \n",
       "4      100007       0         Cash loans           M            N   \n",
       "\n",
       "  FLAG_OWN_REALTY  CNT_CHILDREN  AMT_INCOME_TOTAL  AMT_CREDIT  AMT_ANNUITY  \\\n",
       "0               Y             0          202500.0    406597.5      24700.5   \n",
       "1               N             0          270000.0   1293502.5      35698.5   \n",
       "2               Y             0           67500.0    135000.0       6750.0   \n",
       "3               Y             0          135000.0    312682.5      29686.5   \n",
       "4               Y             0          121500.0    513000.0      21865.5   \n",
       "\n",
       "   ...  DEF_30_CNT_SOCIAL_CIRCLE OBS_60_CNT_SOCIAL_CIRCLE  \\\n",
       "0  ...                       2.0                      2.0   \n",
       "1  ...                       0.0                      1.0   \n",
       "2  ...                       0.0                      0.0   \n",
       "3  ...                       0.0                      2.0   \n",
       "4  ...                       0.0                      0.0   \n",
       "\n",
       "  DEF_60_CNT_SOCIAL_CIRCLE AMT_REQ_CREDIT_BUREAU_HOUR  \\\n",
       "0                      2.0                        0.0   \n",
       "1                      0.0                        0.0   \n",
       "2                      0.0                        0.0   \n",
       "3                      0.0                        NaN   \n",
       "4                      0.0                        0.0   \n",
       "\n",
       "  AMT_REQ_CREDIT_BUREAU_DAY  AMT_REQ_CREDIT_BUREAU_WEEK  \\\n",
       "0                       0.0                         0.0   \n",
       "1                       0.0                         0.0   \n",
       "2                       0.0                         0.0   \n",
       "3                       NaN                         NaN   \n",
       "4                       0.0                         0.0   \n",
       "\n",
       "   AMT_REQ_CREDIT_BUREAU_MON  AMT_REQ_CREDIT_BUREAU_QRT  \\\n",
       "0                        0.0                        0.0   \n",
       "1                        0.0                        0.0   \n",
       "2                        0.0                        0.0   \n",
       "3                        NaN                        NaN   \n",
       "4                        0.0                        0.0   \n",
       "\n",
       "   AMT_REQ_CREDIT_BUREAU_YEAR  DOCUMENT_COUNTS  \n",
       "0                         1.0                1  \n",
       "1                         0.0                1  \n",
       "2                         0.0                0  \n",
       "3                         NaN                1  \n",
       "4                         0.0                1  \n",
       "\n",
       "[5 rows x 45 columns]"
      ]
     },
     "execution_count": 33,
     "metadata": {},
     "output_type": "execute_result"
    }
   ],
   "source": [
    "\n",
    "\n",
    "app=app.drop([\"APARTMENTS_AVG\",\"BASEMENTAREA_AVG\",\"YEARS_BEGINEXPLUATATION_AVG\",\"YEARS_BUILD_AVG\",\"COMMONAREA_AVG\",\"ELEVATORS_AVG\",\"ENTRANCES_AVG\",\"FLOORSMAX_AVG\",\"FLOORSMIN_AVG\",\"LANDAREA_AVG\",\"LIVINGAPARTMENTS_AVG\",\"LIVINGAREA_AVG\",\"NONLIVINGAPARTMENTS_AVG\",\"NONLIVINGAREA_AVG\",\"APARTMENTS_MODE\",\"BASEMENTAREA_MODE\",\"YEARS_BEGINEXPLUATATION_MODE\",\"YEARS_BUILD_MODE\",\"COMMONAREA_MODE\",\"ELEVATORS_MODE\",\"ENTRANCES_MODE\",\"FLOORSMAX_MODE\",\"FLOORSMIN_MODE\",\"LANDAREA_MODE\",\"LIVINGAPARTMENTS_MODE\",\"LIVINGAREA_MODE\",\"NONLIVINGAPARTMENTS_MODE\",\"NONLIVINGAREA_MODE\",\"APARTMENTS_MEDI\",\"BASEMENTAREA_MEDI\",\"YEARS_BEGINEXPLUATATION_MEDI\",\"YEARS_BUILD_MEDI\",\"COMMONAREA_MEDI\",\"ELEVATORS_MEDI\",\"ENTRANCES_MEDI\",\"FLOORSMAX_MEDI\",\"FLOORSMIN_MEDI\",\"LANDAREA_MEDI\",\"LIVINGAPARTMENTS_MEDI\",\"LIVINGAREA_MEDI\",\"NONLIVINGAPARTMENTS_MEDI\",\"NONLIVINGAREA_MEDI\",\"FONDKAPREMONT_MODE\",\"HOUSETYPE_MODE\",\"TOTALAREA_MODE\",\"WALLSMATERIAL_MODE\",\"EMERGENCYSTATE_MODE\"],axis=1)\n",
    "app.head()"
   ]
  },
  {
   "cell_type": "code",
   "execution_count": 34,
   "id": "22426104",
   "metadata": {},
   "outputs": [
    {
     "name": "stdout",
     "output_type": "stream",
     "text": [
      "<class 'pandas.core.frame.DataFrame'>\n",
      "RangeIndex: 307511 entries, 0 to 307510\n",
      "Data columns (total 45 columns):\n",
      " #   Column                       Non-Null Count   Dtype  \n",
      "---  ------                       --------------   -----  \n",
      " 0   SK_ID_CURR                   307511 non-null  int64  \n",
      " 1   TARGET                       307511 non-null  int64  \n",
      " 2   NAME_CONTRACT_TYPE           307511 non-null  object \n",
      " 3   CODE_GENDER                  307511 non-null  object \n",
      " 4   FLAG_OWN_CAR                 307511 non-null  object \n",
      " 5   FLAG_OWN_REALTY              307511 non-null  object \n",
      " 6   CNT_CHILDREN                 307511 non-null  int64  \n",
      " 7   AMT_INCOME_TOTAL             307511 non-null  float64\n",
      " 8   AMT_CREDIT                   307511 non-null  float64\n",
      " 9   AMT_ANNUITY                  307499 non-null  float64\n",
      " 10  AMT_GOODS_PRICE              307233 non-null  float64\n",
      " 11  NAME_INCOME_TYPE             307511 non-null  object \n",
      " 12  NAME_EDUCATION_TYPE          307511 non-null  object \n",
      " 13  NAME_FAMILY_STATUS           307511 non-null  object \n",
      " 14  NAME_HOUSING_TYPE            307511 non-null  object \n",
      " 15  REGION_POPULATION_RELATIVE   307511 non-null  float64\n",
      " 16  DAYS_BIRTH                   307511 non-null  int64  \n",
      " 17  DAYS_EMPLOYED                307511 non-null  int64  \n",
      " 18  DAYS_REGISTRATION            307511 non-null  float64\n",
      " 19  DAYS_ID_PUBLISH              307511 non-null  int64  \n",
      " 20  OWN_CAR_AGE                  104582 non-null  float64\n",
      " 21  FLAG_MOBIL                   307511 non-null  int64  \n",
      " 22  FLAG_EMP_PHONE               307511 non-null  int64  \n",
      " 23  FLAG_WORK_PHONE              307511 non-null  int64  \n",
      " 24  FLAG_CONT_MOBILE             307511 non-null  int64  \n",
      " 25  FLAG_PHONE                   307511 non-null  int64  \n",
      " 26  FLAG_EMAIL                   307511 non-null  int64  \n",
      " 27  OCCUPATION_TYPE              211120 non-null  object \n",
      " 28  CNT_FAM_MEMBERS              307509 non-null  float64\n",
      " 29  REGION_RATING_CLIENT         307511 non-null  int64  \n",
      " 30  REGION_RATING_CLIENT_W_CITY  307511 non-null  int64  \n",
      " 31  ORGANIZATION_TYPE            307511 non-null  object \n",
      " 32  EXT_SOURCE_2                 306851 non-null  float64\n",
      " 33  EXT_SOURCE_3                 246546 non-null  float64\n",
      " 34  OBS_30_CNT_SOCIAL_CIRCLE     306490 non-null  float64\n",
      " 35  DEF_30_CNT_SOCIAL_CIRCLE     306490 non-null  float64\n",
      " 36  OBS_60_CNT_SOCIAL_CIRCLE     306490 non-null  float64\n",
      " 37  DEF_60_CNT_SOCIAL_CIRCLE     306490 non-null  float64\n",
      " 38  AMT_REQ_CREDIT_BUREAU_HOUR   265992 non-null  float64\n",
      " 39  AMT_REQ_CREDIT_BUREAU_DAY    265992 non-null  float64\n",
      " 40  AMT_REQ_CREDIT_BUREAU_WEEK   265992 non-null  float64\n",
      " 41  AMT_REQ_CREDIT_BUREAU_MON    265992 non-null  float64\n",
      " 42  AMT_REQ_CREDIT_BUREAU_QRT    265992 non-null  float64\n",
      " 43  AMT_REQ_CREDIT_BUREAU_YEAR   265992 non-null  float64\n",
      " 44  DOCUMENT_COUNTS              307511 non-null  int64  \n",
      "dtypes: float64(20), int64(15), object(10)\n",
      "memory usage: 105.6+ MB\n"
     ]
    }
   ],
   "source": [
    "app.info()"
   ]
  },
  {
   "cell_type": "code",
   "execution_count": 35,
   "id": "ae6eb7cf",
   "metadata": {},
   "outputs": [
    {
     "data": {
      "text/plain": [
       "F      202448\n",
       "M      105059\n",
       "XNA         4\n",
       "Name: CODE_GENDER, dtype: int64"
      ]
     },
     "execution_count": 35,
     "metadata": {},
     "output_type": "execute_result"
    }
   ],
   "source": [
    "app[\"CODE_GENDER\"].value_counts()"
   ]
  },
  {
   "cell_type": "code",
   "execution_count": 36,
   "id": "3c3ed7f8",
   "metadata": {},
   "outputs": [],
   "source": [
    "app[\"CODE_GENDER\"]=app[\"CODE_GENDER\"].replace(\"XNA\",np.nan)"
   ]
  },
  {
   "cell_type": "code",
   "execution_count": 37,
   "id": "3021916e",
   "metadata": {},
   "outputs": [
    {
     "data": {
      "text/plain": [
       "F    202448\n",
       "M    105059\n",
       "Name: CODE_GENDER, dtype: int64"
      ]
     },
     "execution_count": 37,
     "metadata": {},
     "output_type": "execute_result"
    }
   ],
   "source": [
    "app[\"CODE_GENDER\"].value_counts()"
   ]
  },
  {
   "cell_type": "code",
   "execution_count": 38,
   "id": "81f1b3a5",
   "metadata": {},
   "outputs": [],
   "source": [
    "app=app.drop([\"FLAG_OWN_CAR\",\"FLAG_OWN_REALTY\"],axis=1)"
   ]
  },
  {
   "cell_type": "code",
   "execution_count": 39,
   "id": "e3d76c9d",
   "metadata": {},
   "outputs": [
    {
     "data": {
      "text/plain": [
       "Working                 158774\n",
       "Commercial associate     71617\n",
       "Pensioner                55362\n",
       "State servant            21703\n",
       "Unemployed                  22\n",
       "Student                     18\n",
       "Businessman                 10\n",
       "Maternity leave              5\n",
       "Name: NAME_INCOME_TYPE, dtype: int64"
      ]
     },
     "execution_count": 39,
     "metadata": {},
     "output_type": "execute_result"
    }
   ],
   "source": [
    "app[\"NAME_INCOME_TYPE\"].value_counts()"
   ]
  },
  {
   "cell_type": "code",
   "execution_count": 40,
   "id": "a6b2e4f4",
   "metadata": {},
   "outputs": [
    {
     "data": {
      "text/plain": [
       "Secondary / secondary special    218391\n",
       "Higher education                  74863\n",
       "Incomplete higher                 10277\n",
       "Lower secondary                    3816\n",
       "Academic degree                     164\n",
       "Name: NAME_EDUCATION_TYPE, dtype: int64"
      ]
     },
     "execution_count": 40,
     "metadata": {},
     "output_type": "execute_result"
    }
   ],
   "source": [
    "app[\"NAME_EDUCATION_TYPE\"].value_counts()"
   ]
  },
  {
   "cell_type": "code",
   "execution_count": 41,
   "id": "f5c841c5",
   "metadata": {},
   "outputs": [
    {
     "data": {
      "text/plain": [
       "Married                 196432\n",
       "Single / not married     45444\n",
       "Civil marriage           29775\n",
       "Separated                19770\n",
       "Widow                    16088\n",
       "Unknown                      2\n",
       "Name: NAME_FAMILY_STATUS, dtype: int64"
      ]
     },
     "execution_count": 41,
     "metadata": {},
     "output_type": "execute_result"
    }
   ],
   "source": [
    "app[\"NAME_FAMILY_STATUS\"].value_counts()"
   ]
  },
  {
   "cell_type": "code",
   "execution_count": 42,
   "id": "fdf8b2f8",
   "metadata": {},
   "outputs": [
    {
     "data": {
      "text/plain": [
       "House / apartment      272868\n",
       "With parents            14840\n",
       "Municipal apartment     11183\n",
       "Rented apartment         4881\n",
       "Office apartment         2617\n",
       "Co-op apartment          1122\n",
       "Name: NAME_HOUSING_TYPE, dtype: int64"
      ]
     },
     "execution_count": 42,
     "metadata": {},
     "output_type": "execute_result"
    }
   ],
   "source": [
    "app[\"NAME_HOUSING_TYPE\"].value_counts()"
   ]
  },
  {
   "cell_type": "code",
   "execution_count": 43,
   "id": "93049e22",
   "metadata": {},
   "outputs": [],
   "source": [
    "app[\"REGION_POPULATION_RELATIVE\"]=app[\"REGION_POPULATION_RELATIVE\"].round(3)"
   ]
  },
  {
   "cell_type": "code",
   "execution_count": 44,
   "id": "b280f0e8",
   "metadata": {},
   "outputs": [
    {
     "data": {
      "text/plain": [
       "0.019    29508\n",
       "0.031    23484\n",
       "0.007    22277\n",
       "0.010    22046\n",
       "0.025    18354\n",
       "0.036    16408\n",
       "0.046    13442\n",
       "0.020    13350\n",
       "0.018    12219\n",
       "0.015    11609\n",
       "0.026    11601\n",
       "0.029    11157\n",
       "0.023    10750\n",
       "0.009    10560\n",
       "0.005     9073\n",
       "0.073     8412\n",
       "0.011     8299\n",
       "0.021     8066\n",
       "0.006     7716\n",
       "0.008     7031\n",
       "0.033     6636\n",
       "0.012     6332\n",
       "0.017     4408\n",
       "0.003     3874\n",
       "0.004     3455\n",
       "0.014     3422\n",
       "0.002     2693\n",
       "0.001     1327\n",
       "0.000        2\n",
       "Name: REGION_POPULATION_RELATIVE, dtype: int64"
      ]
     },
     "execution_count": 44,
     "metadata": {},
     "output_type": "execute_result"
    }
   ],
   "source": [
    "app[\"REGION_POPULATION_RELATIVE\"].value_counts()"
   ]
  },
  {
   "cell_type": "code",
   "execution_count": 45,
   "id": "f358edb5",
   "metadata": {},
   "outputs": [
    {
     "data": {
      "text/plain": [
       "0.0      163910\n",
       "1.0       48783\n",
       "2.0       29808\n",
       "3.0       20322\n",
       "4.0       14143\n",
       "5.0        9553\n",
       "6.0        6453\n",
       "7.0        4390\n",
       "8.0        2967\n",
       "9.0        2003\n",
       "10.0       1376\n",
       "11.0        852\n",
       "12.0        652\n",
       "13.0        411\n",
       "14.0        258\n",
       "15.0        166\n",
       "16.0        133\n",
       "17.0         88\n",
       "18.0         46\n",
       "19.0         44\n",
       "20.0         30\n",
       "21.0         29\n",
       "22.0         22\n",
       "23.0         15\n",
       "25.0         11\n",
       "24.0         11\n",
       "27.0          5\n",
       "26.0          3\n",
       "30.0          2\n",
       "28.0          1\n",
       "29.0          1\n",
       "47.0          1\n",
       "348.0         1\n",
       "Name: OBS_30_CNT_SOCIAL_CIRCLE, dtype: int64"
      ]
     },
     "execution_count": 45,
     "metadata": {},
     "output_type": "execute_result"
    }
   ],
   "source": [
    "app[\"OBS_30_CNT_SOCIAL_CIRCLE\"].value_counts()"
   ]
  },
  {
   "cell_type": "code",
   "execution_count": 46,
   "id": "1bf3947e",
   "metadata": {},
   "outputs": [],
   "source": [
    "prevApp=pd.read_csv(\"Previous_Application.csv\")"
   ]
  },
  {
   "cell_type": "code",
   "execution_count": 47,
   "id": "b036dc58",
   "metadata": {},
   "outputs": [
    {
     "name": "stdout",
     "output_type": "stream",
     "text": [
      "<class 'pandas.core.frame.DataFrame'>\n",
      "RangeIndex: 1670214 entries, 0 to 1670213\n",
      "Data columns (total 37 columns):\n",
      " #   Column                       Non-Null Count    Dtype  \n",
      "---  ------                       --------------    -----  \n",
      " 0   SK_ID_PREV                   1670214 non-null  int64  \n",
      " 1   SK_ID_CURR                   1670214 non-null  int64  \n",
      " 2   NAME_CONTRACT_TYPE           1670214 non-null  object \n",
      " 3   AMT_ANNUITY                  1297979 non-null  float64\n",
      " 4   AMT_APPLICATION              1670214 non-null  float64\n",
      " 5   AMT_CREDIT                   1670213 non-null  float64\n",
      " 6   AMT_DOWN_PAYMENT             774370 non-null   float64\n",
      " 7   AMT_GOODS_PRICE              1284699 non-null  float64\n",
      " 8   WEEKDAY_APPR_PROCESS_START   1670214 non-null  object \n",
      " 9   HOUR_APPR_PROCESS_START      1670214 non-null  int64  \n",
      " 10  FLAG_LAST_APPL_PER_CONTRACT  1670214 non-null  object \n",
      " 11  NFLAG_LAST_APPL_IN_DAY       1670214 non-null  int64  \n",
      " 12  RATE_DOWN_PAYMENT            774370 non-null   float64\n",
      " 13  RATE_INTEREST_PRIMARY        5951 non-null     float64\n",
      " 14  RATE_INTEREST_PRIVILEGED     5951 non-null     float64\n",
      " 15  NAME_CASH_LOAN_PURPOSE       1670214 non-null  object \n",
      " 16  NAME_CONTRACT_STATUS         1670214 non-null  object \n",
      " 17  DAYS_DECISION                1670214 non-null  int64  \n",
      " 18  NAME_PAYMENT_TYPE            1670214 non-null  object \n",
      " 19  CODE_REJECT_REASON           1670214 non-null  object \n",
      " 20  NAME_TYPE_SUITE              849809 non-null   object \n",
      " 21  NAME_CLIENT_TYPE             1670214 non-null  object \n",
      " 22  NAME_GOODS_CATEGORY          1670214 non-null  object \n",
      " 23  NAME_PORTFOLIO               1670214 non-null  object \n",
      " 24  NAME_PRODUCT_TYPE            1670214 non-null  object \n",
      " 25  CHANNEL_TYPE                 1670214 non-null  object \n",
      " 26  SELLERPLACE_AREA             1670214 non-null  int64  \n",
      " 27  NAME_SELLER_INDUSTRY         1670214 non-null  object \n",
      " 28  CNT_PAYMENT                  1297984 non-null  float64\n",
      " 29  NAME_YIELD_GROUP             1670214 non-null  object \n",
      " 30  PRODUCT_COMBINATION          1669868 non-null  object \n",
      " 31  DAYS_FIRST_DRAWING           997149 non-null   float64\n",
      " 32  DAYS_FIRST_DUE               997149 non-null   float64\n",
      " 33  DAYS_LAST_DUE_1ST_VERSION    997149 non-null   float64\n",
      " 34  DAYS_LAST_DUE                997149 non-null   float64\n",
      " 35  DAYS_TERMINATION             997149 non-null   float64\n",
      " 36  NFLAG_INSURED_ON_APPROVAL    997149 non-null   float64\n",
      "dtypes: float64(15), int64(6), object(16)\n",
      "memory usage: 471.5+ MB\n"
     ]
    }
   ],
   "source": [
    "prevApp.info()"
   ]
  },
  {
   "cell_type": "code",
   "execution_count": 48,
   "id": "d4cb9ad2",
   "metadata": {},
   "outputs": [],
   "source": [
    "prevApp[\"NAME_CONTRACT_TYPE\"]=prevApp[\"NAME_CONTRACT_TYPE\"].replace(\"XNA\",np.nan)"
   ]
  },
  {
   "cell_type": "code",
   "execution_count": 49,
   "id": "101c5b73",
   "metadata": {},
   "outputs": [
    {
     "data": {
      "text/plain": [
       "Cash loans         747553\n",
       "Consumer loans     729151\n",
       "Revolving loans    193164\n",
       "Name: NAME_CONTRACT_TYPE, dtype: int64"
      ]
     },
     "execution_count": 49,
     "metadata": {},
     "output_type": "execute_result"
    }
   ],
   "source": [
    "prevApp[\"NAME_CONTRACT_TYPE\"].value_counts()"
   ]
  },
  {
   "cell_type": "code",
   "execution_count": 50,
   "id": "633fc746",
   "metadata": {},
   "outputs": [],
   "source": [
    "prevApp=prevApp.drop([\"RATE_INTEREST_PRIMARY\",\"RATE_INTEREST_PRIVILEGED\"],axis=1)"
   ]
  },
  {
   "cell_type": "code",
   "execution_count": 51,
   "id": "42c958fd",
   "metadata": {},
   "outputs": [],
   "source": [
    "prevApp[\"NAME_SELLER_INDUSTRY\"]=prevApp[\"NAME_SELLER_INDUSTRY\"].replace(\"XNA\",np.nan)"
   ]
  },
  {
   "cell_type": "code",
   "execution_count": 52,
   "id": "3904a742",
   "metadata": {},
   "outputs": [],
   "source": [
    "prevApp[\"NAME_YIELD_GROUP\"]=prevApp[\"NAME_YIELD_GROUP\"].replace(\"XNA\",np.nan)"
   ]
  },
  {
   "cell_type": "code",
   "execution_count": 53,
   "id": "d1e1dc02",
   "metadata": {},
   "outputs": [
    {
     "data": {
      "text/plain": [
       "820405"
      ]
     },
     "execution_count": 53,
     "metadata": {},
     "output_type": "execute_result"
    }
   ],
   "source": [
    "prevApp[\"NAME_TYPE_SUITE\"].isnull().sum()"
   ]
  },
  {
   "cell_type": "code",
   "execution_count": 54,
   "id": "f34baa87",
   "metadata": {},
   "outputs": [
    {
     "data": {
      "text/plain": [
       "0.4911975351661524"
      ]
     },
     "execution_count": 54,
     "metadata": {},
     "output_type": "execute_result"
    }
   ],
   "source": [
    "820405/1670214"
   ]
  },
  {
   "cell_type": "code",
   "execution_count": 55,
   "id": "f8bef8c6",
   "metadata": {},
   "outputs": [],
   "source": [
    "prevApp=prevApp.drop([\"NAME_TYPE_SUITE\",\"AMT_DOWN_PAYMENT\"],axis=1)"
   ]
  },
  {
   "cell_type": "code",
   "execution_count": 56,
   "id": "652f7e55",
   "metadata": {},
   "outputs": [
    {
     "name": "stdout",
     "output_type": "stream",
     "text": [
      "<class 'pandas.core.frame.DataFrame'>\n",
      "RangeIndex: 1670214 entries, 0 to 1670213\n",
      "Data columns (total 33 columns):\n",
      " #   Column                       Non-Null Count    Dtype  \n",
      "---  ------                       --------------    -----  \n",
      " 0   SK_ID_PREV                   1670214 non-null  int64  \n",
      " 1   SK_ID_CURR                   1670214 non-null  int64  \n",
      " 2   NAME_CONTRACT_TYPE           1669868 non-null  object \n",
      " 3   AMT_ANNUITY                  1297979 non-null  float64\n",
      " 4   AMT_APPLICATION              1670214 non-null  float64\n",
      " 5   AMT_CREDIT                   1670213 non-null  float64\n",
      " 6   AMT_GOODS_PRICE              1284699 non-null  float64\n",
      " 7   WEEKDAY_APPR_PROCESS_START   1670214 non-null  object \n",
      " 8   HOUR_APPR_PROCESS_START      1670214 non-null  int64  \n",
      " 9   FLAG_LAST_APPL_PER_CONTRACT  1670214 non-null  object \n",
      " 10  NFLAG_LAST_APPL_IN_DAY       1670214 non-null  int64  \n",
      " 11  RATE_DOWN_PAYMENT            774370 non-null   float64\n",
      " 12  NAME_CASH_LOAN_PURPOSE       1670214 non-null  object \n",
      " 13  NAME_CONTRACT_STATUS         1670214 non-null  object \n",
      " 14  DAYS_DECISION                1670214 non-null  int64  \n",
      " 15  NAME_PAYMENT_TYPE            1670214 non-null  object \n",
      " 16  CODE_REJECT_REASON           1670214 non-null  object \n",
      " 17  NAME_CLIENT_TYPE             1670214 non-null  object \n",
      " 18  NAME_GOODS_CATEGORY          1670214 non-null  object \n",
      " 19  NAME_PORTFOLIO               1670214 non-null  object \n",
      " 20  NAME_PRODUCT_TYPE            1670214 non-null  object \n",
      " 21  CHANNEL_TYPE                 1670214 non-null  object \n",
      " 22  SELLERPLACE_AREA             1670214 non-null  int64  \n",
      " 23  NAME_SELLER_INDUSTRY         814494 non-null   object \n",
      " 24  CNT_PAYMENT                  1297984 non-null  float64\n",
      " 25  NAME_YIELD_GROUP             1152999 non-null  object \n",
      " 26  PRODUCT_COMBINATION          1669868 non-null  object \n",
      " 27  DAYS_FIRST_DRAWING           997149 non-null   float64\n",
      " 28  DAYS_FIRST_DUE               997149 non-null   float64\n",
      " 29  DAYS_LAST_DUE_1ST_VERSION    997149 non-null   float64\n",
      " 30  DAYS_LAST_DUE                997149 non-null   float64\n",
      " 31  DAYS_TERMINATION             997149 non-null   float64\n",
      " 32  NFLAG_INSURED_ON_APPROVAL    997149 non-null   float64\n",
      "dtypes: float64(12), int64(6), object(15)\n",
      "memory usage: 420.5+ MB\n"
     ]
    }
   ],
   "source": [
    "prevApp.info()"
   ]
  },
  {
   "cell_type": "code",
   "execution_count": 57,
   "id": "5bf37917",
   "metadata": {},
   "outputs": [
    {
     "data": {
      "text/plain": [
       "XAP                                 922661\n",
       "XNA                                 677918\n",
       "Repairs                              23765\n",
       "Other                                15608\n",
       "Urgent needs                          8412\n",
       "Buying a used car                     2888\n",
       "Building a house or an annex          2693\n",
       "Everyday expenses                     2416\n",
       "Medicine                              2174\n",
       "Payments on other loans               1931\n",
       "Education                             1573\n",
       "Journey                               1239\n",
       "Purchase of electronic equipment      1061\n",
       "Buying a new car                      1012\n",
       "Wedding / gift / holiday               962\n",
       "Buying a home                          865\n",
       "Car repairs                            797\n",
       "Furniture                              749\n",
       "Buying a holiday home / land           533\n",
       "Business development                   426\n",
       "Gasification / water supply            300\n",
       "Buying a garage                        136\n",
       "Hobby                                   55\n",
       "Money for a third person                25\n",
       "Refusal to name the goal                15\n",
       "Name: NAME_CASH_LOAN_PURPOSE, dtype: int64"
      ]
     },
     "execution_count": 57,
     "metadata": {},
     "output_type": "execute_result"
    }
   ],
   "source": [
    "prevApp[\"NAME_CASH_LOAN_PURPOSE\"].value_counts()"
   ]
  },
  {
   "cell_type": "code",
   "execution_count": 58,
   "id": "147c5345",
   "metadata": {},
   "outputs": [],
   "source": [
    "prevApp[\"NAME_CASH_LOAN_PURPOSE\"]=prevApp[\"NAME_CASH_LOAN_PURPOSE\"].replace([\"XAP\",\"XNA\"],\"Other\")"
   ]
  },
  {
   "cell_type": "code",
   "execution_count": 59,
   "id": "ff14330c",
   "metadata": {},
   "outputs": [
    {
     "data": {
      "text/plain": [
       "XAP       1353093\n",
       "HC         175231\n",
       "LIMIT       55680\n",
       "SCO         37467\n",
       "CLIENT      26436\n",
       "SCOFR       12811\n",
       "XNA          5244\n",
       "VERIF        3535\n",
       "SYSTEM        717\n",
       "Name: CODE_REJECT_REASON, dtype: int64"
      ]
     },
     "execution_count": 59,
     "metadata": {},
     "output_type": "execute_result"
    }
   ],
   "source": [
    "prevApp[\"CODE_REJECT_REASON\"].value_counts()"
   ]
  },
  {
   "cell_type": "code",
   "execution_count": 60,
   "id": "e4169a5c",
   "metadata": {},
   "outputs": [],
   "source": [
    "prevApp[\"CODE_REJECT_REASON\"]=prevApp[\"CODE_REJECT_REASON\"].replace([\"XAP\",\"XNA\"],np.nan)"
   ]
  },
  {
   "cell_type": "code",
   "execution_count": 61,
   "id": "744bcee7",
   "metadata": {},
   "outputs": [
    {
     "data": {
      "text/plain": [
       "Repeater     1231261\n",
       "New           301363\n",
       "Refreshed     135649\n",
       "XNA             1941\n",
       "Name: NAME_CLIENT_TYPE, dtype: int64"
      ]
     },
     "execution_count": 61,
     "metadata": {},
     "output_type": "execute_result"
    }
   ],
   "source": [
    "prevApp[\"NAME_CLIENT_TYPE\"].value_counts()"
   ]
  },
  {
   "cell_type": "code",
   "execution_count": 62,
   "id": "cb5558b7",
   "metadata": {},
   "outputs": [],
   "source": [
    "prevApp[\"NAME_CLIENT_TYPE\"]=prevApp[\"NAME_CLIENT_TYPE\"].replace([\"XNA\"],np.nan)"
   ]
  },
  {
   "cell_type": "code",
   "execution_count": 63,
   "id": "8d495c68",
   "metadata": {},
   "outputs": [
    {
     "data": {
      "text/plain": [
       "-1       762675\n",
       " 0        60523\n",
       " 50       37401\n",
       " 30       34423\n",
       " 20       33840\n",
       "          ...  \n",
       " 1014         1\n",
       " 1256         1\n",
       " 677          1\n",
       " 7518         1\n",
       " 1446         1\n",
       "Name: SELLERPLACE_AREA, Length: 2097, dtype: int64"
      ]
     },
     "execution_count": 63,
     "metadata": {},
     "output_type": "execute_result"
    }
   ],
   "source": [
    "prevApp[\"SELLERPLACE_AREA\"].value_counts()"
   ]
  },
  {
   "cell_type": "code",
   "execution_count": 64,
   "id": "ecb7cacb",
   "metadata": {},
   "outputs": [
    {
     "data": {
      "text/plain": [
       "0.4566331021054787"
      ]
     },
     "execution_count": 64,
     "metadata": {},
     "output_type": "execute_result"
    }
   ],
   "source": [
    "762675/1670214"
   ]
  },
  {
   "cell_type": "code",
   "execution_count": 65,
   "id": "c9db7ac8",
   "metadata": {},
   "outputs": [
    {
     "data": {
      "text/plain": [
       "middle        385532\n",
       "high          353331\n",
       "low_normal    322095\n",
       "low_action     92041\n",
       "Name: NAME_YIELD_GROUP, dtype: int64"
      ]
     },
     "execution_count": 65,
     "metadata": {},
     "output_type": "execute_result"
    }
   ],
   "source": [
    "prevApp[\"NAME_YIELD_GROUP\"].value_counts()"
   ]
  },
  {
   "cell_type": "code",
   "execution_count": 66,
   "id": "a817f75d",
   "metadata": {},
   "outputs": [],
   "source": [
    "prevApp[\"NAME_YIELD_GROUP\"]=prevApp[\"NAME_YIELD_GROUP\"].replace([\"XNA\"],np.nan)"
   ]
  },
  {
   "cell_type": "code",
   "execution_count": 67,
   "id": "b76e2365",
   "metadata": {},
   "outputs": [
    {
     "data": {
      "text/plain": [
       "0.0    665527\n",
       "1.0    331622\n",
       "Name: NFLAG_INSURED_ON_APPROVAL, dtype: int64"
      ]
     },
     "execution_count": 67,
     "metadata": {},
     "output_type": "execute_result"
    }
   ],
   "source": [
    "prevApp[\"NFLAG_INSURED_ON_APPROVAL\"].value_counts()"
   ]
  },
  {
   "cell_type": "code",
   "execution_count": 68,
   "id": "a61736c9",
   "metadata": {},
   "outputs": [],
   "source": [
    "app=app.drop(\"CNT_CHILDREN\",axis=1)"
   ]
  },
  {
   "cell_type": "markdown",
   "id": "385c3428",
   "metadata": {},
   "source": [
    "# Merging two DataFrames"
   ]
  },
  {
   "cell_type": "code",
   "execution_count": 69,
   "id": "27239a40",
   "metadata": {},
   "outputs": [],
   "source": [
    "newApp = pd.merge(left=app,right=prevApp, how='left', left_on='SK_ID_CURR', right_on='SK_ID_CURR')"
   ]
  },
  {
   "cell_type": "code",
   "execution_count": 70,
   "id": "57bd0cd2",
   "metadata": {},
   "outputs": [],
   "source": [
    "newApp=newApp.drop([\"FLAG_MOBIL\",\"FLAG_EMP_PHONE\",\"FLAG_WORK_PHONE\",\"FLAG_CONT_MOBILE\",\"FLAG_PHONE\",\"FLAG_EMAIL\",\"WEEKDAY_APPR_PROCESS_START\",\"HOUR_APPR_PROCESS_START\"],axis=1)"
   ]
  },
  {
   "cell_type": "code",
   "execution_count": 71,
   "id": "1fd4869e",
   "metadata": {},
   "outputs": [
    {
     "data": {
      "text/html": [
       "<div>\n",
       "<style scoped>\n",
       "    .dataframe tbody tr th:only-of-type {\n",
       "        vertical-align: middle;\n",
       "    }\n",
       "\n",
       "    .dataframe tbody tr th {\n",
       "        vertical-align: top;\n",
       "    }\n",
       "\n",
       "    .dataframe thead th {\n",
       "        text-align: right;\n",
       "    }\n",
       "</style>\n",
       "<table border=\"1\" class=\"dataframe\">\n",
       "  <thead>\n",
       "    <tr style=\"text-align: right;\">\n",
       "      <th></th>\n",
       "      <th>SK_ID_CURR</th>\n",
       "      <th>TARGET</th>\n",
       "      <th>NAME_CONTRACT_TYPE_x</th>\n",
       "      <th>CODE_GENDER</th>\n",
       "      <th>AMT_INCOME_TOTAL</th>\n",
       "      <th>AMT_CREDIT_x</th>\n",
       "      <th>AMT_ANNUITY_x</th>\n",
       "      <th>AMT_GOODS_PRICE_x</th>\n",
       "      <th>NAME_INCOME_TYPE</th>\n",
       "      <th>NAME_EDUCATION_TYPE</th>\n",
       "      <th>...</th>\n",
       "      <th>NAME_SELLER_INDUSTRY</th>\n",
       "      <th>CNT_PAYMENT</th>\n",
       "      <th>NAME_YIELD_GROUP</th>\n",
       "      <th>PRODUCT_COMBINATION</th>\n",
       "      <th>DAYS_FIRST_DRAWING</th>\n",
       "      <th>DAYS_FIRST_DUE</th>\n",
       "      <th>DAYS_LAST_DUE_1ST_VERSION</th>\n",
       "      <th>DAYS_LAST_DUE</th>\n",
       "      <th>DAYS_TERMINATION</th>\n",
       "      <th>NFLAG_INSURED_ON_APPROVAL</th>\n",
       "    </tr>\n",
       "  </thead>\n",
       "  <tbody>\n",
       "    <tr>\n",
       "      <th>0</th>\n",
       "      <td>100002</td>\n",
       "      <td>1</td>\n",
       "      <td>Cash loans</td>\n",
       "      <td>M</td>\n",
       "      <td>202500.0</td>\n",
       "      <td>406597.5</td>\n",
       "      <td>24700.5</td>\n",
       "      <td>351000.0</td>\n",
       "      <td>Working</td>\n",
       "      <td>Secondary / secondary special</td>\n",
       "      <td>...</td>\n",
       "      <td>Auto technology</td>\n",
       "      <td>24.0</td>\n",
       "      <td>low_normal</td>\n",
       "      <td>POS other with interest</td>\n",
       "      <td>365243.0</td>\n",
       "      <td>-565.0</td>\n",
       "      <td>125.0</td>\n",
       "      <td>-25.0</td>\n",
       "      <td>-17.0</td>\n",
       "      <td>0.0</td>\n",
       "    </tr>\n",
       "    <tr>\n",
       "      <th>1</th>\n",
       "      <td>100003</td>\n",
       "      <td>0</td>\n",
       "      <td>Cash loans</td>\n",
       "      <td>F</td>\n",
       "      <td>270000.0</td>\n",
       "      <td>1293502.5</td>\n",
       "      <td>35698.5</td>\n",
       "      <td>1129500.0</td>\n",
       "      <td>State servant</td>\n",
       "      <td>Higher education</td>\n",
       "      <td>...</td>\n",
       "      <td>NaN</td>\n",
       "      <td>12.0</td>\n",
       "      <td>low_normal</td>\n",
       "      <td>Cash X-Sell: low</td>\n",
       "      <td>365243.0</td>\n",
       "      <td>-716.0</td>\n",
       "      <td>-386.0</td>\n",
       "      <td>-536.0</td>\n",
       "      <td>-527.0</td>\n",
       "      <td>1.0</td>\n",
       "    </tr>\n",
       "    <tr>\n",
       "      <th>2</th>\n",
       "      <td>100003</td>\n",
       "      <td>0</td>\n",
       "      <td>Cash loans</td>\n",
       "      <td>F</td>\n",
       "      <td>270000.0</td>\n",
       "      <td>1293502.5</td>\n",
       "      <td>35698.5</td>\n",
       "      <td>1129500.0</td>\n",
       "      <td>State servant</td>\n",
       "      <td>Higher education</td>\n",
       "      <td>...</td>\n",
       "      <td>Furniture</td>\n",
       "      <td>6.0</td>\n",
       "      <td>middle</td>\n",
       "      <td>POS industry with interest</td>\n",
       "      <td>365243.0</td>\n",
       "      <td>-797.0</td>\n",
       "      <td>-647.0</td>\n",
       "      <td>-647.0</td>\n",
       "      <td>-639.0</td>\n",
       "      <td>0.0</td>\n",
       "    </tr>\n",
       "    <tr>\n",
       "      <th>3</th>\n",
       "      <td>100003</td>\n",
       "      <td>0</td>\n",
       "      <td>Cash loans</td>\n",
       "      <td>F</td>\n",
       "      <td>270000.0</td>\n",
       "      <td>1293502.5</td>\n",
       "      <td>35698.5</td>\n",
       "      <td>1129500.0</td>\n",
       "      <td>State servant</td>\n",
       "      <td>Higher education</td>\n",
       "      <td>...</td>\n",
       "      <td>Consumer electronics</td>\n",
       "      <td>12.0</td>\n",
       "      <td>middle</td>\n",
       "      <td>POS household with interest</td>\n",
       "      <td>365243.0</td>\n",
       "      <td>-2310.0</td>\n",
       "      <td>-1980.0</td>\n",
       "      <td>-1980.0</td>\n",
       "      <td>-1976.0</td>\n",
       "      <td>1.0</td>\n",
       "    </tr>\n",
       "    <tr>\n",
       "      <th>4</th>\n",
       "      <td>100004</td>\n",
       "      <td>0</td>\n",
       "      <td>Revolving loans</td>\n",
       "      <td>M</td>\n",
       "      <td>67500.0</td>\n",
       "      <td>135000.0</td>\n",
       "      <td>6750.0</td>\n",
       "      <td>135000.0</td>\n",
       "      <td>Working</td>\n",
       "      <td>Secondary / secondary special</td>\n",
       "      <td>...</td>\n",
       "      <td>Connectivity</td>\n",
       "      <td>4.0</td>\n",
       "      <td>middle</td>\n",
       "      <td>POS mobile without interest</td>\n",
       "      <td>365243.0</td>\n",
       "      <td>-784.0</td>\n",
       "      <td>-694.0</td>\n",
       "      <td>-724.0</td>\n",
       "      <td>-714.0</td>\n",
       "      <td>0.0</td>\n",
       "    </tr>\n",
       "  </tbody>\n",
       "</table>\n",
       "<p>5 rows × 66 columns</p>\n",
       "</div>"
      ],
      "text/plain": [
       "   SK_ID_CURR  TARGET NAME_CONTRACT_TYPE_x CODE_GENDER  AMT_INCOME_TOTAL  \\\n",
       "0      100002       1           Cash loans           M          202500.0   \n",
       "1      100003       0           Cash loans           F          270000.0   \n",
       "2      100003       0           Cash loans           F          270000.0   \n",
       "3      100003       0           Cash loans           F          270000.0   \n",
       "4      100004       0      Revolving loans           M           67500.0   \n",
       "\n",
       "   AMT_CREDIT_x  AMT_ANNUITY_x  AMT_GOODS_PRICE_x NAME_INCOME_TYPE  \\\n",
       "0      406597.5        24700.5           351000.0          Working   \n",
       "1     1293502.5        35698.5          1129500.0    State servant   \n",
       "2     1293502.5        35698.5          1129500.0    State servant   \n",
       "3     1293502.5        35698.5          1129500.0    State servant   \n",
       "4      135000.0         6750.0           135000.0          Working   \n",
       "\n",
       "             NAME_EDUCATION_TYPE  ...  NAME_SELLER_INDUSTRY CNT_PAYMENT  \\\n",
       "0  Secondary / secondary special  ...       Auto technology        24.0   \n",
       "1               Higher education  ...                   NaN        12.0   \n",
       "2               Higher education  ...             Furniture         6.0   \n",
       "3               Higher education  ...  Consumer electronics        12.0   \n",
       "4  Secondary / secondary special  ...          Connectivity         4.0   \n",
       "\n",
       "   NAME_YIELD_GROUP          PRODUCT_COMBINATION  DAYS_FIRST_DRAWING  \\\n",
       "0        low_normal      POS other with interest            365243.0   \n",
       "1        low_normal             Cash X-Sell: low            365243.0   \n",
       "2            middle   POS industry with interest            365243.0   \n",
       "3            middle  POS household with interest            365243.0   \n",
       "4            middle  POS mobile without interest            365243.0   \n",
       "\n",
       "   DAYS_FIRST_DUE  DAYS_LAST_DUE_1ST_VERSION  DAYS_LAST_DUE DAYS_TERMINATION  \\\n",
       "0          -565.0                      125.0          -25.0            -17.0   \n",
       "1          -716.0                     -386.0         -536.0           -527.0   \n",
       "2          -797.0                     -647.0         -647.0           -639.0   \n",
       "3         -2310.0                    -1980.0        -1980.0          -1976.0   \n",
       "4          -784.0                     -694.0         -724.0           -714.0   \n",
       "\n",
       "   NFLAG_INSURED_ON_APPROVAL  \n",
       "0                        0.0  \n",
       "1                        1.0  \n",
       "2                        0.0  \n",
       "3                        1.0  \n",
       "4                        0.0  \n",
       "\n",
       "[5 rows x 66 columns]"
      ]
     },
     "execution_count": 71,
     "metadata": {},
     "output_type": "execute_result"
    }
   ],
   "source": [
    "newApp.head()"
   ]
  },
  {
   "cell_type": "markdown",
   "id": "d2df5a4f",
   "metadata": {},
   "source": [
    "#Outliers"
   ]
  },
  {
   "cell_type": "code",
   "execution_count": 72,
   "id": "f0009802",
   "metadata": {},
   "outputs": [
    {
     "name": "stdout",
     "output_type": "stream",
     "text": [
      "<class 'pandas.core.frame.DataFrame'>\n",
      "Int64Index: 1430155 entries, 0 to 1430154\n",
      "Data columns (total 66 columns):\n",
      " #   Column                       Non-Null Count    Dtype  \n",
      "---  ------                       --------------    -----  \n",
      " 0   SK_ID_CURR                   1430155 non-null  int64  \n",
      " 1   TARGET                       1430155 non-null  int64  \n",
      " 2   NAME_CONTRACT_TYPE_x         1430155 non-null  object \n",
      " 3   CODE_GENDER                  1430100 non-null  object \n",
      " 4   AMT_INCOME_TOTAL             1430155 non-null  float64\n",
      " 5   AMT_CREDIT_x                 1430155 non-null  float64\n",
      " 6   AMT_ANNUITY_x                1430062 non-null  float64\n",
      " 7   AMT_GOODS_PRICE_x            1428936 non-null  float64\n",
      " 8   NAME_INCOME_TYPE             1430155 non-null  object \n",
      " 9   NAME_EDUCATION_TYPE          1430155 non-null  object \n",
      " 10  NAME_FAMILY_STATUS           1430155 non-null  object \n",
      " 11  NAME_HOUSING_TYPE            1430155 non-null  object \n",
      " 12  REGION_POPULATION_RELATIVE   1430155 non-null  float64\n",
      " 13  DAYS_BIRTH                   1430155 non-null  int64  \n",
      " 14  DAYS_EMPLOYED                1430155 non-null  int64  \n",
      " 15  DAYS_REGISTRATION            1430155 non-null  float64\n",
      " 16  DAYS_ID_PUBLISH              1430155 non-null  int64  \n",
      " 17  OWN_CAR_AGE                  482581 non-null   float64\n",
      " 18  OCCUPATION_TYPE              967424 non-null   object \n",
      " 19  CNT_FAM_MEMBERS              1430153 non-null  float64\n",
      " 20  REGION_RATING_CLIENT         1430155 non-null  int64  \n",
      " 21  REGION_RATING_CLIENT_W_CITY  1430155 non-null  int64  \n",
      " 22  ORGANIZATION_TYPE            1430155 non-null  object \n",
      " 23  EXT_SOURCE_2                 1428254 non-null  float64\n",
      " 24  EXT_SOURCE_3                 1184536 non-null  float64\n",
      " 25  OBS_30_CNT_SOCIAL_CIRCLE     1426762 non-null  float64\n",
      " 26  DEF_30_CNT_SOCIAL_CIRCLE     1426762 non-null  float64\n",
      " 27  OBS_60_CNT_SOCIAL_CIRCLE     1426762 non-null  float64\n",
      " 28  DEF_60_CNT_SOCIAL_CIRCLE     1426762 non-null  float64\n",
      " 29  AMT_REQ_CREDIT_BUREAU_HOUR   1264343 non-null  float64\n",
      " 30  AMT_REQ_CREDIT_BUREAU_DAY    1264343 non-null  float64\n",
      " 31  AMT_REQ_CREDIT_BUREAU_WEEK   1264343 non-null  float64\n",
      " 32  AMT_REQ_CREDIT_BUREAU_MON    1264343 non-null  float64\n",
      " 33  AMT_REQ_CREDIT_BUREAU_QRT    1264343 non-null  float64\n",
      " 34  AMT_REQ_CREDIT_BUREAU_YEAR   1264343 non-null  float64\n",
      " 35  DOCUMENT_COUNTS              1430155 non-null  int64  \n",
      " 36  SK_ID_PREV                   1413701 non-null  float64\n",
      " 37  NAME_CONTRACT_TYPE_y         1413388 non-null  object \n",
      " 38  AMT_ANNUITY_y                1106483 non-null  float64\n",
      " 39  AMT_APPLICATION              1413701 non-null  float64\n",
      " 40  AMT_CREDIT_y                 1413700 non-null  float64\n",
      " 41  AMT_GOODS_PRICE_y            1094176 non-null  float64\n",
      " 42  FLAG_LAST_APPL_PER_CONTRACT  1413701 non-null  object \n",
      " 43  NFLAG_LAST_APPL_IN_DAY       1413701 non-null  float64\n",
      " 44  RATE_DOWN_PAYMENT            664161 non-null   float64\n",
      " 45  NAME_CASH_LOAN_PURPOSE       1413701 non-null  object \n",
      " 46  NAME_CONTRACT_STATUS         1413701 non-null  object \n",
      " 47  DAYS_DECISION                1413701 non-null  float64\n",
      " 48  NAME_PAYMENT_TYPE            1413701 non-null  object \n",
      " 49  CODE_REJECT_REASON           263790 non-null   object \n",
      " 50  NAME_CLIENT_TYPE             1412158 non-null  object \n",
      " 51  NAME_GOODS_CATEGORY          1413701 non-null  object \n",
      " 52  NAME_PORTFOLIO               1413701 non-null  object \n",
      " 53  NAME_PRODUCT_TYPE            1413701 non-null  object \n",
      " 54  CHANNEL_TYPE                 1413701 non-null  object \n",
      " 55  SELLERPLACE_AREA             1413701 non-null  float64\n",
      " 56  NAME_SELLER_INDUSTRY         698379 non-null   object \n",
      " 57  CNT_PAYMENT                  1106488 non-null  float64\n",
      " 58  NAME_YIELD_GROUP             984503 non-null   object \n",
      " 59  PRODUCT_COMBINATION          1413388 non-null  object \n",
      " 60  DAYS_FIRST_DRAWING           852595 non-null   float64\n",
      " 61  DAYS_FIRST_DUE               852595 non-null   float64\n",
      " 62  DAYS_LAST_DUE_1ST_VERSION    852595 non-null   float64\n",
      " 63  DAYS_LAST_DUE                852595 non-null   float64\n",
      " 64  DAYS_TERMINATION             852595 non-null   float64\n",
      " 65  NFLAG_INSURED_ON_APPROVAL    852595 non-null   float64\n",
      "dtypes: float64(36), int64(8), object(22)\n",
      "memory usage: 731.1+ MB\n"
     ]
    }
   ],
   "source": [
    "newApp.info()"
   ]
  },
  {
   "cell_type": "code",
   "execution_count": 73,
   "id": "7bd1af0a",
   "metadata": {},
   "outputs": [
    {
     "data": {
      "text/plain": [
       "135000.0    164112\n",
       "112500.0    137953\n",
       "157500.0    129421\n",
       "180000.0    120979\n",
       "225000.0    102824\n",
       "             ...  \n",
       "186300.0         1\n",
       "206289.0         1\n",
       "103729.5         1\n",
       "145507.5         1\n",
       "211954.5         1\n",
       "Name: AMT_INCOME_TOTAL, Length: 2548, dtype: int64"
      ]
     },
     "execution_count": 73,
     "metadata": {},
     "output_type": "execute_result"
    }
   ],
   "source": [
    "newApp[\"AMT_INCOME_TOTAL\"].value_counts()"
   ]
  },
  {
   "cell_type": "code",
   "execution_count": 74,
   "id": "16f9feca",
   "metadata": {},
   "outputs": [
    {
     "data": {
      "text/plain": [
       "<AxesSubplot:>"
      ]
     },
     "execution_count": 74,
     "metadata": {},
     "output_type": "execute_result"
    },
    {
     "data": {
      "image/png": "[encoded data removed]",
      "text/plain": [
       "<Figure size 432x288 with 1 Axes>"
      ]
     },
     "metadata": {
      "needs_background": "light"
     },
     "output_type": "display_data"
    }
   ],
   "source": [
    "newApp[\"AMT_INCOME_TOTAL\"].plot.box()"
   ]
  },
  {
   "cell_type": "code",
   "execution_count": 75,
   "id": "9fbf6e32",
   "metadata": {},
   "outputs": [
    {
     "data": {
      "text/plain": [
       "<AxesSubplot:>"
      ]
     },
     "execution_count": 75,
     "metadata": {},
     "output_type": "execute_result"
    },
    {
     "data": {
      "image/png": "[encoded data removed]",
      "text/plain": [
       "<Figure size 432x288 with 1 Axes>"
      ]
     },
     "metadata": {
      "needs_background": "light"
     },
     "output_type": "display_data"
    }
   ],
   "source": [
    "newApp[newApp[\"AMT_INCOME_TOTAL\"]<300000][\"AMT_INCOME_TOTAL\"].plot.box()"
   ]
  },
  {
   "cell_type": "code",
   "execution_count": 76,
   "id": "56dc15ff",
   "metadata": {},
   "outputs": [
    {
     "data": {
      "text/plain": [
       "270000.0"
      ]
     },
     "execution_count": 76,
     "metadata": {},
     "output_type": "execute_result"
    }
   ],
   "source": [
    "newApp[\"AMT_INCOME_TOTAL\"].quantile(0.9)"
   ]
  },
  {
   "cell_type": "code",
   "execution_count": 77,
   "id": "92dc6a5d",
   "metadata": {},
   "outputs": [],
   "source": [
    "newApp[\"AMT_INCOME_TOTAL\"]=np.where((newApp[\"AMT_INCOME_TOTAL\"]>300000),newApp[\"AMT_INCOME_TOTAL\"].quantile(0.9),newApp[\"AMT_INCOME_TOTAL\"])"
   ]
  },
  {
   "cell_type": "code",
   "execution_count": 78,
   "id": "745ac3e4",
   "metadata": {},
   "outputs": [
    {
     "data": {
      "text/plain": [
       "<AxesSubplot:>"
      ]
     },
     "execution_count": 78,
     "metadata": {},
     "output_type": "execute_result"
    },
    {
     "data": {
      "image/png": "[encoded data removed]",
      "text/plain": [
       "<Figure size 432x288 with 1 Axes>"
      ]
     },
     "metadata": {
      "needs_background": "light"
     },
     "output_type": "display_data"
    }
   ],
   "source": [
    "newApp[\"AMT_INCOME_TOTAL\"].plot.box()"
   ]
  },
  {
   "cell_type": "code",
   "execution_count": 79,
   "id": "ab34bba4",
   "metadata": {},
   "outputs": [
    {
     "data": {
      "text/plain": [
       "<AxesSubplot:>"
      ]
     },
     "execution_count": 79,
     "metadata": {},
     "output_type": "execute_result"
    },
    {
     "data": {
      "image/png": "[encoded data removed]",
      "text/plain": [
       "<Figure size 432x288 with 1 Axes>"
      ]
     },
     "metadata": {
      "needs_background": "light"
     },
     "output_type": "display_data"
    }
   ],
   "source": [
    "newApp[\"CNT_FAM_MEMBERS\"].plot.box()"
   ]
  },
  {
   "cell_type": "code",
   "execution_count": 80,
   "id": "77b664f2",
   "metadata": {},
   "outputs": [],
   "source": [
    "newApp=newApp[-(newApp[\"CNT_FAM_MEMBERS\"]>5)]"
   ]
  },
  {
   "cell_type": "code",
   "execution_count": 81,
   "id": "68616ba8",
   "metadata": {},
   "outputs": [
    {
     "data": {
      "text/plain": [
       "0.0      740709\n",
       "1.0      223233\n",
       "2.0      139391\n",
       "3.0       97148\n",
       "4.0       68689\n",
       "5.0       47485\n",
       "6.0       33268\n",
       "7.0       23208\n",
       "8.0       15436\n",
       "9.0       11173\n",
       "10.0       7627\n",
       "11.0       4828\n",
       "12.0       4033\n",
       "13.0       2468\n",
       "14.0       1568\n",
       "15.0       1099\n",
       "16.0        841\n",
       "17.0        647\n",
       "19.0        335\n",
       "18.0        299\n",
       "20.0        206\n",
       "21.0        173\n",
       "22.0        163\n",
       "24.0         81\n",
       "25.0         76\n",
       "23.0         58\n",
       "27.0         40\n",
       "29.0         19\n",
       "26.0         15\n",
       "30.0         13\n",
       "47.0          4\n",
       "348.0         3\n",
       "28.0          2\n",
       "Name: OBS_30_CNT_SOCIAL_CIRCLE, dtype: int64"
      ]
     },
     "execution_count": 81,
     "metadata": {},
     "output_type": "execute_result"
    }
   ],
   "source": [
    "newApp[\"OBS_30_CNT_SOCIAL_CIRCLE\"].value_counts()"
   ]
  },
  {
   "cell_type": "code",
   "execution_count": 82,
   "id": "1d18811d",
   "metadata": {},
   "outputs": [
    {
     "data": {
      "text/plain": [
       "<AxesSubplot:>"
      ]
     },
     "execution_count": 82,
     "metadata": {},
     "output_type": "execute_result"
    },
    {
     "data": {
      "image/png": "[encoded data removed]",
      "text/plain": [
       "<Figure size 432x288 with 1 Axes>"
      ]
     },
     "metadata": {
      "needs_background": "light"
     },
     "output_type": "display_data"
    }
   ],
   "source": [
    "newApp[\"OBS_30_CNT_SOCIAL_CIRCLE\"].plot.box()"
   ]
  },
  {
   "cell_type": "code",
   "execution_count": 83,
   "id": "bb86a0ae",
   "metadata": {},
   "outputs": [],
   "source": [
    "newApp=newApp[-(newApp[\"OBS_30_CNT_SOCIAL_CIRCLE\"]>50)]"
   ]
  },
  {
   "cell_type": "code",
   "execution_count": null,
   "id": "58e95b35",
   "metadata": {},
   "outputs": [],
   "source": []
  },
  {
   "cell_type": "code",
   "execution_count": 84,
   "id": "5a8381be",
   "metadata": {},
   "outputs": [
    {
     "data": {
      "text/plain": [
       "<AxesSubplot:>"
      ]
     },
     "execution_count": 84,
     "metadata": {},
     "output_type": "execute_result"
    },
    {
     "data": {
      "image/png": "[encoded data removed]",
      "text/plain": [
       "<Figure size 432x288 with 1 Axes>"
      ]
     },
     "metadata": {
      "needs_background": "light"
     },
     "output_type": "display_data"
    }
   ],
   "source": [
    "newApp[\"DAYS_BIRTH\"].plot.box()"
   ]
  },
  {
   "cell_type": "code",
   "execution_count": 85,
   "id": "67ac941b",
   "metadata": {},
   "outputs": [],
   "source": [
    "newApp[\"AGE\"]=newApp[\"DAYS_BIRTH\"].apply(lambda x: float(-x/365)).round(1)"
   ]
  },
  {
   "cell_type": "code",
   "execution_count": 86,
   "id": "79e3b37a",
   "metadata": {},
   "outputs": [
    {
     "data": {
      "text/html": [
       "<div>\n",
       "<style scoped>\n",
       "    .dataframe tbody tr th:only-of-type {\n",
       "        vertical-align: middle;\n",
       "    }\n",
       "\n",
       "    .dataframe tbody tr th {\n",
       "        vertical-align: top;\n",
       "    }\n",
       "\n",
       "    .dataframe thead th {\n",
       "        text-align: right;\n",
       "    }\n",
       "</style>\n",
       "<table border=\"1\" class=\"dataframe\">\n",
       "  <thead>\n",
       "    <tr style=\"text-align: right;\">\n",
       "      <th></th>\n",
       "      <th>SK_ID_CURR</th>\n",
       "      <th>TARGET</th>\n",
       "      <th>NAME_CONTRACT_TYPE_x</th>\n",
       "      <th>CODE_GENDER</th>\n",
       "      <th>AMT_INCOME_TOTAL</th>\n",
       "      <th>AMT_CREDIT_x</th>\n",
       "      <th>AMT_ANNUITY_x</th>\n",
       "      <th>AMT_GOODS_PRICE_x</th>\n",
       "      <th>NAME_INCOME_TYPE</th>\n",
       "      <th>NAME_EDUCATION_TYPE</th>\n",
       "      <th>...</th>\n",
       "      <th>CNT_PAYMENT</th>\n",
       "      <th>NAME_YIELD_GROUP</th>\n",
       "      <th>PRODUCT_COMBINATION</th>\n",
       "      <th>DAYS_FIRST_DRAWING</th>\n",
       "      <th>DAYS_FIRST_DUE</th>\n",
       "      <th>DAYS_LAST_DUE_1ST_VERSION</th>\n",
       "      <th>DAYS_LAST_DUE</th>\n",
       "      <th>DAYS_TERMINATION</th>\n",
       "      <th>NFLAG_INSURED_ON_APPROVAL</th>\n",
       "      <th>AGE</th>\n",
       "    </tr>\n",
       "  </thead>\n",
       "  <tbody>\n",
       "    <tr>\n",
       "      <th>0</th>\n",
       "      <td>100002</td>\n",
       "      <td>1</td>\n",
       "      <td>Cash loans</td>\n",
       "      <td>M</td>\n",
       "      <td>202500.0</td>\n",
       "      <td>406597.5</td>\n",
       "      <td>24700.5</td>\n",
       "      <td>351000.0</td>\n",
       "      <td>Working</td>\n",
       "      <td>Secondary / secondary special</td>\n",
       "      <td>...</td>\n",
       "      <td>24.0</td>\n",
       "      <td>low_normal</td>\n",
       "      <td>POS other with interest</td>\n",
       "      <td>365243.0</td>\n",
       "      <td>-565.0</td>\n",
       "      <td>125.0</td>\n",
       "      <td>-25.0</td>\n",
       "      <td>-17.0</td>\n",
       "      <td>0.0</td>\n",
       "      <td>25.9</td>\n",
       "    </tr>\n",
       "    <tr>\n",
       "      <th>1</th>\n",
       "      <td>100003</td>\n",
       "      <td>0</td>\n",
       "      <td>Cash loans</td>\n",
       "      <td>F</td>\n",
       "      <td>270000.0</td>\n",
       "      <td>1293502.5</td>\n",
       "      <td>35698.5</td>\n",
       "      <td>1129500.0</td>\n",
       "      <td>State servant</td>\n",
       "      <td>Higher education</td>\n",
       "      <td>...</td>\n",
       "      <td>12.0</td>\n",
       "      <td>low_normal</td>\n",
       "      <td>Cash X-Sell: low</td>\n",
       "      <td>365243.0</td>\n",
       "      <td>-716.0</td>\n",
       "      <td>-386.0</td>\n",
       "      <td>-536.0</td>\n",
       "      <td>-527.0</td>\n",
       "      <td>1.0</td>\n",
       "      <td>45.9</td>\n",
       "    </tr>\n",
       "    <tr>\n",
       "      <th>2</th>\n",
       "      <td>100003</td>\n",
       "      <td>0</td>\n",
       "      <td>Cash loans</td>\n",
       "      <td>F</td>\n",
       "      <td>270000.0</td>\n",
       "      <td>1293502.5</td>\n",
       "      <td>35698.5</td>\n",
       "      <td>1129500.0</td>\n",
       "      <td>State servant</td>\n",
       "      <td>Higher education</td>\n",
       "      <td>...</td>\n",
       "      <td>6.0</td>\n",
       "      <td>middle</td>\n",
       "      <td>POS industry with interest</td>\n",
       "      <td>365243.0</td>\n",
       "      <td>-797.0</td>\n",
       "      <td>-647.0</td>\n",
       "      <td>-647.0</td>\n",
       "      <td>-639.0</td>\n",
       "      <td>0.0</td>\n",
       "      <td>45.9</td>\n",
       "    </tr>\n",
       "    <tr>\n",
       "      <th>3</th>\n",
       "      <td>100003</td>\n",
       "      <td>0</td>\n",
       "      <td>Cash loans</td>\n",
       "      <td>F</td>\n",
       "      <td>270000.0</td>\n",
       "      <td>1293502.5</td>\n",
       "      <td>35698.5</td>\n",
       "      <td>1129500.0</td>\n",
       "      <td>State servant</td>\n",
       "      <td>Higher education</td>\n",
       "      <td>...</td>\n",
       "      <td>12.0</td>\n",
       "      <td>middle</td>\n",
       "      <td>POS household with interest</td>\n",
       "      <td>365243.0</td>\n",
       "      <td>-2310.0</td>\n",
       "      <td>-1980.0</td>\n",
       "      <td>-1980.0</td>\n",
       "      <td>-1976.0</td>\n",
       "      <td>1.0</td>\n",
       "      <td>45.9</td>\n",
       "    </tr>\n",
       "    <tr>\n",
       "      <th>4</th>\n",
       "      <td>100004</td>\n",
       "      <td>0</td>\n",
       "      <td>Revolving loans</td>\n",
       "      <td>M</td>\n",
       "      <td>67500.0</td>\n",
       "      <td>135000.0</td>\n",
       "      <td>6750.0</td>\n",
       "      <td>135000.0</td>\n",
       "      <td>Working</td>\n",
       "      <td>Secondary / secondary special</td>\n",
       "      <td>...</td>\n",
       "      <td>4.0</td>\n",
       "      <td>middle</td>\n",
       "      <td>POS mobile without interest</td>\n",
       "      <td>365243.0</td>\n",
       "      <td>-784.0</td>\n",
       "      <td>-694.0</td>\n",
       "      <td>-724.0</td>\n",
       "      <td>-714.0</td>\n",
       "      <td>0.0</td>\n",
       "      <td>52.2</td>\n",
       "    </tr>\n",
       "  </tbody>\n",
       "</table>\n",
       "<p>5 rows × 67 columns</p>\n",
       "</div>"
      ],
      "text/plain": [
       "   SK_ID_CURR  TARGET NAME_CONTRACT_TYPE_x CODE_GENDER  AMT_INCOME_TOTAL  \\\n",
       "0      100002       1           Cash loans           M          202500.0   \n",
       "1      100003       0           Cash loans           F          270000.0   \n",
       "2      100003       0           Cash loans           F          270000.0   \n",
       "3      100003       0           Cash loans           F          270000.0   \n",
       "4      100004       0      Revolving loans           M           67500.0   \n",
       "\n",
       "   AMT_CREDIT_x  AMT_ANNUITY_x  AMT_GOODS_PRICE_x NAME_INCOME_TYPE  \\\n",
       "0      406597.5        24700.5           351000.0          Working   \n",
       "1     1293502.5        35698.5          1129500.0    State servant   \n",
       "2     1293502.5        35698.5          1129500.0    State servant   \n",
       "3     1293502.5        35698.5          1129500.0    State servant   \n",
       "4      135000.0         6750.0           135000.0          Working   \n",
       "\n",
       "             NAME_EDUCATION_TYPE  ... CNT_PAYMENT NAME_YIELD_GROUP  \\\n",
       "0  Secondary / secondary special  ...        24.0       low_normal   \n",
       "1               Higher education  ...        12.0       low_normal   \n",
       "2               Higher education  ...         6.0           middle   \n",
       "3               Higher education  ...        12.0           middle   \n",
       "4  Secondary / secondary special  ...         4.0           middle   \n",
       "\n",
       "           PRODUCT_COMBINATION  DAYS_FIRST_DRAWING  DAYS_FIRST_DUE  \\\n",
       "0      POS other with interest            365243.0          -565.0   \n",
       "1             Cash X-Sell: low            365243.0          -716.0   \n",
       "2   POS industry with interest            365243.0          -797.0   \n",
       "3  POS household with interest            365243.0         -2310.0   \n",
       "4  POS mobile without interest            365243.0          -784.0   \n",
       "\n",
       "   DAYS_LAST_DUE_1ST_VERSION  DAYS_LAST_DUE  DAYS_TERMINATION  \\\n",
       "0                      125.0          -25.0             -17.0   \n",
       "1                     -386.0         -536.0            -527.0   \n",
       "2                     -647.0         -647.0            -639.0   \n",
       "3                    -1980.0        -1980.0           -1976.0   \n",
       "4                     -694.0         -724.0            -714.0   \n",
       "\n",
       "  NFLAG_INSURED_ON_APPROVAL   AGE  \n",
       "0                       0.0  25.9  \n",
       "1                       1.0  45.9  \n",
       "2                       0.0  45.9  \n",
       "3                       1.0  45.9  \n",
       "4                       0.0  52.2  \n",
       "\n",
       "[5 rows x 67 columns]"
      ]
     },
     "execution_count": 86,
     "metadata": {},
     "output_type": "execute_result"
    }
   ],
   "source": [
    "newApp.head()"
   ]
  },
  {
   "cell_type": "code",
   "execution_count": 87,
   "id": "322cdce7",
   "metadata": {},
   "outputs": [
    {
     "data": {
      "text/plain": [
       "<AxesSubplot:>"
      ]
     },
     "execution_count": 87,
     "metadata": {},
     "output_type": "execute_result"
    },
    {
     "data": {
      "image/png": "[encoded data removed]",
      "text/plain": [
       "<Figure size 432x288 with 1 Axes>"
      ]
     },
     "metadata": {
      "needs_background": "light"
     },
     "output_type": "display_data"
    }
   ],
   "source": [
    "newApp[\"OBS_60_CNT_SOCIAL_CIRCLE\"].plot.box()"
   ]
  },
  {
   "cell_type": "code",
   "execution_count": 88,
   "id": "16f58662",
   "metadata": {},
   "outputs": [
    {
     "data": {
      "text/plain": [
       "16449"
      ]
     },
     "execution_count": 88,
     "metadata": {},
     "output_type": "execute_result"
    }
   ],
   "source": [
    "newApp[newApp[\"OBS_60_CNT_SOCIAL_CIRCLE\"]>10][\"OBS_60_CNT_SOCIAL_CIRCLE\"].count()"
   ]
  },
  {
   "cell_type": "code",
   "execution_count": 89,
   "id": "80f0cf07",
   "metadata": {},
   "outputs": [],
   "source": [
    "newApp[\"OBS_60_CNT_SOCIAL_CIRCLE\"]=np.where((newApp[\"OBS_60_CNT_SOCIAL_CIRCLE\"]>10),10,newApp[\"OBS_60_CNT_SOCIAL_CIRCLE\"])"
   ]
  },
  {
   "cell_type": "code",
   "execution_count": 90,
   "id": "7e1179b1",
   "metadata": {},
   "outputs": [
    {
     "data": {
      "text/plain": [
       "<AxesSubplot:>"
      ]
     },
     "execution_count": 90,
     "metadata": {},
     "output_type": "execute_result"
    },
    {
     "data": {
      "image/png": "[encoded data removed]",
      "text/plain": [
       "<Figure size 432x288 with 1 Axes>"
      ]
     },
     "metadata": {
      "needs_background": "light"
     },
     "output_type": "display_data"
    }
   ],
   "source": [
    "newApp[\"OBS_60_CNT_SOCIAL_CIRCLE\"].plot.box()"
   ]
  },
  {
   "cell_type": "code",
   "execution_count": null,
   "id": "651196fa",
   "metadata": {},
   "outputs": [],
   "source": []
  },
  {
   "cell_type": "code",
   "execution_count": null,
   "id": "c88fef89",
   "metadata": {},
   "outputs": [],
   "source": [
    "\n"
   ]
  },
  {
   "cell_type": "code",
   "execution_count": 91,
   "id": "8ac0c13e",
   "metadata": {},
   "outputs": [
    {
     "name": "stdout",
     "output_type": "stream",
     "text": [
      "<class 'pandas.core.frame.DataFrame'>\n",
      "Int64Index: 1427725 entries, 0 to 1430154\n",
      "Data columns (total 67 columns):\n",
      " #   Column                       Non-Null Count    Dtype  \n",
      "---  ------                       --------------    -----  \n",
      " 0   SK_ID_CURR                   1427725 non-null  int64  \n",
      " 1   TARGET                       1427725 non-null  int64  \n",
      " 2   NAME_CONTRACT_TYPE_x         1427725 non-null  object \n",
      " 3   CODE_GENDER                  1427670 non-null  object \n",
      " 4   AMT_INCOME_TOTAL             1427725 non-null  float64\n",
      " 5   AMT_CREDIT_x                 1427725 non-null  float64\n",
      " 6   AMT_ANNUITY_x                1427632 non-null  float64\n",
      " 7   AMT_GOODS_PRICE_x            1426509 non-null  float64\n",
      " 8   NAME_INCOME_TYPE             1427725 non-null  object \n",
      " 9   NAME_EDUCATION_TYPE          1427725 non-null  object \n",
      " 10  NAME_FAMILY_STATUS           1427725 non-null  object \n",
      " 11  NAME_HOUSING_TYPE            1427725 non-null  object \n",
      " 12  REGION_POPULATION_RELATIVE   1427725 non-null  float64\n",
      " 13  DAYS_BIRTH                   1427725 non-null  int64  \n",
      " 14  DAYS_EMPLOYED                1427725 non-null  int64  \n",
      " 15  DAYS_REGISTRATION            1427725 non-null  float64\n",
      " 16  DAYS_ID_PUBLISH              1427725 non-null  int64  \n",
      " 17  OWN_CAR_AGE                  481453 non-null   float64\n",
      " 18  OCCUPATION_TYPE              965527 non-null   object \n",
      " 19  CNT_FAM_MEMBERS              1427723 non-null  float64\n",
      " 20  REGION_RATING_CLIENT         1427725 non-null  int64  \n",
      " 21  REGION_RATING_CLIENT_W_CITY  1427725 non-null  int64  \n",
      " 22  ORGANIZATION_TYPE            1427725 non-null  object \n",
      " 23  EXT_SOURCE_2                 1425824 non-null  float64\n",
      " 24  EXT_SOURCE_3                 1182488 non-null  float64\n",
      " 25  OBS_30_CNT_SOCIAL_CIRCLE     1424335 non-null  float64\n",
      " 26  DEF_30_CNT_SOCIAL_CIRCLE     1424335 non-null  float64\n",
      " 27  OBS_60_CNT_SOCIAL_CIRCLE     1424335 non-null  float64\n",
      " 28  DEF_60_CNT_SOCIAL_CIRCLE     1424335 non-null  float64\n",
      " 29  AMT_REQ_CREDIT_BUREAU_HOUR   1262180 non-null  float64\n",
      " 30  AMT_REQ_CREDIT_BUREAU_DAY    1262180 non-null  float64\n",
      " 31  AMT_REQ_CREDIT_BUREAU_WEEK   1262180 non-null  float64\n",
      " 32  AMT_REQ_CREDIT_BUREAU_MON    1262180 non-null  float64\n",
      " 33  AMT_REQ_CREDIT_BUREAU_QRT    1262180 non-null  float64\n",
      " 34  AMT_REQ_CREDIT_BUREAU_YEAR   1262180 non-null  float64\n",
      " 35  DOCUMENT_COUNTS              1427725 non-null  int64  \n",
      " 36  SK_ID_PREV                   1411284 non-null  float64\n",
      " 37  NAME_CONTRACT_TYPE_y         1410972 non-null  object \n",
      " 38  AMT_ANNUITY_y                1104503 non-null  float64\n",
      " 39  AMT_APPLICATION              1411284 non-null  float64\n",
      " 40  AMT_CREDIT_y                 1411283 non-null  float64\n",
      " 41  AMT_GOODS_PRICE_y            1092210 non-null  float64\n",
      " 42  FLAG_LAST_APPL_PER_CONTRACT  1411284 non-null  object \n",
      " 43  NFLAG_LAST_APPL_IN_DAY       1411284 non-null  float64\n",
      " 44  RATE_DOWN_PAYMENT            662899 non-null   float64\n",
      " 45  NAME_CASH_LOAN_PURPOSE       1411284 non-null  object \n",
      " 46  NAME_CONTRACT_STATUS         1411284 non-null  object \n",
      " 47  DAYS_DECISION                1411284 non-null  float64\n",
      " 48  NAME_PAYMENT_TYPE            1411284 non-null  object \n",
      " 49  CODE_REJECT_REASON           263323 non-null   object \n",
      " 50  NAME_CLIENT_TYPE             1409743 non-null  object \n",
      " 51  NAME_GOODS_CATEGORY          1411284 non-null  object \n",
      " 52  NAME_PORTFOLIO               1411284 non-null  object \n",
      " 53  NAME_PRODUCT_TYPE            1411284 non-null  object \n",
      " 54  CHANNEL_TYPE                 1411284 non-null  object \n",
      " 55  SELLERPLACE_AREA             1411284 non-null  float64\n",
      " 56  NAME_SELLER_INDUSTRY         696986 non-null   object \n",
      " 57  CNT_PAYMENT                  1104508 non-null  float64\n",
      " 58  NAME_YIELD_GROUP             982771 non-null   object \n",
      " 59  PRODUCT_COMBINATION          1410972 non-null  object \n",
      " 60  DAYS_FIRST_DRAWING           851032 non-null   float64\n",
      " 61  DAYS_FIRST_DUE               851032 non-null   float64\n",
      " 62  DAYS_LAST_DUE_1ST_VERSION    851032 non-null   float64\n",
      " 63  DAYS_LAST_DUE                851032 non-null   float64\n",
      " 64  DAYS_TERMINATION             851032 non-null   float64\n",
      " 65  NFLAG_INSURED_ON_APPROVAL    851032 non-null   float64\n",
      " 66  AGE                          1427725 non-null  float64\n",
      "dtypes: float64(37), int64(8), object(22)\n",
      "memory usage: 740.7+ MB\n"
     ]
    }
   ],
   "source": [
    "newApp.info()"
   ]
  },
  {
   "cell_type": "code",
   "execution_count": 92,
   "id": "81ecc1d4",
   "metadata": {},
   "outputs": [],
   "source": [
    "newApp=newApp.drop(\"OWN_CAR_AGE\",axis=1)"
   ]
  },
  {
   "cell_type": "code",
   "execution_count": 93,
   "id": "1f6d5a5f",
   "metadata": {},
   "outputs": [
    {
     "data": {
      "text/plain": [
       "Y    1403992\n",
       "N       7292\n",
       "Name: FLAG_LAST_APPL_PER_CONTRACT, dtype: int64"
      ]
     },
     "execution_count": 93,
     "metadata": {},
     "output_type": "execute_result"
    }
   ],
   "source": [
    "newApp[\"FLAG_LAST_APPL_PER_CONTRACT\"].value_counts()"
   ]
  },
  {
   "cell_type": "code",
   "execution_count": 94,
   "id": "5c05ddb7",
   "metadata": {},
   "outputs": [
    {
     "data": {
      "text/plain": [
       "1.0    1406255\n",
       "0.0       5029\n",
       "Name: NFLAG_LAST_APPL_IN_DAY, dtype: int64"
      ]
     },
     "execution_count": 94,
     "metadata": {},
     "output_type": "execute_result"
    }
   ],
   "source": [
    "newApp[\"NFLAG_LAST_APPL_IN_DAY\"].value_counts()"
   ]
  },
  {
   "cell_type": "code",
   "execution_count": 95,
   "id": "cdf12ae6",
   "metadata": {},
   "outputs": [],
   "source": [
    "newApp=newApp[-(newApp[\"NFLAG_LAST_APPL_IN_DAY\"]==0.0)]"
   ]
  },
  {
   "cell_type": "code",
   "execution_count": 96,
   "id": "11917c9a",
   "metadata": {},
   "outputs": [
    {
     "data": {
      "text/plain": [
       "1.0    1406255\n",
       "Name: NFLAG_LAST_APPL_IN_DAY, dtype: int64"
      ]
     },
     "execution_count": 96,
     "metadata": {},
     "output_type": "execute_result"
    }
   ],
   "source": [
    "newApp[\"NFLAG_LAST_APPL_IN_DAY\"].value_counts()"
   ]
  },
  {
   "cell_type": "code",
   "execution_count": 97,
   "id": "1bb524a6",
   "metadata": {},
   "outputs": [],
   "source": [
    "newApp=newApp[-(newApp[\"FLAG_LAST_APPL_PER_CONTRACT\"]=='N')]"
   ]
  },
  {
   "cell_type": "code",
   "execution_count": 98,
   "id": "7e53b597",
   "metadata": {},
   "outputs": [
    {
     "data": {
      "text/plain": [
       "Y    1403313\n",
       "Name: FLAG_LAST_APPL_PER_CONTRACT, dtype: int64"
      ]
     },
     "execution_count": 98,
     "metadata": {},
     "output_type": "execute_result"
    }
   ],
   "source": [
    "newApp[\"FLAG_LAST_APPL_PER_CONTRACT\"].value_counts()"
   ]
  },
  {
   "cell_type": "code",
   "execution_count": 99,
   "id": "b5d12d7a",
   "metadata": {},
   "outputs": [
    {
     "data": {
      "text/plain": [
       "False    850414\n",
       "True     569340\n",
       "Name: NFLAG_INSURED_ON_APPROVAL, dtype: int64"
      ]
     },
     "execution_count": 99,
     "metadata": {},
     "output_type": "execute_result"
    }
   ],
   "source": [
    "newApp[\"NFLAG_INSURED_ON_APPROVAL\"].isnull().value_counts()"
   ]
  },
  {
   "cell_type": "markdown",
   "id": "dd9b7942",
   "metadata": {},
   "source": [
    "##UNIVARIATE ANALYSIS"
   ]
  },
  {
   "cell_type": "code",
   "execution_count": 100,
   "id": "0b1299fb",
   "metadata": {},
   "outputs": [
    {
     "data": {
      "text/html": [
       "<div>\n",
       "<style scoped>\n",
       "    .dataframe tbody tr th:only-of-type {\n",
       "        vertical-align: middle;\n",
       "    }\n",
       "\n",
       "    .dataframe tbody tr th {\n",
       "        vertical-align: top;\n",
       "    }\n",
       "\n",
       "    .dataframe thead th {\n",
       "        text-align: right;\n",
       "    }\n",
       "</style>\n",
       "<table border=\"1\" class=\"dataframe\">\n",
       "  <thead>\n",
       "    <tr style=\"text-align: right;\">\n",
       "      <th></th>\n",
       "      <th>SK_ID_CURR</th>\n",
       "      <th>TARGET</th>\n",
       "      <th>NAME_CONTRACT_TYPE_x</th>\n",
       "      <th>CODE_GENDER</th>\n",
       "      <th>AMT_INCOME_TOTAL</th>\n",
       "      <th>AMT_CREDIT_x</th>\n",
       "      <th>AMT_ANNUITY_x</th>\n",
       "      <th>AMT_GOODS_PRICE_x</th>\n",
       "      <th>NAME_INCOME_TYPE</th>\n",
       "      <th>NAME_EDUCATION_TYPE</th>\n",
       "      <th>...</th>\n",
       "      <th>CNT_PAYMENT</th>\n",
       "      <th>NAME_YIELD_GROUP</th>\n",
       "      <th>PRODUCT_COMBINATION</th>\n",
       "      <th>DAYS_FIRST_DRAWING</th>\n",
       "      <th>DAYS_FIRST_DUE</th>\n",
       "      <th>DAYS_LAST_DUE_1ST_VERSION</th>\n",
       "      <th>DAYS_LAST_DUE</th>\n",
       "      <th>DAYS_TERMINATION</th>\n",
       "      <th>NFLAG_INSURED_ON_APPROVAL</th>\n",
       "      <th>AGE</th>\n",
       "    </tr>\n",
       "  </thead>\n",
       "  <tbody>\n",
       "    <tr>\n",
       "      <th>1</th>\n",
       "      <td>100003</td>\n",
       "      <td>0</td>\n",
       "      <td>Cash loans</td>\n",
       "      <td>F</td>\n",
       "      <td>270000.0</td>\n",
       "      <td>1293502.5</td>\n",
       "      <td>35698.5</td>\n",
       "      <td>1129500.0</td>\n",
       "      <td>State servant</td>\n",
       "      <td>Higher education</td>\n",
       "      <td>...</td>\n",
       "      <td>12.0</td>\n",
       "      <td>low_normal</td>\n",
       "      <td>Cash X-Sell: low</td>\n",
       "      <td>365243.0</td>\n",
       "      <td>-716.0</td>\n",
       "      <td>-386.0</td>\n",
       "      <td>-536.0</td>\n",
       "      <td>-527.0</td>\n",
       "      <td>1.0</td>\n",
       "      <td>45.9</td>\n",
       "    </tr>\n",
       "    <tr>\n",
       "      <th>2</th>\n",
       "      <td>100003</td>\n",
       "      <td>0</td>\n",
       "      <td>Cash loans</td>\n",
       "      <td>F</td>\n",
       "      <td>270000.0</td>\n",
       "      <td>1293502.5</td>\n",
       "      <td>35698.5</td>\n",
       "      <td>1129500.0</td>\n",
       "      <td>State servant</td>\n",
       "      <td>Higher education</td>\n",
       "      <td>...</td>\n",
       "      <td>6.0</td>\n",
       "      <td>middle</td>\n",
       "      <td>POS industry with interest</td>\n",
       "      <td>365243.0</td>\n",
       "      <td>-797.0</td>\n",
       "      <td>-647.0</td>\n",
       "      <td>-647.0</td>\n",
       "      <td>-639.0</td>\n",
       "      <td>0.0</td>\n",
       "      <td>45.9</td>\n",
       "    </tr>\n",
       "    <tr>\n",
       "      <th>3</th>\n",
       "      <td>100003</td>\n",
       "      <td>0</td>\n",
       "      <td>Cash loans</td>\n",
       "      <td>F</td>\n",
       "      <td>270000.0</td>\n",
       "      <td>1293502.5</td>\n",
       "      <td>35698.5</td>\n",
       "      <td>1129500.0</td>\n",
       "      <td>State servant</td>\n",
       "      <td>Higher education</td>\n",
       "      <td>...</td>\n",
       "      <td>12.0</td>\n",
       "      <td>middle</td>\n",
       "      <td>POS household with interest</td>\n",
       "      <td>365243.0</td>\n",
       "      <td>-2310.0</td>\n",
       "      <td>-1980.0</td>\n",
       "      <td>-1980.0</td>\n",
       "      <td>-1976.0</td>\n",
       "      <td>1.0</td>\n",
       "      <td>45.9</td>\n",
       "    </tr>\n",
       "    <tr>\n",
       "      <th>4</th>\n",
       "      <td>100004</td>\n",
       "      <td>0</td>\n",
       "      <td>Revolving loans</td>\n",
       "      <td>M</td>\n",
       "      <td>67500.0</td>\n",
       "      <td>135000.0</td>\n",
       "      <td>6750.0</td>\n",
       "      <td>135000.0</td>\n",
       "      <td>Working</td>\n",
       "      <td>Secondary / secondary special</td>\n",
       "      <td>...</td>\n",
       "      <td>4.0</td>\n",
       "      <td>middle</td>\n",
       "      <td>POS mobile without interest</td>\n",
       "      <td>365243.0</td>\n",
       "      <td>-784.0</td>\n",
       "      <td>-694.0</td>\n",
       "      <td>-724.0</td>\n",
       "      <td>-714.0</td>\n",
       "      <td>0.0</td>\n",
       "      <td>52.2</td>\n",
       "    </tr>\n",
       "    <tr>\n",
       "      <th>5</th>\n",
       "      <td>100006</td>\n",
       "      <td>0</td>\n",
       "      <td>Cash loans</td>\n",
       "      <td>F</td>\n",
       "      <td>135000.0</td>\n",
       "      <td>312682.5</td>\n",
       "      <td>29686.5</td>\n",
       "      <td>297000.0</td>\n",
       "      <td>Working</td>\n",
       "      <td>Secondary / secondary special</td>\n",
       "      <td>...</td>\n",
       "      <td>48.0</td>\n",
       "      <td>low_normal</td>\n",
       "      <td>Cash X-Sell: low</td>\n",
       "      <td>365243.0</td>\n",
       "      <td>-151.0</td>\n",
       "      <td>1259.0</td>\n",
       "      <td>-151.0</td>\n",
       "      <td>-143.0</td>\n",
       "      <td>0.0</td>\n",
       "      <td>52.1</td>\n",
       "    </tr>\n",
       "    <tr>\n",
       "      <th>...</th>\n",
       "      <td>...</td>\n",
       "      <td>...</td>\n",
       "      <td>...</td>\n",
       "      <td>...</td>\n",
       "      <td>...</td>\n",
       "      <td>...</td>\n",
       "      <td>...</td>\n",
       "      <td>...</td>\n",
       "      <td>...</td>\n",
       "      <td>...</td>\n",
       "      <td>...</td>\n",
       "      <td>...</td>\n",
       "      <td>...</td>\n",
       "      <td>...</td>\n",
       "      <td>...</td>\n",
       "      <td>...</td>\n",
       "      <td>...</td>\n",
       "      <td>...</td>\n",
       "      <td>...</td>\n",
       "      <td>...</td>\n",
       "      <td>...</td>\n",
       "    </tr>\n",
       "    <tr>\n",
       "      <th>1430150</th>\n",
       "      <td>456255</td>\n",
       "      <td>0</td>\n",
       "      <td>Cash loans</td>\n",
       "      <td>F</td>\n",
       "      <td>157500.0</td>\n",
       "      <td>675000.0</td>\n",
       "      <td>49117.5</td>\n",
       "      <td>675000.0</td>\n",
       "      <td>Commercial associate</td>\n",
       "      <td>Higher education</td>\n",
       "      <td>...</td>\n",
       "      <td>24.0</td>\n",
       "      <td>middle</td>\n",
       "      <td>Cash X-Sell: middle</td>\n",
       "      <td>365243.0</td>\n",
       "      <td>-618.0</td>\n",
       "      <td>72.0</td>\n",
       "      <td>-558.0</td>\n",
       "      <td>-528.0</td>\n",
       "      <td>1.0</td>\n",
       "      <td>46.2</td>\n",
       "    </tr>\n",
       "    <tr>\n",
       "      <th>1430151</th>\n",
       "      <td>456255</td>\n",
       "      <td>0</td>\n",
       "      <td>Cash loans</td>\n",
       "      <td>F</td>\n",
       "      <td>157500.0</td>\n",
       "      <td>675000.0</td>\n",
       "      <td>49117.5</td>\n",
       "      <td>675000.0</td>\n",
       "      <td>Commercial associate</td>\n",
       "      <td>Higher education</td>\n",
       "      <td>...</td>\n",
       "      <td>0.0</td>\n",
       "      <td>NaN</td>\n",
       "      <td>Card Street</td>\n",
       "      <td>NaN</td>\n",
       "      <td>NaN</td>\n",
       "      <td>NaN</td>\n",
       "      <td>NaN</td>\n",
       "      <td>NaN</td>\n",
       "      <td>NaN</td>\n",
       "      <td>46.2</td>\n",
       "    </tr>\n",
       "    <tr>\n",
       "      <th>1430152</th>\n",
       "      <td>456255</td>\n",
       "      <td>0</td>\n",
       "      <td>Cash loans</td>\n",
       "      <td>F</td>\n",
       "      <td>157500.0</td>\n",
       "      <td>675000.0</td>\n",
       "      <td>49117.5</td>\n",
       "      <td>675000.0</td>\n",
       "      <td>Commercial associate</td>\n",
       "      <td>Higher education</td>\n",
       "      <td>...</td>\n",
       "      <td>60.0</td>\n",
       "      <td>low_normal</td>\n",
       "      <td>Cash Street: low</td>\n",
       "      <td>NaN</td>\n",
       "      <td>NaN</td>\n",
       "      <td>NaN</td>\n",
       "      <td>NaN</td>\n",
       "      <td>NaN</td>\n",
       "      <td>NaN</td>\n",
       "      <td>46.2</td>\n",
       "    </tr>\n",
       "    <tr>\n",
       "      <th>1430153</th>\n",
       "      <td>456255</td>\n",
       "      <td>0</td>\n",
       "      <td>Cash loans</td>\n",
       "      <td>F</td>\n",
       "      <td>157500.0</td>\n",
       "      <td>675000.0</td>\n",
       "      <td>49117.5</td>\n",
       "      <td>675000.0</td>\n",
       "      <td>Commercial associate</td>\n",
       "      <td>Higher education</td>\n",
       "      <td>...</td>\n",
       "      <td>36.0</td>\n",
       "      <td>low_normal</td>\n",
       "      <td>Cash X-Sell: low</td>\n",
       "      <td>365243.0</td>\n",
       "      <td>-756.0</td>\n",
       "      <td>294.0</td>\n",
       "      <td>-66.0</td>\n",
       "      <td>-64.0</td>\n",
       "      <td>0.0</td>\n",
       "      <td>46.2</td>\n",
       "    </tr>\n",
       "    <tr>\n",
       "      <th>1430154</th>\n",
       "      <td>456255</td>\n",
       "      <td>0</td>\n",
       "      <td>Cash loans</td>\n",
       "      <td>F</td>\n",
       "      <td>157500.0</td>\n",
       "      <td>675000.0</td>\n",
       "      <td>49117.5</td>\n",
       "      <td>675000.0</td>\n",
       "      <td>Commercial associate</td>\n",
       "      <td>Higher education</td>\n",
       "      <td>...</td>\n",
       "      <td>6.0</td>\n",
       "      <td>high</td>\n",
       "      <td>POS mobile with interest</td>\n",
       "      <td>365243.0</td>\n",
       "      <td>-469.0</td>\n",
       "      <td>-319.0</td>\n",
       "      <td>-409.0</td>\n",
       "      <td>-400.0</td>\n",
       "      <td>0.0</td>\n",
       "      <td>46.2</td>\n",
       "    </tr>\n",
       "  </tbody>\n",
       "</table>\n",
       "<p>1297594 rows × 66 columns</p>\n",
       "</div>"
      ],
      "text/plain": [
       "         SK_ID_CURR  TARGET NAME_CONTRACT_TYPE_x CODE_GENDER  \\\n",
       "1            100003       0           Cash loans           F   \n",
       "2            100003       0           Cash loans           F   \n",
       "3            100003       0           Cash loans           F   \n",
       "4            100004       0      Revolving loans           M   \n",
       "5            100006       0           Cash loans           F   \n",
       "...             ...     ...                  ...         ...   \n",
       "1430150      456255       0           Cash loans           F   \n",
       "1430151      456255       0           Cash loans           F   \n",
       "1430152      456255       0           Cash loans           F   \n",
       "1430153      456255       0           Cash loans           F   \n",
       "1430154      456255       0           Cash loans           F   \n",
       "\n",
       "         AMT_INCOME_TOTAL  AMT_CREDIT_x  AMT_ANNUITY_x  AMT_GOODS_PRICE_x  \\\n",
       "1                270000.0     1293502.5        35698.5          1129500.0   \n",
       "2                270000.0     1293502.5        35698.5          1129500.0   \n",
       "3                270000.0     1293502.5        35698.5          1129500.0   \n",
       "4                 67500.0      135000.0         6750.0           135000.0   \n",
       "5                135000.0      312682.5        29686.5           297000.0   \n",
       "...                   ...           ...            ...                ...   \n",
       "1430150          157500.0      675000.0        49117.5           675000.0   \n",
       "1430151          157500.0      675000.0        49117.5           675000.0   \n",
       "1430152          157500.0      675000.0        49117.5           675000.0   \n",
       "1430153          157500.0      675000.0        49117.5           675000.0   \n",
       "1430154          157500.0      675000.0        49117.5           675000.0   \n",
       "\n",
       "             NAME_INCOME_TYPE            NAME_EDUCATION_TYPE  ... CNT_PAYMENT  \\\n",
       "1               State servant               Higher education  ...        12.0   \n",
       "2               State servant               Higher education  ...         6.0   \n",
       "3               State servant               Higher education  ...        12.0   \n",
       "4                     Working  Secondary / secondary special  ...         4.0   \n",
       "5                     Working  Secondary / secondary special  ...        48.0   \n",
       "...                       ...                            ...  ...         ...   \n",
       "1430150  Commercial associate               Higher education  ...        24.0   \n",
       "1430151  Commercial associate               Higher education  ...         0.0   \n",
       "1430152  Commercial associate               Higher education  ...        60.0   \n",
       "1430153  Commercial associate               Higher education  ...        36.0   \n",
       "1430154  Commercial associate               Higher education  ...         6.0   \n",
       "\n",
       "        NAME_YIELD_GROUP          PRODUCT_COMBINATION  DAYS_FIRST_DRAWING  \\\n",
       "1             low_normal             Cash X-Sell: low            365243.0   \n",
       "2                 middle   POS industry with interest            365243.0   \n",
       "3                 middle  POS household with interest            365243.0   \n",
       "4                 middle  POS mobile without interest            365243.0   \n",
       "5             low_normal             Cash X-Sell: low            365243.0   \n",
       "...                  ...                          ...                 ...   \n",
       "1430150           middle          Cash X-Sell: middle            365243.0   \n",
       "1430151              NaN                  Card Street                 NaN   \n",
       "1430152       low_normal             Cash Street: low                 NaN   \n",
       "1430153       low_normal             Cash X-Sell: low            365243.0   \n",
       "1430154             high     POS mobile with interest            365243.0   \n",
       "\n",
       "         DAYS_FIRST_DUE  DAYS_LAST_DUE_1ST_VERSION  DAYS_LAST_DUE  \\\n",
       "1                -716.0                     -386.0         -536.0   \n",
       "2                -797.0                     -647.0         -647.0   \n",
       "3               -2310.0                    -1980.0        -1980.0   \n",
       "4                -784.0                     -694.0         -724.0   \n",
       "5                -151.0                     1259.0         -151.0   \n",
       "...                 ...                        ...            ...   \n",
       "1430150          -618.0                       72.0         -558.0   \n",
       "1430151             NaN                        NaN            NaN   \n",
       "1430152             NaN                        NaN            NaN   \n",
       "1430153          -756.0                      294.0          -66.0   \n",
       "1430154          -469.0                     -319.0         -409.0   \n",
       "\n",
       "        DAYS_TERMINATION  NFLAG_INSURED_ON_APPROVAL   AGE  \n",
       "1                 -527.0                        1.0  45.9  \n",
       "2                 -639.0                        0.0  45.9  \n",
       "3                -1976.0                        1.0  45.9  \n",
       "4                 -714.0                        0.0  52.2  \n",
       "5                 -143.0                        0.0  52.1  \n",
       "...                  ...                        ...   ...  \n",
       "1430150           -528.0                        1.0  46.2  \n",
       "1430151              NaN                        NaN  46.2  \n",
       "1430152              NaN                        NaN  46.2  \n",
       "1430153            -64.0                        0.0  46.2  \n",
       "1430154           -400.0                        0.0  46.2  \n",
       "\n",
       "[1297594 rows x 66 columns]"
      ]
     },
     "execution_count": 100,
     "metadata": {},
     "output_type": "execute_result"
    }
   ],
   "source": [
    "newApp[newApp[\"TARGET\"]==0]"
   ]
  },
  {
   "cell_type": "code",
   "execution_count": 101,
   "id": "21df97ba",
   "metadata": {},
   "outputs": [
    {
     "data": {
      "text/plain": [
       "'middle'"
      ]
     },
     "execution_count": 101,
     "metadata": {},
     "output_type": "execute_result"
    }
   ],
   "source": [
    "def grouping(x):\n",
    "    if x<=20:\n",
    "        return \"young\"\n",
    "    elif x>20 and x<=40:\n",
    "        return \"middle\"\n",
    "    elif x>40 and x<=60:\n",
    "        return \"above middle\"\n",
    "    else:\n",
    "        return \"old\"\n",
    "    \n",
    "grouping(35)"
   ]
  },
  {
   "cell_type": "code",
   "execution_count": 102,
   "id": "4b0b674e",
   "metadata": {},
   "outputs": [],
   "source": [
    "newApp[\"AGE_GROUP\"]=newApp[\"AGE\"].apply(lambda x: grouping(int(x)))"
   ]
  },
  {
   "cell_type": "code",
   "execution_count": 103,
   "id": "289c62e9",
   "metadata": {
    "scrolled": true
   },
   "outputs": [
    {
     "data": {
      "text/plain": [
       "<AxesSubplot:>"
      ]
     },
     "execution_count": 103,
     "metadata": {},
     "output_type": "execute_result"
    },
    {
     "data": {
      "image/png": "[encoded data removed]",
      "text/plain": [
       "<Figure size 432x288 with 1 Axes>"
      ]
     },
     "metadata": {
      "needs_background": "light"
     },
     "output_type": "display_data"
    }
   ],
   "source": [
    "newApp[\"NAME_CONTRACT_TYPE_x\"].value_counts().plot.bar()"
   ]
  },
  {
   "cell_type": "code",
   "execution_count": 104,
   "id": "24d9f7d8",
   "metadata": {},
   "outputs": [
    {
     "data": {
      "text/plain": [
       "<AxesSubplot:>"
      ]
     },
     "execution_count": 104,
     "metadata": {},
     "output_type": "execute_result"
    },
    {
     "data": {
      "image/png": "[encoded data removed]",
      "text/plain": [
       "<Figure size 432x288 with 1 Axes>"
      ]
     },
     "metadata": {
      "needs_background": "light"
     },
     "output_type": "display_data"
    }
   ],
   "source": [
    "newApp[\"CODE_GENDER\"].value_counts().plot.bar()"
   ]
  },
  {
   "cell_type": "code",
   "execution_count": 105,
   "id": "45422950",
   "metadata": {},
   "outputs": [
    {
     "data": {
      "text/plain": [
       "<AxesSubplot:>"
      ]
     },
     "execution_count": 105,
     "metadata": {},
     "output_type": "execute_result"
    },
    {
     "data": {
      "image/png": "[encoded data removed]",
      "text/plain": [
       "<Figure size 432x288 with 1 Axes>"
      ]
     },
     "metadata": {
      "needs_background": "light"
     },
     "output_type": "display_data"
    }
   ],
   "source": [
    "newApp[\"NAME_FAMILY_STATUS\"].value_counts().plot.bar()"
   ]
  },
  {
   "cell_type": "code",
   "execution_count": 106,
   "id": "33ff06b9",
   "metadata": {},
   "outputs": [
    {
     "data": {
      "text/plain": [
       "<AxesSubplot:>"
      ]
     },
     "execution_count": 106,
     "metadata": {},
     "output_type": "execute_result"
    },
    {
     "data": {
      "image/png": "[encoded data removed]",
      "text/plain": [
       "<Figure size 432x288 with 1 Axes>"
      ]
     },
     "metadata": {
      "needs_background": "light"
     },
     "output_type": "display_data"
    }
   ],
   "source": [
    "\n",
    "newApp[\"NAME_INCOME_TYPE\"].value_counts().plot.bar()"
   ]
  },
  {
   "cell_type": "code",
   "execution_count": 107,
   "id": "984114bf",
   "metadata": {},
   "outputs": [
    {
     "data": {
      "text/plain": [
       "<AxesSubplot:ylabel='NAME_CONTRACT_STATUS'>"
      ]
     },
     "execution_count": 107,
     "metadata": {},
     "output_type": "execute_result"
    },
    {
     "data": {
      "image/png": "[encoded data removed]",
      "text/plain": [
       "<Figure size 432x288 with 1 Axes>"
      ]
     },
     "metadata": {},
     "output_type": "display_data"
    }
   ],
   "source": [
    "newApp[\"NAME_CONTRACT_STATUS\"].value_counts().plot.pie()"
   ]
  },
  {
   "cell_type": "markdown",
   "id": "6c1c89b2",
   "metadata": {},
   "source": [
    "Categorical ordered variables\n",
    "\n",
    "Age Group,\n",
    "Education,"
   ]
  },
  {
   "cell_type": "code",
   "execution_count": 108,
   "id": "131cd71e",
   "metadata": {},
   "outputs": [
    {
     "data": {
      "text/plain": [
       "<AxesSubplot:>"
      ]
     },
     "execution_count": 108,
     "metadata": {},
     "output_type": "execute_result"
    },
    {
     "data": {
      "image/png": "[encoded data removed]",
      "text/plain": [
       "<Figure size 432x288 with 1 Axes>"
      ]
     },
     "metadata": {
      "needs_background": "light"
     },
     "output_type": "display_data"
    }
   ],
   "source": [
    "newApp[\"AGE_GROUP\"].value_counts().plot.bar()"
   ]
  },
  {
   "cell_type": "code",
   "execution_count": 109,
   "id": "014ef5cc",
   "metadata": {},
   "outputs": [
    {
     "data": {
      "text/plain": [
       "<AxesSubplot:>"
      ]
     },
     "execution_count": 109,
     "metadata": {},
     "output_type": "execute_result"
    },
    {
     "data": {
      "image/png": "[encoded data removed]",
      "text/plain": [
       "<Figure size 432x288 with 1 Axes>"
      ]
     },
     "metadata": {
      "needs_background": "light"
     },
     "output_type": "display_data"
    }
   ],
   "source": [
    "newApp[\"NAME_EDUCATION_TYPE\"].value_counts().plot.bar()"
   ]
  },
  {
   "cell_type": "code",
   "execution_count": 110,
   "id": "72922770",
   "metadata": {},
   "outputs": [],
   "source": [
    "newApp[\"ONGOING_LOAN\"]=newApp[\"DAYS_TERMINATION\"].apply(lambda x: 1 if x>0 else 0)"
   ]
  },
  {
   "cell_type": "code",
   "execution_count": 111,
   "id": "86625345",
   "metadata": {},
   "outputs": [
    {
     "data": {
      "text/html": [
       "<div>\n",
       "<style scoped>\n",
       "    .dataframe tbody tr th:only-of-type {\n",
       "        vertical-align: middle;\n",
       "    }\n",
       "\n",
       "    .dataframe tbody tr th {\n",
       "        vertical-align: top;\n",
       "    }\n",
       "\n",
       "    .dataframe thead th {\n",
       "        text-align: right;\n",
       "    }\n",
       "</style>\n",
       "<table border=\"1\" class=\"dataframe\">\n",
       "  <thead>\n",
       "    <tr style=\"text-align: right;\">\n",
       "      <th></th>\n",
       "      <th>SK_ID_CURR</th>\n",
       "      <th>TARGET</th>\n",
       "      <th>NAME_CONTRACT_TYPE_x</th>\n",
       "      <th>CODE_GENDER</th>\n",
       "      <th>AMT_INCOME_TOTAL</th>\n",
       "      <th>AMT_CREDIT_x</th>\n",
       "      <th>AMT_ANNUITY_x</th>\n",
       "      <th>AMT_GOODS_PRICE_x</th>\n",
       "      <th>NAME_INCOME_TYPE</th>\n",
       "      <th>NAME_EDUCATION_TYPE</th>\n",
       "      <th>...</th>\n",
       "      <th>PRODUCT_COMBINATION</th>\n",
       "      <th>DAYS_FIRST_DRAWING</th>\n",
       "      <th>DAYS_FIRST_DUE</th>\n",
       "      <th>DAYS_LAST_DUE_1ST_VERSION</th>\n",
       "      <th>DAYS_LAST_DUE</th>\n",
       "      <th>DAYS_TERMINATION</th>\n",
       "      <th>NFLAG_INSURED_ON_APPROVAL</th>\n",
       "      <th>AGE</th>\n",
       "      <th>AGE_GROUP</th>\n",
       "      <th>ONGOING_LOAN</th>\n",
       "    </tr>\n",
       "  </thead>\n",
       "  <tbody>\n",
       "    <tr>\n",
       "      <th>0</th>\n",
       "      <td>100002</td>\n",
       "      <td>1</td>\n",
       "      <td>Cash loans</td>\n",
       "      <td>M</td>\n",
       "      <td>202500.0</td>\n",
       "      <td>406597.5</td>\n",
       "      <td>24700.5</td>\n",
       "      <td>351000.0</td>\n",
       "      <td>Working</td>\n",
       "      <td>Secondary / secondary special</td>\n",
       "      <td>...</td>\n",
       "      <td>POS other with interest</td>\n",
       "      <td>365243.0</td>\n",
       "      <td>-565.0</td>\n",
       "      <td>125.0</td>\n",
       "      <td>-25.0</td>\n",
       "      <td>-17.0</td>\n",
       "      <td>0.0</td>\n",
       "      <td>25.9</td>\n",
       "      <td>middle</td>\n",
       "      <td>0</td>\n",
       "    </tr>\n",
       "    <tr>\n",
       "      <th>1</th>\n",
       "      <td>100003</td>\n",
       "      <td>0</td>\n",
       "      <td>Cash loans</td>\n",
       "      <td>F</td>\n",
       "      <td>270000.0</td>\n",
       "      <td>1293502.5</td>\n",
       "      <td>35698.5</td>\n",
       "      <td>1129500.0</td>\n",
       "      <td>State servant</td>\n",
       "      <td>Higher education</td>\n",
       "      <td>...</td>\n",
       "      <td>Cash X-Sell: low</td>\n",
       "      <td>365243.0</td>\n",
       "      <td>-716.0</td>\n",
       "      <td>-386.0</td>\n",
       "      <td>-536.0</td>\n",
       "      <td>-527.0</td>\n",
       "      <td>1.0</td>\n",
       "      <td>45.9</td>\n",
       "      <td>above middle</td>\n",
       "      <td>0</td>\n",
       "    </tr>\n",
       "    <tr>\n",
       "      <th>2</th>\n",
       "      <td>100003</td>\n",
       "      <td>0</td>\n",
       "      <td>Cash loans</td>\n",
       "      <td>F</td>\n",
       "      <td>270000.0</td>\n",
       "      <td>1293502.5</td>\n",
       "      <td>35698.5</td>\n",
       "      <td>1129500.0</td>\n",
       "      <td>State servant</td>\n",
       "      <td>Higher education</td>\n",
       "      <td>...</td>\n",
       "      <td>POS industry with interest</td>\n",
       "      <td>365243.0</td>\n",
       "      <td>-797.0</td>\n",
       "      <td>-647.0</td>\n",
       "      <td>-647.0</td>\n",
       "      <td>-639.0</td>\n",
       "      <td>0.0</td>\n",
       "      <td>45.9</td>\n",
       "      <td>above middle</td>\n",
       "      <td>0</td>\n",
       "    </tr>\n",
       "    <tr>\n",
       "      <th>3</th>\n",
       "      <td>100003</td>\n",
       "      <td>0</td>\n",
       "      <td>Cash loans</td>\n",
       "      <td>F</td>\n",
       "      <td>270000.0</td>\n",
       "      <td>1293502.5</td>\n",
       "      <td>35698.5</td>\n",
       "      <td>1129500.0</td>\n",
       "      <td>State servant</td>\n",
       "      <td>Higher education</td>\n",
       "      <td>...</td>\n",
       "      <td>POS household with interest</td>\n",
       "      <td>365243.0</td>\n",
       "      <td>-2310.0</td>\n",
       "      <td>-1980.0</td>\n",
       "      <td>-1980.0</td>\n",
       "      <td>-1976.0</td>\n",
       "      <td>1.0</td>\n",
       "      <td>45.9</td>\n",
       "      <td>above middle</td>\n",
       "      <td>0</td>\n",
       "    </tr>\n",
       "    <tr>\n",
       "      <th>4</th>\n",
       "      <td>100004</td>\n",
       "      <td>0</td>\n",
       "      <td>Revolving loans</td>\n",
       "      <td>M</td>\n",
       "      <td>67500.0</td>\n",
       "      <td>135000.0</td>\n",
       "      <td>6750.0</td>\n",
       "      <td>135000.0</td>\n",
       "      <td>Working</td>\n",
       "      <td>Secondary / secondary special</td>\n",
       "      <td>...</td>\n",
       "      <td>POS mobile without interest</td>\n",
       "      <td>365243.0</td>\n",
       "      <td>-784.0</td>\n",
       "      <td>-694.0</td>\n",
       "      <td>-724.0</td>\n",
       "      <td>-714.0</td>\n",
       "      <td>0.0</td>\n",
       "      <td>52.2</td>\n",
       "      <td>above middle</td>\n",
       "      <td>0</td>\n",
       "    </tr>\n",
       "  </tbody>\n",
       "</table>\n",
       "<p>5 rows × 68 columns</p>\n",
       "</div>"
      ],
      "text/plain": [
       "   SK_ID_CURR  TARGET NAME_CONTRACT_TYPE_x CODE_GENDER  AMT_INCOME_TOTAL  \\\n",
       "0      100002       1           Cash loans           M          202500.0   \n",
       "1      100003       0           Cash loans           F          270000.0   \n",
       "2      100003       0           Cash loans           F          270000.0   \n",
       "3      100003       0           Cash loans           F          270000.0   \n",
       "4      100004       0      Revolving loans           M           67500.0   \n",
       "\n",
       "   AMT_CREDIT_x  AMT_ANNUITY_x  AMT_GOODS_PRICE_x NAME_INCOME_TYPE  \\\n",
       "0      406597.5        24700.5           351000.0          Working   \n",
       "1     1293502.5        35698.5          1129500.0    State servant   \n",
       "2     1293502.5        35698.5          1129500.0    State servant   \n",
       "3     1293502.5        35698.5          1129500.0    State servant   \n",
       "4      135000.0         6750.0           135000.0          Working   \n",
       "\n",
       "             NAME_EDUCATION_TYPE  ...          PRODUCT_COMBINATION  \\\n",
       "0  Secondary / secondary special  ...      POS other with interest   \n",
       "1               Higher education  ...             Cash X-Sell: low   \n",
       "2               Higher education  ...   POS industry with interest   \n",
       "3               Higher education  ...  POS household with interest   \n",
       "4  Secondary / secondary special  ...  POS mobile without interest   \n",
       "\n",
       "  DAYS_FIRST_DRAWING  DAYS_FIRST_DUE  DAYS_LAST_DUE_1ST_VERSION  \\\n",
       "0           365243.0          -565.0                      125.0   \n",
       "1           365243.0          -716.0                     -386.0   \n",
       "2           365243.0          -797.0                     -647.0   \n",
       "3           365243.0         -2310.0                    -1980.0   \n",
       "4           365243.0          -784.0                     -694.0   \n",
       "\n",
       "   DAYS_LAST_DUE  DAYS_TERMINATION  NFLAG_INSURED_ON_APPROVAL   AGE  \\\n",
       "0          -25.0             -17.0                        0.0  25.9   \n",
       "1         -536.0            -527.0                        1.0  45.9   \n",
       "2         -647.0            -639.0                        0.0  45.9   \n",
       "3        -1980.0           -1976.0                        1.0  45.9   \n",
       "4         -724.0            -714.0                        0.0  52.2   \n",
       "\n",
       "      AGE_GROUP  ONGOING_LOAN  \n",
       "0        middle             0  \n",
       "1  above middle             0  \n",
       "2  above middle             0  \n",
       "3  above middle             0  \n",
       "4  above middle             0  \n",
       "\n",
       "[5 rows x 68 columns]"
      ]
     },
     "execution_count": 111,
     "metadata": {},
     "output_type": "execute_result"
    }
   ],
   "source": [
    "newApp.head()"
   ]
  },
  {
   "cell_type": "code",
   "execution_count": 112,
   "id": "8a7d7710",
   "metadata": {},
   "outputs": [],
   "source": [
    "newApp=newApp.drop([\"DAYS_FIRST_DUE\",\"DAYS_LAST_DUE_1ST_VERSION\",\"DAYS_LAST_DUE\",\"DAYS_TERMINATION\"],axis=1)"
   ]
  },
  {
   "cell_type": "code",
   "execution_count": 113,
   "id": "d82bdece",
   "metadata": {},
   "outputs": [
    {
     "name": "stdout",
     "output_type": "stream",
     "text": [
      "<class 'pandas.core.frame.DataFrame'>\n",
      "Int64Index: 1419754 entries, 0 to 1430154\n",
      "Data columns (total 64 columns):\n",
      " #   Column                       Non-Null Count    Dtype  \n",
      "---  ------                       --------------    -----  \n",
      " 0   SK_ID_CURR                   1419754 non-null  int64  \n",
      " 1   TARGET                       1419754 non-null  int64  \n",
      " 2   NAME_CONTRACT_TYPE_x         1419754 non-null  object \n",
      " 3   CODE_GENDER                  1419703 non-null  object \n",
      " 4   AMT_INCOME_TOTAL             1419754 non-null  float64\n",
      " 5   AMT_CREDIT_x                 1419754 non-null  float64\n",
      " 6   AMT_ANNUITY_x                1419661 non-null  float64\n",
      " 7   AMT_GOODS_PRICE_x            1418628 non-null  float64\n",
      " 8   NAME_INCOME_TYPE             1419754 non-null  object \n",
      " 9   NAME_EDUCATION_TYPE          1419754 non-null  object \n",
      " 10  NAME_FAMILY_STATUS           1419754 non-null  object \n",
      " 11  NAME_HOUSING_TYPE            1419754 non-null  object \n",
      " 12  REGION_POPULATION_RELATIVE   1419754 non-null  float64\n",
      " 13  DAYS_BIRTH                   1419754 non-null  int64  \n",
      " 14  DAYS_EMPLOYED                1419754 non-null  int64  \n",
      " 15  DAYS_REGISTRATION            1419754 non-null  float64\n",
      " 16  DAYS_ID_PUBLISH              1419754 non-null  int64  \n",
      " 17  OCCUPATION_TYPE              959784 non-null   object \n",
      " 18  CNT_FAM_MEMBERS              1419752 non-null  float64\n",
      " 19  REGION_RATING_CLIENT         1419754 non-null  int64  \n",
      " 20  REGION_RATING_CLIENT_W_CITY  1419754 non-null  int64  \n",
      " 21  ORGANIZATION_TYPE            1419754 non-null  object \n",
      " 22  EXT_SOURCE_2                 1417860 non-null  float64\n",
      " 23  EXT_SOURCE_3                 1175658 non-null  float64\n",
      " 24  OBS_30_CNT_SOCIAL_CIRCLE     1416376 non-null  float64\n",
      " 25  DEF_30_CNT_SOCIAL_CIRCLE     1416376 non-null  float64\n",
      " 26  OBS_60_CNT_SOCIAL_CIRCLE     1416376 non-null  float64\n",
      " 27  DEF_60_CNT_SOCIAL_CIRCLE     1416376 non-null  float64\n",
      " 28  AMT_REQ_CREDIT_BUREAU_HOUR   1254971 non-null  float64\n",
      " 29  AMT_REQ_CREDIT_BUREAU_DAY    1254971 non-null  float64\n",
      " 30  AMT_REQ_CREDIT_BUREAU_WEEK   1254971 non-null  float64\n",
      " 31  AMT_REQ_CREDIT_BUREAU_MON    1254971 non-null  float64\n",
      " 32  AMT_REQ_CREDIT_BUREAU_QRT    1254971 non-null  float64\n",
      " 33  AMT_REQ_CREDIT_BUREAU_YEAR   1254971 non-null  float64\n",
      " 34  DOCUMENT_COUNTS              1419754 non-null  int64  \n",
      " 35  SK_ID_PREV                   1403313 non-null  float64\n",
      " 36  NAME_CONTRACT_TYPE_y         1403001 non-null  object \n",
      " 37  AMT_ANNUITY_y                1096549 non-null  float64\n",
      " 38  AMT_APPLICATION              1403313 non-null  float64\n",
      " 39  AMT_CREDIT_y                 1403312 non-null  float64\n",
      " 40  AMT_GOODS_PRICE_y            1088723 non-null  float64\n",
      " 41  FLAG_LAST_APPL_PER_CONTRACT  1403313 non-null  object \n",
      " 42  NFLAG_LAST_APPL_IN_DAY       1403313 non-null  float64\n",
      " 43  RATE_DOWN_PAYMENT            662660 non-null   float64\n",
      " 44  NAME_CASH_LOAN_PURPOSE       1403313 non-null  object \n",
      " 45  NAME_CONTRACT_STATUS         1403313 non-null  object \n",
      " 46  DAYS_DECISION                1403313 non-null  float64\n",
      " 47  NAME_PAYMENT_TYPE            1403313 non-null  object \n",
      " 48  CODE_REJECT_REASON           256956 non-null   object \n",
      " 49  NAME_CLIENT_TYPE             1401774 non-null  object \n",
      " 50  NAME_GOODS_CATEGORY          1403313 non-null  object \n",
      " 51  NAME_PORTFOLIO               1403313 non-null  object \n",
      " 52  NAME_PRODUCT_TYPE            1403313 non-null  object \n",
      " 53  CHANNEL_TYPE                 1403313 non-null  object \n",
      " 54  SELLERPLACE_AREA             1403313 non-null  float64\n",
      " 55  NAME_SELLER_INDUSTRY         694513 non-null   object \n",
      " 56  CNT_PAYMENT                  1096550 non-null  float64\n",
      " 57  NAME_YIELD_GROUP             982185 non-null   object \n",
      " 58  PRODUCT_COMBINATION          1403001 non-null  object \n",
      " 59  DAYS_FIRST_DRAWING           850414 non-null   float64\n",
      " 60  NFLAG_INSURED_ON_APPROVAL    850414 non-null   float64\n",
      " 61  AGE                          1419754 non-null  float64\n",
      " 62  AGE_GROUP                    1419754 non-null  object \n",
      " 63  ONGOING_LOAN                 1419754 non-null  int64  \n",
      "dtypes: float64(32), int64(9), object(23)\n",
      "memory usage: 704.1+ MB\n"
     ]
    }
   ],
   "source": [
    "newApp.info()"
   ]
  },
  {
   "cell_type": "code",
   "execution_count": 114,
   "id": "2e9d0f6c",
   "metadata": {},
   "outputs": [
    {
     "data": {
      "text/plain": [
       "0    177197\n",
       "1     16263\n",
       "Name: TARGET, dtype: int64"
      ]
     },
     "execution_count": 114,
     "metadata": {},
     "output_type": "execute_result"
    }
   ],
   "source": [
    "newApp[newApp[\"ONGOING_LOAN\"]==1][\"TARGET\"].value_counts()"
   ]
  },
  {
   "cell_type": "code",
   "execution_count": 115,
   "id": "d49064af",
   "metadata": {},
   "outputs": [
    {
     "data": {
      "text/plain": [
       "0    1120397\n",
       "1     105897\n",
       "Name: TARGET, dtype: int64"
      ]
     },
     "execution_count": 115,
     "metadata": {},
     "output_type": "execute_result"
    }
   ],
   "source": [
    "newApp[newApp[\"ONGOING_LOAN\"]==0][\"TARGET\"].value_counts()"
   ]
  },
  {
   "cell_type": "markdown",
   "id": "d0592d85",
   "metadata": {},
   "source": [
    "Numerical Variables\n"
   ]
  },
  {
   "cell_type": "code",
   "execution_count": 116,
   "id": "506a3385",
   "metadata": {},
   "outputs": [
    {
     "data": {
      "text/plain": [
       "0          1.9\n",
       "1          0.4\n",
       "2          0.4\n",
       "3          0.4\n",
       "4          1.0\n",
       "          ... \n",
       "1430150    4.6\n",
       "1430151    4.6\n",
       "1430152    4.6\n",
       "1430153    4.6\n",
       "1430154    4.6\n",
       "Name: REGION_POPULATION_RELATIVE, Length: 1419754, dtype: float64"
      ]
     },
     "execution_count": 116,
     "metadata": {},
     "output_type": "execute_result"
    }
   ],
   "source": [
    "newApp[\"REGION_POPULATION_RELATIVE\"]*100"
   ]
  },
  {
   "cell_type": "code",
   "execution_count": 117,
   "id": "8972f228",
   "metadata": {},
   "outputs": [],
   "source": [
    "newApp[\"AREA\"]=newApp[\"REGION_POPULATION_RELATIVE\"].apply(lambda x: \"low\" if(x<0.02) else \"high\")"
   ]
  },
  {
   "cell_type": "code",
   "execution_count": 118,
   "id": "0ad6c365",
   "metadata": {},
   "outputs": [
    {
     "data": {
      "text/plain": [
       "low     757433\n",
       "high    662321\n",
       "Name: AREA, dtype: int64"
      ]
     },
     "execution_count": 118,
     "metadata": {},
     "output_type": "execute_result"
    }
   ],
   "source": [
    "newApp[\"AREA\"].value_counts()"
   ]
  },
  {
   "cell_type": "code",
   "execution_count": 119,
   "id": "1462f613",
   "metadata": {},
   "outputs": [
    {
     "data": {
      "text/plain": [
       "low     757433\n",
       "high    662321\n",
       "Name: AREA, dtype: int64"
      ]
     },
     "execution_count": 119,
     "metadata": {},
     "output_type": "execute_result"
    }
   ],
   "source": [
    "newApp[\"AREA\"].value_counts()"
   ]
  },
  {
   "cell_type": "code",
   "execution_count": 120,
   "id": "7eab7410",
   "metadata": {},
   "outputs": [
    {
     "data": {
      "text/plain": [
       "<AxesSubplot:>"
      ]
     },
     "execution_count": 120,
     "metadata": {},
     "output_type": "execute_result"
    },
    {
     "data": {
      "image/png": "[encoded data removed]",
      "text/plain": [
       "<Figure size 432x288 with 1 Axes>"
      ]
     },
     "metadata": {
      "needs_background": "light"
     },
     "output_type": "display_data"
    }
   ],
   "source": [
    "newApp[\"AMT_INCOME_TOTAL\"].plot.box()"
   ]
  },
  {
   "cell_type": "code",
   "execution_count": 123,
   "id": "0ae7c3c8",
   "metadata": {},
   "outputs": [
    {
     "data": {
      "text/plain": [
       "'medium'"
      ]
     },
     "execution_count": 123,
     "metadata": {},
     "output_type": "execute_result"
    }
   ],
   "source": [
    "def income(x):\n",
    "    if x<=100000:\n",
    "        return \"very low\"\n",
    "    elif x>100000 and x<=150000:\n",
    "        return \"low\"\n",
    "    elif x>150000 and x<=200000:\n",
    "        return \"medium\"\n",
    "    elif x>200000 and x<=250000:\n",
    "        return \"high\"\n",
    "    else:\n",
    "        return \"very high\"\n",
    "\n",
    "income(163577)"
   ]
  },
  {
   "cell_type": "code",
   "execution_count": 124,
   "id": "d938d7bd",
   "metadata": {},
   "outputs": [],
   "source": [
    "newApp[\"INCOME\"]=newApp[\"AMT_INCOME_TOTAL\"].apply(lambda x: income(int(x)))"
   ]
  },
  {
   "cell_type": "code",
   "execution_count": 128,
   "id": "ed22cf95",
   "metadata": {},
   "outputs": [
    {
     "data": {
      "text/plain": [
       "0.25     270000.0\n",
       "0.50     508495.5\n",
       "0.75     808650.0\n",
       "0.99    1800000.0\n",
       "1.00    4050000.0\n",
       "Name: AMT_CREDIT_x, dtype: float64"
      ]
     },
     "execution_count": 128,
     "metadata": {},
     "output_type": "execute_result"
    }
   ],
   "source": [
    "newApp[\"AMT_CREDIT_x\"].quantile([0.25,0.5,0.75,0.99,1])"
   ]
  },
  {
   "cell_type": "code",
   "execution_count": null,
   "id": "0127056c",
   "metadata": {},
   "outputs": [],
   "source": []
  },
  {
   "cell_type": "code",
   "execution_count": 140,
   "id": "fc5e2059",
   "metadata": {},
   "outputs": [
    {
     "data": {
      "text/plain": [
       "'high'"
      ]
     },
     "execution_count": 140,
     "metadata": {},
     "output_type": "execute_result"
    }
   ],
   "source": [
    "def credit(x):\n",
    "    if x<=270000.0:\n",
    "        return \"very low\"\n",
    "    elif x>270000.0 and x<=508495.0:\n",
    "        return \"low\"\n",
    "    elif x>508495.0 and x<=808650.0:\n",
    "        return \"medium\"\n",
    "    elif x>808650.0 and x<=1800000.0:\n",
    "        return \"high\"\n",
    "    else:\n",
    "        return \"very high\"\n",
    "\n",
    "credit(1635707)"
   ]
  },
  {
   "cell_type": "code",
   "execution_count": 141,
   "id": "cb010a42",
   "metadata": {},
   "outputs": [],
   "source": [
    "newApp[\"CREDIT\"]=newApp[\"AMT_CREDIT_x\"].apply(lambda x: credit(int(x)))"
   ]
  },
  {
   "cell_type": "code",
   "execution_count": null,
   "id": "1e3fb883",
   "metadata": {},
   "outputs": [],
   "source": []
  },
  {
   "cell_type": "code",
   "execution_count": 142,
   "id": "95a4844c",
   "metadata": {},
   "outputs": [],
   "source": [
    "newApp[\"AMT_CREDIT_y\"]=newApp[\"AMT_CREDIT_y\"].replace([\"NaN\"],np.nan)"
   ]
  },
  {
   "cell_type": "code",
   "execution_count": 143,
   "id": "4a4acb16",
   "metadata": {},
   "outputs": [],
   "source": [
    "newApp[\"CREDIT_y\"]=newApp[\"AMT_CREDIT_y\"].apply(lambda x: credit((x)) )"
   ]
  },
  {
   "cell_type": "code",
   "execution_count": 144,
   "id": "710b280f",
   "metadata": {},
   "outputs": [
    {
     "data": {
      "text/plain": [
       "0.25     16798.5\n",
       "0.50     24925.5\n",
       "0.75     34578.0\n",
       "0.99     69165.0\n",
       "1.00    258025.5\n",
       "Name: AMT_ANNUITY_x, dtype: float64"
      ]
     },
     "execution_count": 144,
     "metadata": {},
     "output_type": "execute_result"
    }
   ],
   "source": [
    "newApp[\"AMT_ANNUITY_x\"].quantile([0.25,0.5,0.75,0.99,1])"
   ]
  },
  {
   "cell_type": "code",
   "execution_count": 145,
   "id": "b9c07fa6",
   "metadata": {},
   "outputs": [
    {
     "data": {
      "text/plain": [
       "'very low'"
      ]
     },
     "execution_count": 145,
     "metadata": {},
     "output_type": "execute_result"
    }
   ],
   "source": [
    "def annuity(x):\n",
    "    if x<=16798.5:\n",
    "        return \"very low\"\n",
    "    elif x>270000.0 and x<=24925.5:\n",
    "        return \"low\"\n",
    "    elif x>24925.5 and x<=34578.0:\n",
    "        return \"medium\"\n",
    "    elif x>34578.0 and x<=69165.0:\n",
    "        return \"high\"\n",
    "    else:\n",
    "        return \"very high\"\n",
    "\n",
    "annuity(16357)"
   ]
  },
  {
   "cell_type": "code",
   "execution_count": 146,
   "id": "5b7086e5",
   "metadata": {},
   "outputs": [],
   "source": [
    "newApp[\"ANNUITY_x\"]=newApp[\"AMT_ANNUITY_x\"].apply(lambda x: annuity((x)) )"
   ]
  },
  {
   "cell_type": "code",
   "execution_count": 147,
   "id": "2677fbe8",
   "metadata": {},
   "outputs": [],
   "source": [
    "newApp[\"ANNUITY_y\"]=newApp[\"AMT_ANNUITY_y\"].apply(lambda x: annuity((x)) )"
   ]
  },
  {
   "cell_type": "markdown",
   "id": "c52cb28d",
   "metadata": {},
   "source": [
    "# Bivariate analysis\n",
    "income vs target\n",
    "Agegroup vs target\n",
    "credit vs target"
   ]
  },
  {
   "cell_type": "code",
   "execution_count": 148,
   "id": "de83c03d",
   "metadata": {},
   "outputs": [
    {
     "data": {
      "text/html": [
       "<div>\n",
       "<style scoped>\n",
       "    .dataframe tbody tr th:only-of-type {\n",
       "        vertical-align: middle;\n",
       "    }\n",
       "\n",
       "    .dataframe tbody tr th {\n",
       "        vertical-align: top;\n",
       "    }\n",
       "\n",
       "    .dataframe thead th {\n",
       "        text-align: right;\n",
       "    }\n",
       "</style>\n",
       "<table border=\"1\" class=\"dataframe\">\n",
       "  <thead>\n",
       "    <tr style=\"text-align: right;\">\n",
       "      <th></th>\n",
       "      <th>SK_ID_CURR</th>\n",
       "      <th>TARGET</th>\n",
       "      <th>NAME_CONTRACT_TYPE_x</th>\n",
       "      <th>CODE_GENDER</th>\n",
       "      <th>AMT_INCOME_TOTAL</th>\n",
       "      <th>AMT_CREDIT_x</th>\n",
       "      <th>AMT_ANNUITY_x</th>\n",
       "      <th>AMT_GOODS_PRICE_x</th>\n",
       "      <th>NAME_INCOME_TYPE</th>\n",
       "      <th>NAME_EDUCATION_TYPE</th>\n",
       "      <th>...</th>\n",
       "      <th>NFLAG_INSURED_ON_APPROVAL</th>\n",
       "      <th>AGE</th>\n",
       "      <th>AGE_GROUP</th>\n",
       "      <th>ONGOING_LOAN</th>\n",
       "      <th>AREA</th>\n",
       "      <th>INCOME</th>\n",
       "      <th>CREDIT</th>\n",
       "      <th>CREDIT_y</th>\n",
       "      <th>ANNUITY_x</th>\n",
       "      <th>ANNUITY_y</th>\n",
       "    </tr>\n",
       "  </thead>\n",
       "  <tbody>\n",
       "    <tr>\n",
       "      <th>0</th>\n",
       "      <td>100002</td>\n",
       "      <td>1</td>\n",
       "      <td>Cash loans</td>\n",
       "      <td>M</td>\n",
       "      <td>202500.0</td>\n",
       "      <td>406597.5</td>\n",
       "      <td>24700.5</td>\n",
       "      <td>351000.0</td>\n",
       "      <td>Working</td>\n",
       "      <td>Secondary / secondary special</td>\n",
       "      <td>...</td>\n",
       "      <td>0.0</td>\n",
       "      <td>25.9</td>\n",
       "      <td>middle</td>\n",
       "      <td>0</td>\n",
       "      <td>low</td>\n",
       "      <td>high</td>\n",
       "      <td>low</td>\n",
       "      <td>very low</td>\n",
       "      <td>very high</td>\n",
       "      <td>very low</td>\n",
       "    </tr>\n",
       "    <tr>\n",
       "      <th>1</th>\n",
       "      <td>100003</td>\n",
       "      <td>0</td>\n",
       "      <td>Cash loans</td>\n",
       "      <td>F</td>\n",
       "      <td>270000.0</td>\n",
       "      <td>1293502.5</td>\n",
       "      <td>35698.5</td>\n",
       "      <td>1129500.0</td>\n",
       "      <td>State servant</td>\n",
       "      <td>Higher education</td>\n",
       "      <td>...</td>\n",
       "      <td>1.0</td>\n",
       "      <td>45.9</td>\n",
       "      <td>above middle</td>\n",
       "      <td>0</td>\n",
       "      <td>low</td>\n",
       "      <td>very high</td>\n",
       "      <td>high</td>\n",
       "      <td>high</td>\n",
       "      <td>high</td>\n",
       "      <td>very high</td>\n",
       "    </tr>\n",
       "    <tr>\n",
       "      <th>2</th>\n",
       "      <td>100003</td>\n",
       "      <td>0</td>\n",
       "      <td>Cash loans</td>\n",
       "      <td>F</td>\n",
       "      <td>270000.0</td>\n",
       "      <td>1293502.5</td>\n",
       "      <td>35698.5</td>\n",
       "      <td>1129500.0</td>\n",
       "      <td>State servant</td>\n",
       "      <td>Higher education</td>\n",
       "      <td>...</td>\n",
       "      <td>0.0</td>\n",
       "      <td>45.9</td>\n",
       "      <td>above middle</td>\n",
       "      <td>0</td>\n",
       "      <td>low</td>\n",
       "      <td>very high</td>\n",
       "      <td>high</td>\n",
       "      <td>low</td>\n",
       "      <td>high</td>\n",
       "      <td>high</td>\n",
       "    </tr>\n",
       "    <tr>\n",
       "      <th>3</th>\n",
       "      <td>100003</td>\n",
       "      <td>0</td>\n",
       "      <td>Cash loans</td>\n",
       "      <td>F</td>\n",
       "      <td>270000.0</td>\n",
       "      <td>1293502.5</td>\n",
       "      <td>35698.5</td>\n",
       "      <td>1129500.0</td>\n",
       "      <td>State servant</td>\n",
       "      <td>Higher education</td>\n",
       "      <td>...</td>\n",
       "      <td>1.0</td>\n",
       "      <td>45.9</td>\n",
       "      <td>above middle</td>\n",
       "      <td>0</td>\n",
       "      <td>low</td>\n",
       "      <td>very high</td>\n",
       "      <td>high</td>\n",
       "      <td>very low</td>\n",
       "      <td>high</td>\n",
       "      <td>very low</td>\n",
       "    </tr>\n",
       "    <tr>\n",
       "      <th>4</th>\n",
       "      <td>100004</td>\n",
       "      <td>0</td>\n",
       "      <td>Revolving loans</td>\n",
       "      <td>M</td>\n",
       "      <td>67500.0</td>\n",
       "      <td>135000.0</td>\n",
       "      <td>6750.0</td>\n",
       "      <td>135000.0</td>\n",
       "      <td>Working</td>\n",
       "      <td>Secondary / secondary special</td>\n",
       "      <td>...</td>\n",
       "      <td>0.0</td>\n",
       "      <td>52.2</td>\n",
       "      <td>above middle</td>\n",
       "      <td>0</td>\n",
       "      <td>low</td>\n",
       "      <td>very low</td>\n",
       "      <td>very low</td>\n",
       "      <td>very low</td>\n",
       "      <td>very low</td>\n",
       "      <td>very low</td>\n",
       "    </tr>\n",
       "  </tbody>\n",
       "</table>\n",
       "<p>5 rows × 70 columns</p>\n",
       "</div>"
      ],
      "text/plain": [
       "   SK_ID_CURR  TARGET NAME_CONTRACT_TYPE_x CODE_GENDER  AMT_INCOME_TOTAL  \\\n",
       "0      100002       1           Cash loans           M          202500.0   \n",
       "1      100003       0           Cash loans           F          270000.0   \n",
       "2      100003       0           Cash loans           F          270000.0   \n",
       "3      100003       0           Cash loans           F          270000.0   \n",
       "4      100004       0      Revolving loans           M           67500.0   \n",
       "\n",
       "   AMT_CREDIT_x  AMT_ANNUITY_x  AMT_GOODS_PRICE_x NAME_INCOME_TYPE  \\\n",
       "0      406597.5        24700.5           351000.0          Working   \n",
       "1     1293502.5        35698.5          1129500.0    State servant   \n",
       "2     1293502.5        35698.5          1129500.0    State servant   \n",
       "3     1293502.5        35698.5          1129500.0    State servant   \n",
       "4      135000.0         6750.0           135000.0          Working   \n",
       "\n",
       "             NAME_EDUCATION_TYPE  ... NFLAG_INSURED_ON_APPROVAL   AGE  \\\n",
       "0  Secondary / secondary special  ...                       0.0  25.9   \n",
       "1               Higher education  ...                       1.0  45.9   \n",
       "2               Higher education  ...                       0.0  45.9   \n",
       "3               Higher education  ...                       1.0  45.9   \n",
       "4  Secondary / secondary special  ...                       0.0  52.2   \n",
       "\n",
       "      AGE_GROUP  ONGOING_LOAN  AREA     INCOME    CREDIT  CREDIT_y  ANNUITY_x  \\\n",
       "0        middle             0   low       high       low  very low  very high   \n",
       "1  above middle             0   low  very high      high      high       high   \n",
       "2  above middle             0   low  very high      high       low       high   \n",
       "3  above middle             0   low  very high      high  very low       high   \n",
       "4  above middle             0   low   very low  very low  very low   very low   \n",
       "\n",
       "   ANNUITY_y  \n",
       "0   very low  \n",
       "1  very high  \n",
       "2       high  \n",
       "3   very low  \n",
       "4   very low  \n",
       "\n",
       "[5 rows x 70 columns]"
      ]
     },
     "execution_count": 148,
     "metadata": {},
     "output_type": "execute_result"
    }
   ],
   "source": [
    "newApp.head()"
   ]
  },
  {
   "cell_type": "code",
   "execution_count": 158,
   "id": "f74a1c12",
   "metadata": {},
   "outputs": [
    {
     "data": {
      "text/plain": [
       "<AxesSubplot:xlabel='AGE_GROUP'>"
      ]
     },
     "execution_count": 158,
     "metadata": {},
     "output_type": "execute_result"
    },
    {
     "data": {
      "image/png": "[encoded data removed]",
      "text/plain": [
       "<Figure size 432x288 with 1 Axes>"
      ]
     },
     "metadata": {
      "needs_background": "light"
     },
     "output_type": "display_data"
    }
   ],
   "source": [
    "newApp.groupby(\"AGE_GROUP\")[\"TARGET\"].mean().plot.bar()"
   ]
  },
  {
   "cell_type": "code",
   "execution_count": 154,
   "id": "a396d260",
   "metadata": {},
   "outputs": [
    {
     "data": {
      "text/plain": [
       "<AxesSubplot:xlabel='INCOME'>"
      ]
     },
     "execution_count": 154,
     "metadata": {},
     "output_type": "execute_result"
    },
    {
     "data": {
      "image/png": "[encoded data removed]",
      "text/plain": [
       "<Figure size 432x288 with 1 Axes>"
      ]
     },
     "metadata": {
      "needs_background": "light"
     },
     "output_type": "display_data"
    }
   ],
   "source": [
    "newApp.groupby(\"INCOME\")[\"TARGET\"].mean().plot.bar()"
   ]
  },
  {
   "cell_type": "code",
   "execution_count": 153,
   "id": "5f57f697",
   "metadata": {},
   "outputs": [
    {
     "data": {
      "text/plain": [
       "<AxesSubplot:xlabel='CREDIT'>"
      ]
     },
     "execution_count": 153,
     "metadata": {},
     "output_type": "execute_result"
    },
    {
     "data": {
      "image/png": "[encoded data removed]",
      "text/plain": [
       "<Figure size 432x288 with 1 Axes>"
      ]
     },
     "metadata": {
      "needs_background": "light"
     },
     "output_type": "display_data"
    }
   ],
   "source": [
    "newApp.groupby(\"CREDIT\")[\"TARGET\"].mean().plot.bar()"
   ]
  },
  {
   "cell_type": "code",
   "execution_count": 159,
   "id": "1ff9c94f",
   "metadata": {},
   "outputs": [
    {
     "data": {
      "text/plain": [
       "CREDIT_y\n",
       "high         0.083035\n",
       "low          0.088318\n",
       "medium       0.095468\n",
       "very high    0.066117\n",
       "very low     0.085806\n",
       "Name: TARGET, dtype: float64"
      ]
     },
     "execution_count": 159,
     "metadata": {},
     "output_type": "execute_result"
    }
   ],
   "source": [
    "newApp.groupby(\"CREDIT_y\")[\"TARGET\"].mean()"
   ]
  },
  {
   "cell_type": "code",
   "execution_count": 155,
   "id": "aa5b7076",
   "metadata": {},
   "outputs": [
    {
     "data": {
      "text/plain": [
       "<AxesSubplot:xlabel='CREDIT_y'>"
      ]
     },
     "execution_count": 155,
     "metadata": {},
     "output_type": "execute_result"
    },
    {
     "data": {
      "image/png": "[encoded data removed]",
      "text/plain": [
       "<Figure size 432x288 with 1 Axes>"
      ]
     },
     "metadata": {
      "needs_background": "light"
     },
     "output_type": "display_data"
    }
   ],
   "source": [
    "newApp.groupby(\"CREDIT_y\")[\"TARGET\"].mean().plot.bar()"
   ]
  },
  {
   "cell_type": "code",
   "execution_count": 156,
   "id": "a05e62d4",
   "metadata": {},
   "outputs": [
    {
     "data": {
      "text/plain": [
       "<AxesSubplot:xlabel='ANNUITY_x'>"
      ]
     },
     "execution_count": 156,
     "metadata": {},
     "output_type": "execute_result"
    },
    {
     "data": {
      "image/png": "[encoded data removed]",
      "text/plain": [
       "<Figure size 432x288 with 1 Axes>"
      ]
     },
     "metadata": {
      "needs_background": "light"
     },
     "output_type": "display_data"
    }
   ],
   "source": [
    "newApp.groupby(\"ANNUITY_x\")[\"TARGET\"].mean().plot.bar()"
   ]
  },
  {
   "cell_type": "code",
   "execution_count": 157,
   "id": "45dea3d2",
   "metadata": {},
   "outputs": [
    {
     "data": {
      "text/plain": [
       "<AxesSubplot:xlabel='ANNUITY_y'>"
      ]
     },
     "execution_count": 157,
     "metadata": {},
     "output_type": "execute_result"
    },
    {
     "data": {
      "image/png": "[encoded data removed]",
      "text/plain": [
       "<Figure size 432x288 with 1 Axes>"
      ]
     },
     "metadata": {
      "needs_background": "light"
     },
     "output_type": "display_data"
    }
   ],
   "source": [
    "newApp.groupby(\"ANNUITY_y\")[\"TARGET\"].mean().plot.bar()"
   ]
  },
  {
   "cell_type": "code",
   "execution_count": 160,
   "id": "452e8ef5",
   "metadata": {},
   "outputs": [
    {
     "data": {
      "text/plain": [
       "Repeater     1028742\n",
       "New           258918\n",
       "Refreshed     114114\n",
       "Name: NAME_CLIENT_TYPE, dtype: int64"
      ]
     },
     "execution_count": 160,
     "metadata": {},
     "output_type": "execute_result"
    }
   ],
   "source": [
    "newApp[\"NAME_CLIENT_TYPE\"].value_counts()"
   ]
  },
  {
   "cell_type": "code",
   "execution_count": 161,
   "id": "c8519ba7",
   "metadata": {},
   "outputs": [
    {
     "data": {
      "text/plain": [
       "<AxesSubplot:xlabel='NAME_CLIENT_TYPE'>"
      ]
     },
     "execution_count": 161,
     "metadata": {},
     "output_type": "execute_result"
    },
    {
     "data": {
      "image/png": "[encoded data removed]",
      "text/plain": [
       "<Figure size 432x288 with 1 Axes>"
      ]
     },
     "metadata": {
      "needs_background": "light"
     },
     "output_type": "display_data"
    }
   ],
   "source": [
    "newApp.groupby(\"NAME_CLIENT_TYPE\")[\"TARGET\"].mean().plot.bar()"
   ]
  },
  {
   "cell_type": "code",
   "execution_count": 167,
   "id": "4fa85724",
   "metadata": {},
   "outputs": [
    {
     "data": {
      "text/plain": [
       "<AxesSubplot:xlabel='NAME_YIELD_GROUP'>"
      ]
     },
     "execution_count": 167,
     "metadata": {},
     "output_type": "execute_result"
    },
    {
     "data": {
      "image/png": "[encoded data removed]",
      "text/plain": [
       "<Figure size 432x288 with 1 Axes>"
      ]
     },
     "metadata": {
      "needs_background": "light"
     },
     "output_type": "display_data"
    }
   ],
   "source": [
    "newApp.groupby(\"NAME_YIELD_GROUP\")[\"TARGET\"].mean().plot.bar()"
   ]
  },
  {
   "cell_type": "markdown",
   "id": "d4e1b1a4",
   "metadata": {},
   "source": [
    "## Multi-Variate Analysis"
   ]
  },
  {
   "cell_type": "code",
   "execution_count": 183,
   "id": "dec519fb",
   "metadata": {},
   "outputs": [],
   "source": [
    "result=pd.pivot_table(data=newApp,index=\"NAME_YIELD_GROUP\",columns=\"NAME_CONTRACT_STATUS\",values=\"TARGET\", aggfunc='mean')"
   ]
  },
  {
   "cell_type": "code",
   "execution_count": 184,
   "id": "0b8be68f",
   "metadata": {},
   "outputs": [
    {
     "data": {
      "text/plain": [
       "<AxesSubplot:xlabel='NAME_CONTRACT_STATUS', ylabel='NAME_YIELD_GROUP'>"
      ]
     },
     "execution_count": 184,
     "metadata": {},
     "output_type": "execute_result"
    },
    {
     "data": {
      "image/png": "[encoded data removed]",
      "text/plain": [
       "<Figure size 432x288 with 2 Axes>"
      ]
     },
     "metadata": {
      "needs_background": "light"
     },
     "output_type": "display_data"
    }
   ],
   "source": [
    "sns.heatmap(result,annot=True,cmap=\"Greens\")"
   ]
  },
  {
   "cell_type": "code",
   "execution_count": 181,
   "id": "7d067cb3",
   "metadata": {},
   "outputs": [],
   "source": [
    "result=pd.pivot_table(data=newApp,index=\"INCOME\",columns=\"CREDIT\",values=\"TARGET\", aggfunc='mean')"
   ]
  },
  {
   "cell_type": "code",
   "execution_count": 182,
   "id": "d6bb3a1a",
   "metadata": {},
   "outputs": [
    {
     "data": {
      "text/plain": [
       "<AxesSubplot:xlabel='CREDIT', ylabel='INCOME'>"
      ]
     },
     "execution_count": 182,
     "metadata": {},
     "output_type": "execute_result"
    },
    {
     "data": {
      "image/png": "[encoded data removed]",
      "text/plain": [
       "<Figure size 432x288 with 2 Axes>"
      ]
     },
     "metadata": {
      "needs_background": "light"
     },
     "output_type": "display_data"
    }
   ],
   "source": [
    "sns.heatmap(result,annot=True,cmap=\"Greens\")"
   ]
  },
  {
   "cell_type": "code",
   "execution_count": null,
   "id": "da79de4b",
   "metadata": {},
   "outputs": [],
   "source": []
  }
 ],
 "metadata": {
  "kernelspec": {
   "display_name": "Python 3 (ipykernel)",
   "language": "python",
   "name": "python3"
  },
  "language_info": {
   "codemirror_mode": {
    "name": "ipython",
    "version": 3
   },
   "file_extension": ".py",
   "mimetype": "text/x-python",
   "name": "python",
   "nbconvert_exporter": "python",
   "pygments_lexer": "ipython3",
   "version": "3.9.12"
  }
 },
 "nbformat": 4,
 "nbformat_minor": 5
}
